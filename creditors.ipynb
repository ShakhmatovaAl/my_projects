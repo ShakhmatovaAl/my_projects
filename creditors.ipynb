{
 "cells": [
  {
   "cell_type": "markdown",
   "id": "73ed5443",
   "metadata": {},
   "source": [
    "# Исследование надежности заемщиков"
   ]
  },
  {
   "cell_type": "markdown",
   "id": "34f702b1",
   "metadata": {},
   "source": [
    "Исследование проводится для кредитного отдела банка на основании статистики о платежеспособности клиентов. Результаты исследования будут учитываться при посторении модели кредитного скоринга. Для этого нам нужно достичь целей исследования.\n",
    "\n",
    "**Цель исследования - проверка гипотез:**\n",
    "1. Есть ли зависимость между количеством детей и возвратом кредита в срок?\n",
    "2. Есть ли зависимость между семейным положением и возвратом кредита в срок?\n",
    "3. Есть ли зависимость между уровнем дохода и возвратом кредита в срок?\n",
    "4. Как разные цели кредита влияют на его возврат в срок?\n",
    "\n",
    "**Ход исследования**\n",
    "\n",
    "Данные о поведении пользователей мы получаем из файла `data.csv`. О качестве данных ничего не известно. Поэтому перед проверкой гипотез понадобится обзор данных. \n",
    "\n",
    "Мы проверим данные на ошибки и оценим их влияние на исследование. Затем, на этапе предобработки мы исправим самые критичные ошибки данных.\n",
    " \n",
    "Таким образом, исследование пройдёт в три этапа:\n",
    " 1. Обзор данных.\n",
    " 2. Предобработка данных.\n",
    " 3. Проверка гипотез.\n"
   ]
  },
  {
   "cell_type": "markdown",
   "id": "8175bf3a",
   "metadata": {},
   "source": [
    "### Шаг 1. Обзор данных"
   ]
  },
  {
   "cell_type": "code",
   "execution_count": 1,
   "id": "a53491bc",
   "metadata": {
    "scrolled": false
   },
   "outputs": [
    {
     "data": {
      "text/html": [
       "<div>\n",
       "<style scoped>\n",
       "    .dataframe tbody tr th:only-of-type {\n",
       "        vertical-align: middle;\n",
       "    }\n",
       "\n",
       "    .dataframe tbody tr th {\n",
       "        vertical-align: top;\n",
       "    }\n",
       "\n",
       "    .dataframe thead th {\n",
       "        text-align: right;\n",
       "    }\n",
       "</style>\n",
       "<table border=\"1\" class=\"dataframe\">\n",
       "  <thead>\n",
       "    <tr style=\"text-align: right;\">\n",
       "      <th></th>\n",
       "      <th>children</th>\n",
       "      <th>days_employed</th>\n",
       "      <th>dob_years</th>\n",
       "      <th>education</th>\n",
       "      <th>education_id</th>\n",
       "      <th>family_status</th>\n",
       "      <th>family_status_id</th>\n",
       "      <th>gender</th>\n",
       "      <th>income_type</th>\n",
       "      <th>debt</th>\n",
       "      <th>total_income</th>\n",
       "      <th>purpose</th>\n",
       "    </tr>\n",
       "  </thead>\n",
       "  <tbody>\n",
       "    <tr>\n",
       "      <th>0</th>\n",
       "      <td>1</td>\n",
       "      <td>-8437.673028</td>\n",
       "      <td>42</td>\n",
       "      <td>высшее</td>\n",
       "      <td>0</td>\n",
       "      <td>женат / замужем</td>\n",
       "      <td>0</td>\n",
       "      <td>F</td>\n",
       "      <td>сотрудник</td>\n",
       "      <td>0</td>\n",
       "      <td>253875.639453</td>\n",
       "      <td>покупка жилья</td>\n",
       "    </tr>\n",
       "    <tr>\n",
       "      <th>1</th>\n",
       "      <td>1</td>\n",
       "      <td>-4024.803754</td>\n",
       "      <td>36</td>\n",
       "      <td>среднее</td>\n",
       "      <td>1</td>\n",
       "      <td>женат / замужем</td>\n",
       "      <td>0</td>\n",
       "      <td>F</td>\n",
       "      <td>сотрудник</td>\n",
       "      <td>0</td>\n",
       "      <td>112080.014102</td>\n",
       "      <td>приобретение автомобиля</td>\n",
       "    </tr>\n",
       "    <tr>\n",
       "      <th>2</th>\n",
       "      <td>0</td>\n",
       "      <td>-5623.422610</td>\n",
       "      <td>33</td>\n",
       "      <td>Среднее</td>\n",
       "      <td>1</td>\n",
       "      <td>женат / замужем</td>\n",
       "      <td>0</td>\n",
       "      <td>M</td>\n",
       "      <td>сотрудник</td>\n",
       "      <td>0</td>\n",
       "      <td>145885.952297</td>\n",
       "      <td>покупка жилья</td>\n",
       "    </tr>\n",
       "    <tr>\n",
       "      <th>3</th>\n",
       "      <td>3</td>\n",
       "      <td>-4124.747207</td>\n",
       "      <td>32</td>\n",
       "      <td>среднее</td>\n",
       "      <td>1</td>\n",
       "      <td>женат / замужем</td>\n",
       "      <td>0</td>\n",
       "      <td>M</td>\n",
       "      <td>сотрудник</td>\n",
       "      <td>0</td>\n",
       "      <td>267628.550329</td>\n",
       "      <td>дополнительное образование</td>\n",
       "    </tr>\n",
       "    <tr>\n",
       "      <th>4</th>\n",
       "      <td>0</td>\n",
       "      <td>340266.072047</td>\n",
       "      <td>53</td>\n",
       "      <td>среднее</td>\n",
       "      <td>1</td>\n",
       "      <td>гражданский брак</td>\n",
       "      <td>1</td>\n",
       "      <td>F</td>\n",
       "      <td>пенсионер</td>\n",
       "      <td>0</td>\n",
       "      <td>158616.077870</td>\n",
       "      <td>сыграть свадьбу</td>\n",
       "    </tr>\n",
       "    <tr>\n",
       "      <th>5</th>\n",
       "      <td>0</td>\n",
       "      <td>-926.185831</td>\n",
       "      <td>27</td>\n",
       "      <td>высшее</td>\n",
       "      <td>0</td>\n",
       "      <td>гражданский брак</td>\n",
       "      <td>1</td>\n",
       "      <td>M</td>\n",
       "      <td>компаньон</td>\n",
       "      <td>0</td>\n",
       "      <td>255763.565419</td>\n",
       "      <td>покупка жилья</td>\n",
       "    </tr>\n",
       "    <tr>\n",
       "      <th>6</th>\n",
       "      <td>0</td>\n",
       "      <td>-2879.202052</td>\n",
       "      <td>43</td>\n",
       "      <td>высшее</td>\n",
       "      <td>0</td>\n",
       "      <td>женат / замужем</td>\n",
       "      <td>0</td>\n",
       "      <td>F</td>\n",
       "      <td>компаньон</td>\n",
       "      <td>0</td>\n",
       "      <td>240525.971920</td>\n",
       "      <td>операции с жильем</td>\n",
       "    </tr>\n",
       "    <tr>\n",
       "      <th>7</th>\n",
       "      <td>0</td>\n",
       "      <td>-152.779569</td>\n",
       "      <td>50</td>\n",
       "      <td>СРЕДНЕЕ</td>\n",
       "      <td>1</td>\n",
       "      <td>женат / замужем</td>\n",
       "      <td>0</td>\n",
       "      <td>M</td>\n",
       "      <td>сотрудник</td>\n",
       "      <td>0</td>\n",
       "      <td>135823.934197</td>\n",
       "      <td>образование</td>\n",
       "    </tr>\n",
       "    <tr>\n",
       "      <th>8</th>\n",
       "      <td>2</td>\n",
       "      <td>-6929.865299</td>\n",
       "      <td>35</td>\n",
       "      <td>ВЫСШЕЕ</td>\n",
       "      <td>0</td>\n",
       "      <td>гражданский брак</td>\n",
       "      <td>1</td>\n",
       "      <td>F</td>\n",
       "      <td>сотрудник</td>\n",
       "      <td>0</td>\n",
       "      <td>95856.832424</td>\n",
       "      <td>на проведение свадьбы</td>\n",
       "    </tr>\n",
       "    <tr>\n",
       "      <th>9</th>\n",
       "      <td>0</td>\n",
       "      <td>-2188.756445</td>\n",
       "      <td>41</td>\n",
       "      <td>среднее</td>\n",
       "      <td>1</td>\n",
       "      <td>женат / замужем</td>\n",
       "      <td>0</td>\n",
       "      <td>M</td>\n",
       "      <td>сотрудник</td>\n",
       "      <td>0</td>\n",
       "      <td>144425.938277</td>\n",
       "      <td>покупка жилья для семьи</td>\n",
       "    </tr>\n",
       "  </tbody>\n",
       "</table>\n",
       "</div>"
      ],
      "text/plain": [
       "   children  days_employed  dob_years education  education_id  \\\n",
       "0         1   -8437.673028         42    высшее             0   \n",
       "1         1   -4024.803754         36   среднее             1   \n",
       "2         0   -5623.422610         33   Среднее             1   \n",
       "3         3   -4124.747207         32   среднее             1   \n",
       "4         0  340266.072047         53   среднее             1   \n",
       "5         0    -926.185831         27    высшее             0   \n",
       "6         0   -2879.202052         43    высшее             0   \n",
       "7         0    -152.779569         50   СРЕДНЕЕ             1   \n",
       "8         2   -6929.865299         35    ВЫСШЕЕ             0   \n",
       "9         0   -2188.756445         41   среднее             1   \n",
       "\n",
       "      family_status  family_status_id gender income_type  debt   total_income  \\\n",
       "0   женат / замужем                 0      F   сотрудник     0  253875.639453   \n",
       "1   женат / замужем                 0      F   сотрудник     0  112080.014102   \n",
       "2   женат / замужем                 0      M   сотрудник     0  145885.952297   \n",
       "3   женат / замужем                 0      M   сотрудник     0  267628.550329   \n",
       "4  гражданский брак                 1      F   пенсионер     0  158616.077870   \n",
       "5  гражданский брак                 1      M   компаньон     0  255763.565419   \n",
       "6   женат / замужем                 0      F   компаньон     0  240525.971920   \n",
       "7   женат / замужем                 0      M   сотрудник     0  135823.934197   \n",
       "8  гражданский брак                 1      F   сотрудник     0   95856.832424   \n",
       "9   женат / замужем                 0      M   сотрудник     0  144425.938277   \n",
       "\n",
       "                      purpose  \n",
       "0               покупка жилья  \n",
       "1     приобретение автомобиля  \n",
       "2               покупка жилья  \n",
       "3  дополнительное образование  \n",
       "4             сыграть свадьбу  \n",
       "5               покупка жилья  \n",
       "6           операции с жильем  \n",
       "7                 образование  \n",
       "8       на проведение свадьбы  \n",
       "9     покупка жилья для семьи  "
      ]
     },
     "execution_count": 1,
     "metadata": {},
     "output_type": "execute_result"
    }
   ],
   "source": [
    "# импорт библиотеки pandas\n",
    "# чтение файла с данными и сохранение в df\n",
    "import pandas as pd\n",
    "df = pd.read_csv('data.csv')\n",
    "df.head(10)"
   ]
  },
  {
   "cell_type": "code",
   "execution_count": 2,
   "id": "169c6dc4",
   "metadata": {},
   "outputs": [
    {
     "name": "stdout",
     "output_type": "stream",
     "text": [
      "<class 'pandas.core.frame.DataFrame'>\n",
      "RangeIndex: 21525 entries, 0 to 21524\n",
      "Data columns (total 12 columns):\n",
      " #   Column            Non-Null Count  Dtype  \n",
      "---  ------            --------------  -----  \n",
      " 0   children          21525 non-null  int64  \n",
      " 1   days_employed     19351 non-null  float64\n",
      " 2   dob_years         21525 non-null  int64  \n",
      " 3   education         21525 non-null  object \n",
      " 4   education_id      21525 non-null  int64  \n",
      " 5   family_status     21525 non-null  object \n",
      " 6   family_status_id  21525 non-null  int64  \n",
      " 7   gender            21525 non-null  object \n",
      " 8   income_type       21525 non-null  object \n",
      " 9   debt              21525 non-null  int64  \n",
      " 10  total_income      19351 non-null  float64\n",
      " 11  purpose           21525 non-null  object \n",
      "dtypes: float64(2), int64(5), object(5)\n",
      "memory usage: 2.0+ MB\n"
     ]
    }
   ],
   "source": [
    "# получение общей информации о данных таблицы df\n",
    "df.info()"
   ]
  },
  {
   "cell_type": "markdown",
   "id": "08ab0b7e",
   "metadata": {},
   "source": [
    "В таблице содержится 12 столбцов. 2 столбца типа `float64`, 5 - `int64` и 5 - `object`.\n",
    "\n",
    "Согласно документации к данным:\n",
    "\n",
    "* `children` — количество детей в семье\n",
    "* `days_employed` — общий трудовой стаж в днях\n",
    "* `dob_years` — возраст клиента в годах\n",
    "* `education` — уровень образования клиента\n",
    "* `education_id` — идентификатор уровня образования\n",
    "* `family_status` — семейное положение\n",
    "* `family_status_id` — идентификатор семейного положения\n",
    "* `gender` — пол клиента\n",
    "* `income_type` — тип занятости\n",
    "* `debt` — имел ли задолженность по возврату кредитов\n",
    "* `total_income` — ежемесячный доход\n",
    "* `purpose` — цель получения кредита\n",
    "\n",
    "Названия колонок не содержат ошибок. Количество значений в столбцах различается, значит в данных есть пропущенные значения.\n",
    "\n",
    "**Выводы**\n",
    "\n",
    "В каждой строке таблицы — данные платежеспособности клиентов. Часть колонок описывает самого клиента :  количество детей в семье, общий трудовой стаж в днях, возраст клиента в годах, уровень образования клиента, семейное положение, пол клиента, тип занятости, имел ли задолженность по возврату кредитов, ежемесячный доход и цель получения кредита. Остальные данные - идентификаторы: идентификатор уровня образования, идентификатор семейного положения.\n",
    "\n",
    "Предварительно можно утверждать, что, данных достаточно для проверки гипотез. Но встречаются пропуски, артефакты и дубликаты в данных.\n",
    "\n",
    "Чтобы двигаться дальше, нужно устранить проблемы в данных."
   ]
  },
  {
   "cell_type": "markdown",
   "id": "76be517c",
   "metadata": {},
   "source": [
    "### Шаг 2.1 Заполнение пропусков"
   ]
  },
  {
   "cell_type": "code",
   "execution_count": 3,
   "id": "1f3aa339",
   "metadata": {
    "scrolled": true
   },
   "outputs": [
    {
     "data": {
      "text/plain": [
       "children               0\n",
       "days_employed       2174\n",
       "dob_years              0\n",
       "education              0\n",
       "education_id           0\n",
       "family_status          0\n",
       "family_status_id       0\n",
       "gender                 0\n",
       "income_type            0\n",
       "debt                   0\n",
       "total_income        2174\n",
       "purpose                0\n",
       "dtype: int64"
      ]
     },
     "execution_count": 3,
     "metadata": {},
     "output_type": "execute_result"
    }
   ],
   "source": [
    "# подсчет пропусков\n",
    "df.isna().sum()"
   ]
  },
  {
   "cell_type": "code",
   "execution_count": 4,
   "id": "72331967",
   "metadata": {
    "scrolled": false
   },
   "outputs": [
    {
     "data": {
      "text/html": [
       "<style type=\"text/css\">\n",
       "#T_f3589_row0_col0, #T_f3589_row2_col0, #T_f3589_row3_col0, #T_f3589_row4_col0, #T_f3589_row5_col0, #T_f3589_row6_col0, #T_f3589_row7_col0, #T_f3589_row8_col0, #T_f3589_row9_col0, #T_f3589_row11_col0 {\n",
       "  background-color: #3b4cc0;\n",
       "  color: #f1f1f1;\n",
       "}\n",
       "#T_f3589_row1_col0, #T_f3589_row10_col0 {\n",
       "  background-color: #b40426;\n",
       "  color: #f1f1f1;\n",
       "}\n",
       "</style>\n",
       "<table id=\"T_f3589_\">\n",
       "  <thead>\n",
       "    <tr>\n",
       "      <th class=\"blank level0\" >&nbsp;</th>\n",
       "      <th class=\"col_heading level0 col0\" >NaNs, %</th>\n",
       "    </tr>\n",
       "  </thead>\n",
       "  <tbody>\n",
       "    <tr>\n",
       "      <th id=\"T_f3589_level0_row0\" class=\"row_heading level0 row0\" >children</th>\n",
       "      <td id=\"T_f3589_row0_col0\" class=\"data row0 col0\" >0.00</td>\n",
       "    </tr>\n",
       "    <tr>\n",
       "      <th id=\"T_f3589_level0_row1\" class=\"row_heading level0 row1\" >days_employed</th>\n",
       "      <td id=\"T_f3589_row1_col0\" class=\"data row1 col0\" >10.10</td>\n",
       "    </tr>\n",
       "    <tr>\n",
       "      <th id=\"T_f3589_level0_row2\" class=\"row_heading level0 row2\" >dob_years</th>\n",
       "      <td id=\"T_f3589_row2_col0\" class=\"data row2 col0\" >0.00</td>\n",
       "    </tr>\n",
       "    <tr>\n",
       "      <th id=\"T_f3589_level0_row3\" class=\"row_heading level0 row3\" >education</th>\n",
       "      <td id=\"T_f3589_row3_col0\" class=\"data row3 col0\" >0.00</td>\n",
       "    </tr>\n",
       "    <tr>\n",
       "      <th id=\"T_f3589_level0_row4\" class=\"row_heading level0 row4\" >education_id</th>\n",
       "      <td id=\"T_f3589_row4_col0\" class=\"data row4 col0\" >0.00</td>\n",
       "    </tr>\n",
       "    <tr>\n",
       "      <th id=\"T_f3589_level0_row5\" class=\"row_heading level0 row5\" >family_status</th>\n",
       "      <td id=\"T_f3589_row5_col0\" class=\"data row5 col0\" >0.00</td>\n",
       "    </tr>\n",
       "    <tr>\n",
       "      <th id=\"T_f3589_level0_row6\" class=\"row_heading level0 row6\" >family_status_id</th>\n",
       "      <td id=\"T_f3589_row6_col0\" class=\"data row6 col0\" >0.00</td>\n",
       "    </tr>\n",
       "    <tr>\n",
       "      <th id=\"T_f3589_level0_row7\" class=\"row_heading level0 row7\" >gender</th>\n",
       "      <td id=\"T_f3589_row7_col0\" class=\"data row7 col0\" >0.00</td>\n",
       "    </tr>\n",
       "    <tr>\n",
       "      <th id=\"T_f3589_level0_row8\" class=\"row_heading level0 row8\" >income_type</th>\n",
       "      <td id=\"T_f3589_row8_col0\" class=\"data row8 col0\" >0.00</td>\n",
       "    </tr>\n",
       "    <tr>\n",
       "      <th id=\"T_f3589_level0_row9\" class=\"row_heading level0 row9\" >debt</th>\n",
       "      <td id=\"T_f3589_row9_col0\" class=\"data row9 col0\" >0.00</td>\n",
       "    </tr>\n",
       "    <tr>\n",
       "      <th id=\"T_f3589_level0_row10\" class=\"row_heading level0 row10\" >total_income</th>\n",
       "      <td id=\"T_f3589_row10_col0\" class=\"data row10 col0\" >10.10</td>\n",
       "    </tr>\n",
       "    <tr>\n",
       "      <th id=\"T_f3589_level0_row11\" class=\"row_heading level0 row11\" >purpose</th>\n",
       "      <td id=\"T_f3589_row11_col0\" class=\"data row11 col0\" >0.00</td>\n",
       "    </tr>\n",
       "  </tbody>\n",
       "</table>\n"
      ],
      "text/plain": [
       "<pandas.io.formats.style.Styler at 0x7fd5e171bf70>"
      ]
     },
     "metadata": {},
     "output_type": "display_data"
    }
   ],
   "source": [
    "# подсчет процента пропусков от общего количества\n",
    "display(pd.DataFrame(round((df.isna().mean()*100),2), columns=['NaNs, %']).style.format('{:.2f}').background_gradient('coolwarm'))"
   ]
  },
  {
   "cell_type": "code",
   "execution_count": 5,
   "id": "646db53a",
   "metadata": {},
   "outputs": [
    {
     "data": {
      "text/html": [
       "<div>\n",
       "<style scoped>\n",
       "    .dataframe tbody tr th:only-of-type {\n",
       "        vertical-align: middle;\n",
       "    }\n",
       "\n",
       "    .dataframe tbody tr th {\n",
       "        vertical-align: top;\n",
       "    }\n",
       "\n",
       "    .dataframe thead th {\n",
       "        text-align: right;\n",
       "    }\n",
       "</style>\n",
       "<table border=\"1\" class=\"dataframe\">\n",
       "  <thead>\n",
       "    <tr style=\"text-align: right;\">\n",
       "      <th></th>\n",
       "      <th>children</th>\n",
       "      <th>days_employed</th>\n",
       "      <th>dob_years</th>\n",
       "      <th>education</th>\n",
       "      <th>education_id</th>\n",
       "      <th>family_status</th>\n",
       "      <th>family_status_id</th>\n",
       "      <th>gender</th>\n",
       "      <th>income_type</th>\n",
       "      <th>debt</th>\n",
       "      <th>total_income</th>\n",
       "      <th>purpose</th>\n",
       "    </tr>\n",
       "  </thead>\n",
       "  <tbody>\n",
       "    <tr>\n",
       "      <th>12</th>\n",
       "      <td>0</td>\n",
       "      <td>NaN</td>\n",
       "      <td>65</td>\n",
       "      <td>среднее</td>\n",
       "      <td>1</td>\n",
       "      <td>гражданский брак</td>\n",
       "      <td>1</td>\n",
       "      <td>M</td>\n",
       "      <td>пенсионер</td>\n",
       "      <td>0</td>\n",
       "      <td>NaN</td>\n",
       "      <td>сыграть свадьбу</td>\n",
       "    </tr>\n",
       "    <tr>\n",
       "      <th>26</th>\n",
       "      <td>0</td>\n",
       "      <td>NaN</td>\n",
       "      <td>41</td>\n",
       "      <td>среднее</td>\n",
       "      <td>1</td>\n",
       "      <td>женат / замужем</td>\n",
       "      <td>0</td>\n",
       "      <td>M</td>\n",
       "      <td>госслужащий</td>\n",
       "      <td>0</td>\n",
       "      <td>NaN</td>\n",
       "      <td>образование</td>\n",
       "    </tr>\n",
       "    <tr>\n",
       "      <th>29</th>\n",
       "      <td>0</td>\n",
       "      <td>NaN</td>\n",
       "      <td>63</td>\n",
       "      <td>среднее</td>\n",
       "      <td>1</td>\n",
       "      <td>Не женат / не замужем</td>\n",
       "      <td>4</td>\n",
       "      <td>F</td>\n",
       "      <td>пенсионер</td>\n",
       "      <td>0</td>\n",
       "      <td>NaN</td>\n",
       "      <td>строительство жилой недвижимости</td>\n",
       "    </tr>\n",
       "    <tr>\n",
       "      <th>41</th>\n",
       "      <td>0</td>\n",
       "      <td>NaN</td>\n",
       "      <td>50</td>\n",
       "      <td>среднее</td>\n",
       "      <td>1</td>\n",
       "      <td>женат / замужем</td>\n",
       "      <td>0</td>\n",
       "      <td>F</td>\n",
       "      <td>госслужащий</td>\n",
       "      <td>0</td>\n",
       "      <td>NaN</td>\n",
       "      <td>сделка с подержанным автомобилем</td>\n",
       "    </tr>\n",
       "    <tr>\n",
       "      <th>55</th>\n",
       "      <td>0</td>\n",
       "      <td>NaN</td>\n",
       "      <td>54</td>\n",
       "      <td>среднее</td>\n",
       "      <td>1</td>\n",
       "      <td>гражданский брак</td>\n",
       "      <td>1</td>\n",
       "      <td>F</td>\n",
       "      <td>пенсионер</td>\n",
       "      <td>1</td>\n",
       "      <td>NaN</td>\n",
       "      <td>сыграть свадьбу</td>\n",
       "    </tr>\n",
       "    <tr>\n",
       "      <th>65</th>\n",
       "      <td>0</td>\n",
       "      <td>NaN</td>\n",
       "      <td>21</td>\n",
       "      <td>среднее</td>\n",
       "      <td>1</td>\n",
       "      <td>Не женат / не замужем</td>\n",
       "      <td>4</td>\n",
       "      <td>M</td>\n",
       "      <td>компаньон</td>\n",
       "      <td>0</td>\n",
       "      <td>NaN</td>\n",
       "      <td>операции с коммерческой недвижимостью</td>\n",
       "    </tr>\n",
       "    <tr>\n",
       "      <th>67</th>\n",
       "      <td>0</td>\n",
       "      <td>NaN</td>\n",
       "      <td>52</td>\n",
       "      <td>высшее</td>\n",
       "      <td>0</td>\n",
       "      <td>женат / замужем</td>\n",
       "      <td>0</td>\n",
       "      <td>F</td>\n",
       "      <td>пенсионер</td>\n",
       "      <td>0</td>\n",
       "      <td>NaN</td>\n",
       "      <td>покупка жилья для семьи</td>\n",
       "    </tr>\n",
       "    <tr>\n",
       "      <th>72</th>\n",
       "      <td>1</td>\n",
       "      <td>NaN</td>\n",
       "      <td>32</td>\n",
       "      <td>высшее</td>\n",
       "      <td>0</td>\n",
       "      <td>женат / замужем</td>\n",
       "      <td>0</td>\n",
       "      <td>M</td>\n",
       "      <td>госслужащий</td>\n",
       "      <td>0</td>\n",
       "      <td>NaN</td>\n",
       "      <td>операции с коммерческой недвижимостью</td>\n",
       "    </tr>\n",
       "    <tr>\n",
       "      <th>82</th>\n",
       "      <td>2</td>\n",
       "      <td>NaN</td>\n",
       "      <td>50</td>\n",
       "      <td>высшее</td>\n",
       "      <td>0</td>\n",
       "      <td>женат / замужем</td>\n",
       "      <td>0</td>\n",
       "      <td>F</td>\n",
       "      <td>сотрудник</td>\n",
       "      <td>0</td>\n",
       "      <td>NaN</td>\n",
       "      <td>жилье</td>\n",
       "    </tr>\n",
       "    <tr>\n",
       "      <th>83</th>\n",
       "      <td>0</td>\n",
       "      <td>NaN</td>\n",
       "      <td>52</td>\n",
       "      <td>среднее</td>\n",
       "      <td>1</td>\n",
       "      <td>женат / замужем</td>\n",
       "      <td>0</td>\n",
       "      <td>M</td>\n",
       "      <td>сотрудник</td>\n",
       "      <td>0</td>\n",
       "      <td>NaN</td>\n",
       "      <td>жилье</td>\n",
       "    </tr>\n",
       "  </tbody>\n",
       "</table>\n",
       "</div>"
      ],
      "text/plain": [
       "    children  days_employed  dob_years education  education_id  \\\n",
       "12         0            NaN         65   среднее             1   \n",
       "26         0            NaN         41   среднее             1   \n",
       "29         0            NaN         63   среднее             1   \n",
       "41         0            NaN         50   среднее             1   \n",
       "55         0            NaN         54   среднее             1   \n",
       "65         0            NaN         21   среднее             1   \n",
       "67         0            NaN         52    высшее             0   \n",
       "72         1            NaN         32    высшее             0   \n",
       "82         2            NaN         50    высшее             0   \n",
       "83         0            NaN         52   среднее             1   \n",
       "\n",
       "            family_status  family_status_id gender  income_type  debt  \\\n",
       "12       гражданский брак                 1      M    пенсионер     0   \n",
       "26        женат / замужем                 0      M  госслужащий     0   \n",
       "29  Не женат / не замужем                 4      F    пенсионер     0   \n",
       "41        женат / замужем                 0      F  госслужащий     0   \n",
       "55       гражданский брак                 1      F    пенсионер     1   \n",
       "65  Не женат / не замужем                 4      M    компаньон     0   \n",
       "67        женат / замужем                 0      F    пенсионер     0   \n",
       "72        женат / замужем                 0      M  госслужащий     0   \n",
       "82        женат / замужем                 0      F    сотрудник     0   \n",
       "83        женат / замужем                 0      M    сотрудник     0   \n",
       "\n",
       "    total_income                                purpose  \n",
       "12           NaN                        сыграть свадьбу  \n",
       "26           NaN                            образование  \n",
       "29           NaN       строительство жилой недвижимости  \n",
       "41           NaN       сделка с подержанным автомобилем  \n",
       "55           NaN                        сыграть свадьбу  \n",
       "65           NaN  операции с коммерческой недвижимостью  \n",
       "67           NaN                покупка жилья для семьи  \n",
       "72           NaN  операции с коммерческой недвижимостью  \n",
       "82           NaN                                  жилье  \n",
       "83           NaN                                  жилье  "
      ]
     },
     "execution_count": 5,
     "metadata": {},
     "output_type": "execute_result"
    }
   ],
   "source": [
    "# получение первых 10 строк с пропусками в total_income\n",
    "df[df['total_income'].isna()].head(10)"
   ]
  },
  {
   "cell_type": "markdown",
   "id": "0d04f484",
   "metadata": {},
   "source": [
    "Мы видим пропущенные значения в `days_employed` и `total_income`. Пропущенные значения составляют всего 10,1% от всех значенй в столбцах соотвественно. Можно предположить, что в нашем случае пропуски неслучайны, тк совпадают в обоих столбцах.\n",
    "\n",
    "Для заполнения пропусков в `total_income` воспользуемся медианным значением. Использование такого метода предпочтительнее, так как среднее значение некорректно характеризует данные, когда некоторые значения сильно выделяются из большиства. "
   ]
  },
  {
   "cell_type": "code",
   "execution_count": 6,
   "id": "503ef70e",
   "metadata": {},
   "outputs": [
    {
     "data": {
      "text/html": [
       "<div>\n",
       "<style scoped>\n",
       "    .dataframe tbody tr th:only-of-type {\n",
       "        vertical-align: middle;\n",
       "    }\n",
       "\n",
       "    .dataframe tbody tr th {\n",
       "        vertical-align: top;\n",
       "    }\n",
       "\n",
       "    .dataframe thead th {\n",
       "        text-align: right;\n",
       "    }\n",
       "</style>\n",
       "<table border=\"1\" class=\"dataframe\">\n",
       "  <thead>\n",
       "    <tr style=\"text-align: right;\">\n",
       "      <th></th>\n",
       "      <th>children</th>\n",
       "      <th>days_employed</th>\n",
       "      <th>dob_years</th>\n",
       "      <th>education</th>\n",
       "      <th>education_id</th>\n",
       "      <th>family_status</th>\n",
       "      <th>family_status_id</th>\n",
       "      <th>gender</th>\n",
       "      <th>income_type</th>\n",
       "      <th>debt</th>\n",
       "      <th>total_income</th>\n",
       "      <th>purpose</th>\n",
       "    </tr>\n",
       "  </thead>\n",
       "  <tbody>\n",
       "    <tr>\n",
       "      <th>12</th>\n",
       "      <td>0</td>\n",
       "      <td>NaN</td>\n",
       "      <td>65</td>\n",
       "      <td>среднее</td>\n",
       "      <td>1</td>\n",
       "      <td>гражданский брак</td>\n",
       "      <td>1</td>\n",
       "      <td>M</td>\n",
       "      <td>пенсионер</td>\n",
       "      <td>0</td>\n",
       "      <td>118514.486412</td>\n",
       "      <td>сыграть свадьбу</td>\n",
       "    </tr>\n",
       "    <tr>\n",
       "      <th>26</th>\n",
       "      <td>0</td>\n",
       "      <td>NaN</td>\n",
       "      <td>41</td>\n",
       "      <td>среднее</td>\n",
       "      <td>1</td>\n",
       "      <td>женат / замужем</td>\n",
       "      <td>0</td>\n",
       "      <td>M</td>\n",
       "      <td>госслужащий</td>\n",
       "      <td>0</td>\n",
       "      <td>150447.935283</td>\n",
       "      <td>образование</td>\n",
       "    </tr>\n",
       "    <tr>\n",
       "      <th>29</th>\n",
       "      <td>0</td>\n",
       "      <td>NaN</td>\n",
       "      <td>63</td>\n",
       "      <td>среднее</td>\n",
       "      <td>1</td>\n",
       "      <td>Не женат / не замужем</td>\n",
       "      <td>4</td>\n",
       "      <td>F</td>\n",
       "      <td>пенсионер</td>\n",
       "      <td>0</td>\n",
       "      <td>118514.486412</td>\n",
       "      <td>строительство жилой недвижимости</td>\n",
       "    </tr>\n",
       "    <tr>\n",
       "      <th>41</th>\n",
       "      <td>0</td>\n",
       "      <td>NaN</td>\n",
       "      <td>50</td>\n",
       "      <td>среднее</td>\n",
       "      <td>1</td>\n",
       "      <td>женат / замужем</td>\n",
       "      <td>0</td>\n",
       "      <td>F</td>\n",
       "      <td>госслужащий</td>\n",
       "      <td>0</td>\n",
       "      <td>150447.935283</td>\n",
       "      <td>сделка с подержанным автомобилем</td>\n",
       "    </tr>\n",
       "    <tr>\n",
       "      <th>55</th>\n",
       "      <td>0</td>\n",
       "      <td>NaN</td>\n",
       "      <td>54</td>\n",
       "      <td>среднее</td>\n",
       "      <td>1</td>\n",
       "      <td>гражданский брак</td>\n",
       "      <td>1</td>\n",
       "      <td>F</td>\n",
       "      <td>пенсионер</td>\n",
       "      <td>1</td>\n",
       "      <td>118514.486412</td>\n",
       "      <td>сыграть свадьбу</td>\n",
       "    </tr>\n",
       "    <tr>\n",
       "      <th>65</th>\n",
       "      <td>0</td>\n",
       "      <td>NaN</td>\n",
       "      <td>21</td>\n",
       "      <td>среднее</td>\n",
       "      <td>1</td>\n",
       "      <td>Не женат / не замужем</td>\n",
       "      <td>4</td>\n",
       "      <td>M</td>\n",
       "      <td>компаньон</td>\n",
       "      <td>0</td>\n",
       "      <td>172357.950966</td>\n",
       "      <td>операции с коммерческой недвижимостью</td>\n",
       "    </tr>\n",
       "    <tr>\n",
       "      <th>67</th>\n",
       "      <td>0</td>\n",
       "      <td>NaN</td>\n",
       "      <td>52</td>\n",
       "      <td>высшее</td>\n",
       "      <td>0</td>\n",
       "      <td>женат / замужем</td>\n",
       "      <td>0</td>\n",
       "      <td>F</td>\n",
       "      <td>пенсионер</td>\n",
       "      <td>0</td>\n",
       "      <td>118514.486412</td>\n",
       "      <td>покупка жилья для семьи</td>\n",
       "    </tr>\n",
       "    <tr>\n",
       "      <th>72</th>\n",
       "      <td>1</td>\n",
       "      <td>NaN</td>\n",
       "      <td>32</td>\n",
       "      <td>высшее</td>\n",
       "      <td>0</td>\n",
       "      <td>женат / замужем</td>\n",
       "      <td>0</td>\n",
       "      <td>M</td>\n",
       "      <td>госслужащий</td>\n",
       "      <td>0</td>\n",
       "      <td>150447.935283</td>\n",
       "      <td>операции с коммерческой недвижимостью</td>\n",
       "    </tr>\n",
       "    <tr>\n",
       "      <th>82</th>\n",
       "      <td>2</td>\n",
       "      <td>NaN</td>\n",
       "      <td>50</td>\n",
       "      <td>высшее</td>\n",
       "      <td>0</td>\n",
       "      <td>женат / замужем</td>\n",
       "      <td>0</td>\n",
       "      <td>F</td>\n",
       "      <td>сотрудник</td>\n",
       "      <td>0</td>\n",
       "      <td>142594.396847</td>\n",
       "      <td>жилье</td>\n",
       "    </tr>\n",
       "    <tr>\n",
       "      <th>83</th>\n",
       "      <td>0</td>\n",
       "      <td>NaN</td>\n",
       "      <td>52</td>\n",
       "      <td>среднее</td>\n",
       "      <td>1</td>\n",
       "      <td>женат / замужем</td>\n",
       "      <td>0</td>\n",
       "      <td>M</td>\n",
       "      <td>сотрудник</td>\n",
       "      <td>0</td>\n",
       "      <td>142594.396847</td>\n",
       "      <td>жилье</td>\n",
       "    </tr>\n",
       "  </tbody>\n",
       "</table>\n",
       "</div>"
      ],
      "text/plain": [
       "    children  days_employed  dob_years education  education_id  \\\n",
       "12         0            NaN         65   среднее             1   \n",
       "26         0            NaN         41   среднее             1   \n",
       "29         0            NaN         63   среднее             1   \n",
       "41         0            NaN         50   среднее             1   \n",
       "55         0            NaN         54   среднее             1   \n",
       "65         0            NaN         21   среднее             1   \n",
       "67         0            NaN         52    высшее             0   \n",
       "72         1            NaN         32    высшее             0   \n",
       "82         2            NaN         50    высшее             0   \n",
       "83         0            NaN         52   среднее             1   \n",
       "\n",
       "            family_status  family_status_id gender  income_type  debt  \\\n",
       "12       гражданский брак                 1      M    пенсионер     0   \n",
       "26        женат / замужем                 0      M  госслужащий     0   \n",
       "29  Не женат / не замужем                 4      F    пенсионер     0   \n",
       "41        женат / замужем                 0      F  госслужащий     0   \n",
       "55       гражданский брак                 1      F    пенсионер     1   \n",
       "65  Не женат / не замужем                 4      M    компаньон     0   \n",
       "67        женат / замужем                 0      F    пенсионер     0   \n",
       "72        женат / замужем                 0      M  госслужащий     0   \n",
       "82        женат / замужем                 0      F    сотрудник     0   \n",
       "83        женат / замужем                 0      M    сотрудник     0   \n",
       "\n",
       "     total_income                                purpose  \n",
       "12  118514.486412                        сыграть свадьбу  \n",
       "26  150447.935283                            образование  \n",
       "29  118514.486412       строительство жилой недвижимости  \n",
       "41  150447.935283       сделка с подержанным автомобилем  \n",
       "55  118514.486412                        сыграть свадьбу  \n",
       "65  172357.950966  операции с коммерческой недвижимостью  \n",
       "67  118514.486412                покупка жилья для семьи  \n",
       "72  150447.935283  операции с коммерческой недвижимостью  \n",
       "82  142594.396847                                  жилье  \n",
       "83  142594.396847                                  жилье  "
      ]
     },
     "execution_count": 6,
     "metadata": {},
     "output_type": "execute_result"
    }
   ],
   "source": [
    "# замена пропусков в total_income медианными значениями по группировке income_type\n",
    "# получение первых 10 из заменяных строк для проверки\n",
    "df['total_income'] = df.groupby(['income_type'])['total_income'].apply(lambda x: x.fillna(x.median()))\n",
    "df[df['days_employed'].isna()].head(10)"
   ]
  },
  {
   "cell_type": "code",
   "execution_count": 7,
   "id": "53249dde",
   "metadata": {},
   "outputs": [
    {
     "data": {
      "text/plain": [
       "children               0\n",
       "days_employed       2174\n",
       "dob_years              0\n",
       "education              0\n",
       "education_id           0\n",
       "family_status          0\n",
       "family_status_id       0\n",
       "gender                 0\n",
       "income_type            0\n",
       "debt                   0\n",
       "total_income           0\n",
       "purpose                0\n",
       "dtype: int64"
      ]
     },
     "execution_count": 7,
     "metadata": {},
     "output_type": "execute_result"
    }
   ],
   "source": [
    "# проверка, подсчет пропусков\n",
    "df.isna().sum()"
   ]
  },
  {
   "cell_type": "markdown",
   "id": "a92e91a6",
   "metadata": {},
   "source": [
    "### Шаг 2.2 Проверка данных на аномалии и исправления."
   ]
  },
  {
   "cell_type": "markdown",
   "id": "b1c0400f",
   "metadata": {},
   "source": [
    "В значенияз столбца `days_employed` мы заметили аномалии, такие как отрицательные значения в трудовом стаже. Такие данные не отражают дейсвтительность и появились по системной ошибке. Заменим эти данные на их модули. \n",
    "\n",
    "\n",
    "\n",
    "Так же в этом столбце мы ранее увидели пропуски. Заменим их на медианное значение."
   ]
  },
  {
   "cell_type": "code",
   "execution_count": 8,
   "id": "1c9eb858",
   "metadata": {
    "scrolled": true
   },
   "outputs": [
    {
     "data": {
      "text/html": [
       "<div>\n",
       "<style scoped>\n",
       "    .dataframe tbody tr th:only-of-type {\n",
       "        vertical-align: middle;\n",
       "    }\n",
       "\n",
       "    .dataframe tbody tr th {\n",
       "        vertical-align: top;\n",
       "    }\n",
       "\n",
       "    .dataframe thead th {\n",
       "        text-align: right;\n",
       "    }\n",
       "</style>\n",
       "<table border=\"1\" class=\"dataframe\">\n",
       "  <thead>\n",
       "    <tr style=\"text-align: right;\">\n",
       "      <th></th>\n",
       "      <th>children</th>\n",
       "      <th>days_employed</th>\n",
       "      <th>dob_years</th>\n",
       "      <th>education</th>\n",
       "      <th>education_id</th>\n",
       "      <th>family_status</th>\n",
       "      <th>family_status_id</th>\n",
       "      <th>gender</th>\n",
       "      <th>income_type</th>\n",
       "      <th>debt</th>\n",
       "      <th>total_income</th>\n",
       "      <th>purpose</th>\n",
       "    </tr>\n",
       "  </thead>\n",
       "  <tbody>\n",
       "    <tr>\n",
       "      <th>0</th>\n",
       "      <td>1</td>\n",
       "      <td>8437.673028</td>\n",
       "      <td>42</td>\n",
       "      <td>высшее</td>\n",
       "      <td>0</td>\n",
       "      <td>женат / замужем</td>\n",
       "      <td>0</td>\n",
       "      <td>F</td>\n",
       "      <td>сотрудник</td>\n",
       "      <td>0</td>\n",
       "      <td>253875.639453</td>\n",
       "      <td>покупка жилья</td>\n",
       "    </tr>\n",
       "    <tr>\n",
       "      <th>1</th>\n",
       "      <td>1</td>\n",
       "      <td>4024.803754</td>\n",
       "      <td>36</td>\n",
       "      <td>среднее</td>\n",
       "      <td>1</td>\n",
       "      <td>женат / замужем</td>\n",
       "      <td>0</td>\n",
       "      <td>F</td>\n",
       "      <td>сотрудник</td>\n",
       "      <td>0</td>\n",
       "      <td>112080.014102</td>\n",
       "      <td>приобретение автомобиля</td>\n",
       "    </tr>\n",
       "    <tr>\n",
       "      <th>2</th>\n",
       "      <td>0</td>\n",
       "      <td>5623.422610</td>\n",
       "      <td>33</td>\n",
       "      <td>Среднее</td>\n",
       "      <td>1</td>\n",
       "      <td>женат / замужем</td>\n",
       "      <td>0</td>\n",
       "      <td>M</td>\n",
       "      <td>сотрудник</td>\n",
       "      <td>0</td>\n",
       "      <td>145885.952297</td>\n",
       "      <td>покупка жилья</td>\n",
       "    </tr>\n",
       "    <tr>\n",
       "      <th>3</th>\n",
       "      <td>3</td>\n",
       "      <td>4124.747207</td>\n",
       "      <td>32</td>\n",
       "      <td>среднее</td>\n",
       "      <td>1</td>\n",
       "      <td>женат / замужем</td>\n",
       "      <td>0</td>\n",
       "      <td>M</td>\n",
       "      <td>сотрудник</td>\n",
       "      <td>0</td>\n",
       "      <td>267628.550329</td>\n",
       "      <td>дополнительное образование</td>\n",
       "    </tr>\n",
       "    <tr>\n",
       "      <th>4</th>\n",
       "      <td>0</td>\n",
       "      <td>1630.176471</td>\n",
       "      <td>53</td>\n",
       "      <td>среднее</td>\n",
       "      <td>1</td>\n",
       "      <td>гражданский брак</td>\n",
       "      <td>1</td>\n",
       "      <td>F</td>\n",
       "      <td>пенсионер</td>\n",
       "      <td>0</td>\n",
       "      <td>158616.077870</td>\n",
       "      <td>сыграть свадьбу</td>\n",
       "    </tr>\n",
       "    <tr>\n",
       "      <th>5</th>\n",
       "      <td>0</td>\n",
       "      <td>926.185831</td>\n",
       "      <td>27</td>\n",
       "      <td>высшее</td>\n",
       "      <td>0</td>\n",
       "      <td>гражданский брак</td>\n",
       "      <td>1</td>\n",
       "      <td>M</td>\n",
       "      <td>компаньон</td>\n",
       "      <td>0</td>\n",
       "      <td>255763.565419</td>\n",
       "      <td>покупка жилья</td>\n",
       "    </tr>\n",
       "    <tr>\n",
       "      <th>6</th>\n",
       "      <td>0</td>\n",
       "      <td>2879.202052</td>\n",
       "      <td>43</td>\n",
       "      <td>высшее</td>\n",
       "      <td>0</td>\n",
       "      <td>женат / замужем</td>\n",
       "      <td>0</td>\n",
       "      <td>F</td>\n",
       "      <td>компаньон</td>\n",
       "      <td>0</td>\n",
       "      <td>240525.971920</td>\n",
       "      <td>операции с жильем</td>\n",
       "    </tr>\n",
       "    <tr>\n",
       "      <th>7</th>\n",
       "      <td>0</td>\n",
       "      <td>152.779569</td>\n",
       "      <td>50</td>\n",
       "      <td>СРЕДНЕЕ</td>\n",
       "      <td>1</td>\n",
       "      <td>женат / замужем</td>\n",
       "      <td>0</td>\n",
       "      <td>M</td>\n",
       "      <td>сотрудник</td>\n",
       "      <td>0</td>\n",
       "      <td>135823.934197</td>\n",
       "      <td>образование</td>\n",
       "    </tr>\n",
       "    <tr>\n",
       "      <th>8</th>\n",
       "      <td>2</td>\n",
       "      <td>6929.865299</td>\n",
       "      <td>35</td>\n",
       "      <td>ВЫСШЕЕ</td>\n",
       "      <td>0</td>\n",
       "      <td>гражданский брак</td>\n",
       "      <td>1</td>\n",
       "      <td>F</td>\n",
       "      <td>сотрудник</td>\n",
       "      <td>0</td>\n",
       "      <td>95856.832424</td>\n",
       "      <td>на проведение свадьбы</td>\n",
       "    </tr>\n",
       "    <tr>\n",
       "      <th>9</th>\n",
       "      <td>0</td>\n",
       "      <td>2188.756445</td>\n",
       "      <td>41</td>\n",
       "      <td>среднее</td>\n",
       "      <td>1</td>\n",
       "      <td>женат / замужем</td>\n",
       "      <td>0</td>\n",
       "      <td>M</td>\n",
       "      <td>сотрудник</td>\n",
       "      <td>0</td>\n",
       "      <td>144425.938277</td>\n",
       "      <td>покупка жилья для семьи</td>\n",
       "    </tr>\n",
       "  </tbody>\n",
       "</table>\n",
       "</div>"
      ],
      "text/plain": [
       "   children  days_employed  dob_years education  education_id  \\\n",
       "0         1    8437.673028         42    высшее             0   \n",
       "1         1    4024.803754         36   среднее             1   \n",
       "2         0    5623.422610         33   Среднее             1   \n",
       "3         3    4124.747207         32   среднее             1   \n",
       "4         0    1630.176471         53   среднее             1   \n",
       "5         0     926.185831         27    высшее             0   \n",
       "6         0    2879.202052         43    высшее             0   \n",
       "7         0     152.779569         50   СРЕДНЕЕ             1   \n",
       "8         2    6929.865299         35    ВЫСШЕЕ             0   \n",
       "9         0    2188.756445         41   среднее             1   \n",
       "\n",
       "      family_status  family_status_id gender income_type  debt   total_income  \\\n",
       "0   женат / замужем                 0      F   сотрудник     0  253875.639453   \n",
       "1   женат / замужем                 0      F   сотрудник     0  112080.014102   \n",
       "2   женат / замужем                 0      M   сотрудник     0  145885.952297   \n",
       "3   женат / замужем                 0      M   сотрудник     0  267628.550329   \n",
       "4  гражданский брак                 1      F   пенсионер     0  158616.077870   \n",
       "5  гражданский брак                 1      M   компаньон     0  255763.565419   \n",
       "6   женат / замужем                 0      F   компаньон     0  240525.971920   \n",
       "7   женат / замужем                 0      M   сотрудник     0  135823.934197   \n",
       "8  гражданский брак                 1      F   сотрудник     0   95856.832424   \n",
       "9   женат / замужем                 0      M   сотрудник     0  144425.938277   \n",
       "\n",
       "                      purpose  \n",
       "0               покупка жилья  \n",
       "1     приобретение автомобиля  \n",
       "2               покупка жилья  \n",
       "3  дополнительное образование  \n",
       "4             сыграть свадьбу  \n",
       "5               покупка жилья  \n",
       "6           операции с жильем  \n",
       "7                 образование  \n",
       "8       на проведение свадьбы  \n",
       "9     покупка жилья для семьи  "
      ]
     },
     "execution_count": 8,
     "metadata": {},
     "output_type": "execute_result"
    }
   ],
   "source": [
    "# замена отрицательных значений их модулями\n",
    "# замена аномальных значений\n",
    "# замена пропусков медианными значениями\n",
    "# получение первых 10 строк таблицы df\n",
    "df['days_employed'] = abs(df['days_employed'])\n",
    "df.loc[df.loc[:,'income_type'] == 'пенсионер', 'days_employed'] = None\n",
    "df['days_employed'] = df['days_employed'].fillna(df['days_employed'].median()) \n",
    "df.head(10)"
   ]
  },
  {
   "cell_type": "code",
   "execution_count": 9,
   "id": "06630825",
   "metadata": {},
   "outputs": [
    {
     "data": {
      "text/plain": [
       "children            0\n",
       "days_employed       0\n",
       "dob_years           0\n",
       "education           0\n",
       "education_id        0\n",
       "family_status       0\n",
       "family_status_id    0\n",
       "gender              0\n",
       "income_type         0\n",
       "debt                0\n",
       "total_income        0\n",
       "purpose             0\n",
       "dtype: int64"
      ]
     },
     "execution_count": 9,
     "metadata": {},
     "output_type": "execute_result"
    }
   ],
   "source": [
    "# проверка на наличие пропусков\n",
    "df.isna().sum()"
   ]
  },
  {
   "cell_type": "markdown",
   "id": "989c03d4",
   "metadata": {},
   "source": [
    "Проверим значения на наличие аномалий в других столбцах."
   ]
  },
  {
   "cell_type": "code",
   "execution_count": 10,
   "id": "dcabcf34",
   "metadata": {
    "scrolled": true
   },
   "outputs": [
    {
     "data": {
      "text/plain": [
       " 0     14149\n",
       " 1      4818\n",
       " 2      2055\n",
       " 3       330\n",
       " 20       76\n",
       "-1        47\n",
       " 4        41\n",
       " 5         9\n",
       "Name: children, dtype: int64"
      ]
     },
     "execution_count": 10,
     "metadata": {},
     "output_type": "execute_result"
    }
   ],
   "source": [
    "# получение уникальных значений в столбце children\n",
    "df['children'].value_counts()"
   ]
  },
  {
   "cell_type": "markdown",
   "id": "ddb8930e",
   "metadata": {},
   "source": [
    "Мы видим, что встречаются аномальные значения: количество детей не может быть отрицательным или сверхбольшим. Скорее всего значение 20 возникло в результате пропуска или ошибки, рассмотрим вариант, когда вместо 20 имелось ввиду значение 2."
   ]
  },
  {
   "cell_type": "code",
   "execution_count": 11,
   "id": "305797d5",
   "metadata": {},
   "outputs": [
    {
     "data": {
      "text/plain": [
       "0    14149\n",
       "1     4865\n",
       "2     2131\n",
       "3      330\n",
       "4       41\n",
       "5        9\n",
       "Name: children, dtype: int64"
      ]
     },
     "execution_count": 11,
     "metadata": {},
     "output_type": "execute_result"
    }
   ],
   "source": [
    "# замена значений на их модули\n",
    "# замена аномальных значений\n",
    "# проверка уникальных значений \n",
    "df['children'] = abs(df['children'])\n",
    "df.loc[df.loc[:, 'children'] == 20, 'children'] = 2  \n",
    "df['children'].value_counts()"
   ]
  },
  {
   "cell_type": "code",
   "execution_count": 12,
   "id": "dd3570c1",
   "metadata": {},
   "outputs": [
    {
     "data": {
      "text/plain": [
       "count    21525.000000\n",
       "mean        43.293380\n",
       "std         12.574584\n",
       "min          0.000000\n",
       "25%         33.000000\n",
       "50%         42.000000\n",
       "75%         53.000000\n",
       "max         75.000000\n",
       "Name: dob_years, dtype: float64"
      ]
     },
     "execution_count": 12,
     "metadata": {},
     "output_type": "execute_result"
    }
   ],
   "source": [
    "# проверка значений в столбце dob_years\n",
    "df['dob_years'].describe()"
   ]
  },
  {
   "cell_type": "code",
   "execution_count": 13,
   "id": "062e4eee",
   "metadata": {},
   "outputs": [
    {
     "data": {
      "text/plain": [
       "35    617\n",
       "40    609\n",
       "41    607\n",
       "34    603\n",
       "38    598\n",
       "42    597\n",
       "33    581\n",
       "39    573\n",
       "31    560\n",
       "36    555\n",
       "44    547\n",
       "29    545\n",
       "30    540\n",
       "48    538\n",
       "37    537\n",
       "50    514\n",
       "43    513\n",
       "32    510\n",
       "49    508\n",
       "28    503\n",
       "45    497\n",
       "27    493\n",
       "56    487\n",
       "52    484\n",
       "47    480\n",
       "54    479\n",
       "46    475\n",
       "58    461\n",
       "57    460\n",
       "53    459\n",
       "51    448\n",
       "59    444\n",
       "55    443\n",
       "26    408\n",
       "60    377\n",
       "25    357\n",
       "61    355\n",
       "62    352\n",
       "63    269\n",
       "64    265\n",
       "24    264\n",
       "23    254\n",
       "65    194\n",
       "22    183\n",
       "66    183\n",
       "67    167\n",
       "21    111\n",
       "0     101\n",
       "68     99\n",
       "69     85\n",
       "70     65\n",
       "71     58\n",
       "20     51\n",
       "72     33\n",
       "19     14\n",
       "73      8\n",
       "74      6\n",
       "75      1\n",
       "Name: dob_years, dtype: int64"
      ]
     },
     "execution_count": 13,
     "metadata": {},
     "output_type": "execute_result"
    }
   ],
   "source": [
    "df['dob_years'].value_counts()"
   ]
  },
  {
   "cell_type": "code",
   "execution_count": 14,
   "id": "630f6dce",
   "metadata": {},
   "outputs": [
    {
     "data": {
      "text/html": [
       "<div>\n",
       "<style scoped>\n",
       "    .dataframe tbody tr th:only-of-type {\n",
       "        vertical-align: middle;\n",
       "    }\n",
       "\n",
       "    .dataframe tbody tr th {\n",
       "        vertical-align: top;\n",
       "    }\n",
       "\n",
       "    .dataframe thead th {\n",
       "        text-align: right;\n",
       "    }\n",
       "</style>\n",
       "<table border=\"1\" class=\"dataframe\">\n",
       "  <thead>\n",
       "    <tr style=\"text-align: right;\">\n",
       "      <th></th>\n",
       "      <th>children</th>\n",
       "      <th>days_employed</th>\n",
       "      <th>dob_years</th>\n",
       "      <th>education</th>\n",
       "      <th>education_id</th>\n",
       "      <th>family_status</th>\n",
       "      <th>family_status_id</th>\n",
       "      <th>gender</th>\n",
       "      <th>income_type</th>\n",
       "      <th>debt</th>\n",
       "      <th>total_income</th>\n",
       "      <th>purpose</th>\n",
       "    </tr>\n",
       "  </thead>\n",
       "  <tbody>\n",
       "    <tr>\n",
       "      <th>6670</th>\n",
       "      <td>0</td>\n",
       "      <td>1630.176471</td>\n",
       "      <td>0</td>\n",
       "      <td>Высшее</td>\n",
       "      <td>0</td>\n",
       "      <td>в разводе</td>\n",
       "      <td>3</td>\n",
       "      <td>F</td>\n",
       "      <td>пенсионер</td>\n",
       "      <td>0</td>\n",
       "      <td>118514.486412</td>\n",
       "      <td>покупка жилой недвижимости</td>\n",
       "    </tr>\n",
       "    <tr>\n",
       "      <th>8061</th>\n",
       "      <td>0</td>\n",
       "      <td>1630.176471</td>\n",
       "      <td>0</td>\n",
       "      <td>высшее</td>\n",
       "      <td>0</td>\n",
       "      <td>Не женат / не замужем</td>\n",
       "      <td>4</td>\n",
       "      <td>F</td>\n",
       "      <td>пенсионер</td>\n",
       "      <td>0</td>\n",
       "      <td>61804.271999</td>\n",
       "      <td>высшее образование</td>\n",
       "    </tr>\n",
       "    <tr>\n",
       "      <th>18851</th>\n",
       "      <td>0</td>\n",
       "      <td>10637.001569</td>\n",
       "      <td>0</td>\n",
       "      <td>среднее</td>\n",
       "      <td>1</td>\n",
       "      <td>женат / замужем</td>\n",
       "      <td>0</td>\n",
       "      <td>F</td>\n",
       "      <td>госслужащий</td>\n",
       "      <td>0</td>\n",
       "      <td>136537.132625</td>\n",
       "      <td>дополнительное образование</td>\n",
       "    </tr>\n",
       "    <tr>\n",
       "      <th>6407</th>\n",
       "      <td>2</td>\n",
       "      <td>1653.972845</td>\n",
       "      <td>0</td>\n",
       "      <td>среднее</td>\n",
       "      <td>1</td>\n",
       "      <td>женат / замужем</td>\n",
       "      <td>0</td>\n",
       "      <td>F</td>\n",
       "      <td>сотрудник</td>\n",
       "      <td>0</td>\n",
       "      <td>181510.868867</td>\n",
       "      <td>жилье</td>\n",
       "    </tr>\n",
       "    <tr>\n",
       "      <th>4147</th>\n",
       "      <td>0</td>\n",
       "      <td>3549.117333</td>\n",
       "      <td>0</td>\n",
       "      <td>среднее</td>\n",
       "      <td>1</td>\n",
       "      <td>в разводе</td>\n",
       "      <td>3</td>\n",
       "      <td>M</td>\n",
       "      <td>сотрудник</td>\n",
       "      <td>0</td>\n",
       "      <td>108130.933212</td>\n",
       "      <td>покупка жилой недвижимости</td>\n",
       "    </tr>\n",
       "    <tr>\n",
       "      <th>19829</th>\n",
       "      <td>0</td>\n",
       "      <td>1630.176471</td>\n",
       "      <td>0</td>\n",
       "      <td>среднее</td>\n",
       "      <td>1</td>\n",
       "      <td>женат / замужем</td>\n",
       "      <td>0</td>\n",
       "      <td>F</td>\n",
       "      <td>сотрудник</td>\n",
       "      <td>0</td>\n",
       "      <td>142594.396847</td>\n",
       "      <td>жилье</td>\n",
       "    </tr>\n",
       "    <tr>\n",
       "      <th>2870</th>\n",
       "      <td>0</td>\n",
       "      <td>1875.972013</td>\n",
       "      <td>0</td>\n",
       "      <td>среднее</td>\n",
       "      <td>1</td>\n",
       "      <td>женат / замужем</td>\n",
       "      <td>0</td>\n",
       "      <td>F</td>\n",
       "      <td>компаньон</td>\n",
       "      <td>0</td>\n",
       "      <td>167713.212064</td>\n",
       "      <td>на покупку своего автомобиля</td>\n",
       "    </tr>\n",
       "    <tr>\n",
       "      <th>6848</th>\n",
       "      <td>2</td>\n",
       "      <td>1146.689586</td>\n",
       "      <td>0</td>\n",
       "      <td>среднее</td>\n",
       "      <td>1</td>\n",
       "      <td>женат / замужем</td>\n",
       "      <td>0</td>\n",
       "      <td>F</td>\n",
       "      <td>сотрудник</td>\n",
       "      <td>0</td>\n",
       "      <td>101545.049355</td>\n",
       "      <td>приобретение автомобиля</td>\n",
       "    </tr>\n",
       "    <tr>\n",
       "      <th>18176</th>\n",
       "      <td>0</td>\n",
       "      <td>3533.403832</td>\n",
       "      <td>0</td>\n",
       "      <td>Среднее</td>\n",
       "      <td>1</td>\n",
       "      <td>гражданский брак</td>\n",
       "      <td>1</td>\n",
       "      <td>F</td>\n",
       "      <td>сотрудник</td>\n",
       "      <td>1</td>\n",
       "      <td>110485.456043</td>\n",
       "      <td>свадьба</td>\n",
       "    </tr>\n",
       "    <tr>\n",
       "      <th>3044</th>\n",
       "      <td>2</td>\n",
       "      <td>2502.891798</td>\n",
       "      <td>0</td>\n",
       "      <td>высшее</td>\n",
       "      <td>0</td>\n",
       "      <td>Не женат / не замужем</td>\n",
       "      <td>4</td>\n",
       "      <td>M</td>\n",
       "      <td>сотрудник</td>\n",
       "      <td>0</td>\n",
       "      <td>292145.267076</td>\n",
       "      <td>операции с недвижимостью</td>\n",
       "    </tr>\n",
       "  </tbody>\n",
       "</table>\n",
       "</div>"
      ],
      "text/plain": [
       "       children  days_employed  dob_years education  education_id  \\\n",
       "6670          0    1630.176471          0    Высшее             0   \n",
       "8061          0    1630.176471          0    высшее             0   \n",
       "18851         0   10637.001569          0   среднее             1   \n",
       "6407          2    1653.972845          0   среднее             1   \n",
       "4147          0    3549.117333          0   среднее             1   \n",
       "19829         0    1630.176471          0   среднее             1   \n",
       "2870          0    1875.972013          0   среднее             1   \n",
       "6848          2    1146.689586          0   среднее             1   \n",
       "18176         0    3533.403832          0   Среднее             1   \n",
       "3044          2    2502.891798          0    высшее             0   \n",
       "\n",
       "               family_status  family_status_id gender  income_type  debt  \\\n",
       "6670               в разводе                 3      F    пенсионер     0   \n",
       "8061   Не женат / не замужем                 4      F    пенсионер     0   \n",
       "18851        женат / замужем                 0      F  госслужащий     0   \n",
       "6407         женат / замужем                 0      F    сотрудник     0   \n",
       "4147               в разводе                 3      M    сотрудник     0   \n",
       "19829        женат / замужем                 0      F    сотрудник     0   \n",
       "2870         женат / замужем                 0      F    компаньон     0   \n",
       "6848         женат / замужем                 0      F    сотрудник     0   \n",
       "18176       гражданский брак                 1      F    сотрудник     1   \n",
       "3044   Не женат / не замужем                 4      M    сотрудник     0   \n",
       "\n",
       "        total_income                       purpose  \n",
       "6670   118514.486412    покупка жилой недвижимости  \n",
       "8061    61804.271999            высшее образование  \n",
       "18851  136537.132625    дополнительное образование  \n",
       "6407   181510.868867                         жилье  \n",
       "4147   108130.933212    покупка жилой недвижимости  \n",
       "19829  142594.396847                         жилье  \n",
       "2870   167713.212064  на покупку своего автомобиля  \n",
       "6848   101545.049355       приобретение автомобиля  \n",
       "18176  110485.456043                       свадьба  \n",
       "3044   292145.267076      операции с недвижимостью  "
      ]
     },
     "execution_count": 14,
     "metadata": {},
     "output_type": "execute_result"
    }
   ],
   "source": [
    "df[df['dob_years'] == 0].sample(10)"
   ]
  },
  {
   "cell_type": "markdown",
   "id": "8d50ae28",
   "metadata": {},
   "source": [
    "Мы нашли еще одну аномалию: 0 в значениях возраста заемщика. Будем считать это за пропуск. Видим, что пропуски в этом столбце никак не связаны с другими значениями. Всего таких 101 значение по отношению к 21525, что составляет 0,4 процента. Поэтому эти пропуски мы удалим."
   ]
  },
  {
   "cell_type": "code",
   "execution_count": 15,
   "id": "6768ef55",
   "metadata": {},
   "outputs": [],
   "source": [
    "# удаление строк с пропущенными значениями\n",
    "df['dob_years'] = df['dob_years'].replace(0, 'Nan')\n",
    "df['dob_years'] = df['dob_years'].dropna()"
   ]
  },
  {
   "cell_type": "code",
   "execution_count": 16,
   "id": "fb3c1033",
   "metadata": {},
   "outputs": [
    {
     "data": {
      "text/plain": [
       "1    15233\n",
       "0     5260\n",
       "2      744\n",
       "3      282\n",
       "4        6\n",
       "Name: education_id, dtype: int64"
      ]
     },
     "execution_count": 16,
     "metadata": {},
     "output_type": "execute_result"
    }
   ],
   "source": [
    "df['education_id'].value_counts()"
   ]
  },
  {
   "cell_type": "code",
   "execution_count": 17,
   "id": "4ff9966a",
   "metadata": {},
   "outputs": [
    {
     "data": {
      "text/plain": [
       "0    12380\n",
       "1     4177\n",
       "4     2813\n",
       "3     1195\n",
       "2      960\n",
       "Name: family_status_id, dtype: int64"
      ]
     },
     "execution_count": 17,
     "metadata": {},
     "output_type": "execute_result"
    }
   ],
   "source": [
    "df['family_status_id'].value_counts()"
   ]
  },
  {
   "cell_type": "code",
   "execution_count": 18,
   "id": "0a7e639d",
   "metadata": {},
   "outputs": [
    {
     "data": {
      "text/plain": [
       "0    19784\n",
       "1     1741\n",
       "Name: debt, dtype: int64"
      ]
     },
     "execution_count": 18,
     "metadata": {},
     "output_type": "execute_result"
    }
   ],
   "source": [
    "df['debt'].value_counts()"
   ]
  },
  {
   "cell_type": "markdown",
   "id": "b1a452f3",
   "metadata": {},
   "source": [
    "В столбцах 'education_id', 'family_status_id' и 'debt' все выглядит достоверно."
   ]
  },
  {
   "cell_type": "code",
   "execution_count": 19,
   "id": "60694a42",
   "metadata": {},
   "outputs": [
    {
     "data": {
      "text/plain": [
       "F      14236\n",
       "M       7288\n",
       "XNA        1\n",
       "Name: gender, dtype: int64"
      ]
     },
     "execution_count": 19,
     "metadata": {},
     "output_type": "execute_result"
    }
   ],
   "source": [
    "# подсчет уникальных значений\n",
    "df['gender'].value_counts()"
   ]
  },
  {
   "cell_type": "markdown",
   "id": "b6a33318",
   "metadata": {},
   "source": [
    "В данном исследование пол не влияет на результаты. Мы можем удалить эту строку или же заменить значение на какой-либо гендер."
   ]
  },
  {
   "cell_type": "code",
   "execution_count": 20,
   "id": "1df3f54d",
   "metadata": {},
   "outputs": [],
   "source": [
    "df['gender'] = df['gender'].replace('XNA', 'M')"
   ]
  },
  {
   "cell_type": "code",
   "execution_count": 21,
   "id": "30edea57",
   "metadata": {},
   "outputs": [
    {
     "data": {
      "text/plain": [
       "F    14236\n",
       "M     7289\n",
       "Name: gender, dtype: int64"
      ]
     },
     "execution_count": 21,
     "metadata": {},
     "output_type": "execute_result"
    }
   ],
   "source": [
    "# проверка\n",
    "df['gender'].value_counts()"
   ]
  },
  {
   "cell_type": "markdown",
   "id": "6c053576",
   "metadata": {},
   "source": [
    "Мы разобрались с аномальными значениями. Дальше по необходимости заменим типы данных и удалим дубликаты."
   ]
  },
  {
   "cell_type": "markdown",
   "id": "27f85173",
   "metadata": {},
   "source": [
    "### Шаг 2.3. Изменение типов данных."
   ]
  },
  {
   "cell_type": "markdown",
   "id": "b89c958e",
   "metadata": {},
   "source": [
    "Заменим вещественный тип данных `float` на целочисленный `int` в столбцах `total_income` и `days_emploued`,  так как количество дней и доход могут иметь только целое значение."
   ]
  },
  {
   "cell_type": "code",
   "execution_count": 22,
   "id": "d6777bcd",
   "metadata": {},
   "outputs": [],
   "source": [
    "# замена типа данных в столбцах total_income и days_employed\n",
    "df['total_income'] = df['total_income'].astype(int)\n",
    "df['days_employed'] = df['days_employed'].astype(int)"
   ]
  },
  {
   "cell_type": "markdown",
   "id": "354323bc",
   "metadata": {},
   "source": [
    "### Шаг 2.4. Удаление дубликатов."
   ]
  },
  {
   "cell_type": "markdown",
   "id": "d7fe12e6",
   "metadata": {},
   "source": [
    "В данных встречаются явные дубликаты. Удалим их с помощью метода `drop_duplicates`. В столбце `education` встречаются дубликаты по регистру, для их удаления воспользуемся методом `str.lower()`."
   ]
  },
  {
   "cell_type": "code",
   "execution_count": 23,
   "id": "03df913c",
   "metadata": {},
   "outputs": [
    {
     "data": {
      "text/plain": [
       "54"
      ]
     },
     "execution_count": 23,
     "metadata": {},
     "output_type": "execute_result"
    }
   ],
   "source": [
    "# подсчет дубликатов в df\n",
    "df.duplicated().sum()"
   ]
  },
  {
   "cell_type": "code",
   "execution_count": 24,
   "id": "6cb167a5",
   "metadata": {},
   "outputs": [],
   "source": [
    "# удаления явных дубликатов\n",
    "df = df.drop_duplicates().reset_index(drop=True)"
   ]
  },
  {
   "cell_type": "code",
   "execution_count": 25,
   "id": "95fb13b1",
   "metadata": {},
   "outputs": [
    {
     "data": {
      "text/plain": [
       "0"
      ]
     },
     "execution_count": 25,
     "metadata": {},
     "output_type": "execute_result"
    }
   ],
   "source": [
    "# проверка\n",
    "df.duplicated().sum()"
   ]
  },
  {
   "cell_type": "code",
   "execution_count": 26,
   "id": "9680a467",
   "metadata": {},
   "outputs": [
    {
     "data": {
      "text/plain": [
       "среднее                13705\n",
       "высшее                  4710\n",
       "СРЕДНЕЕ                  772\n",
       "Среднее                  711\n",
       "неоконченное высшее      668\n",
       "ВЫСШЕЕ                   273\n",
       "Высшее                   268\n",
       "начальное                250\n",
       "Неоконченное высшее       47\n",
       "НЕОКОНЧЕННОЕ ВЫСШЕЕ       29\n",
       "НАЧАЛЬНОЕ                 17\n",
       "Начальное                 15\n",
       "ученая степень             4\n",
       "Ученая степень             1\n",
       "УЧЕНАЯ СТЕПЕНЬ             1\n",
       "Name: education, dtype: int64"
      ]
     },
     "execution_count": 26,
     "metadata": {},
     "output_type": "execute_result"
    }
   ],
   "source": [
    "# подсчет уникальных значений в стобце education с помощью метода value_counts()\n",
    "df['education'].value_counts()"
   ]
  },
  {
   "cell_type": "code",
   "execution_count": 27,
   "id": "48cecec6",
   "metadata": {},
   "outputs": [],
   "source": [
    "# приведение всех значений столбца к нижнему регистру методом str.lower()\n",
    "df['education'] = df['education'].str.lower()"
   ]
  },
  {
   "cell_type": "code",
   "execution_count": 28,
   "id": "1e5578ed",
   "metadata": {},
   "outputs": [
    {
     "data": {
      "text/plain": [
       "среднее                15188\n",
       "высшее                  5251\n",
       "неоконченное высшее      744\n",
       "начальное                282\n",
       "ученая степень             6\n",
       "Name: education, dtype: int64"
      ]
     },
     "execution_count": 28,
     "metadata": {},
     "output_type": "execute_result"
    }
   ],
   "source": [
    "# подсчет уникальных значений в стобце education после приведение к нижнему регистру\n",
    "df['education'].value_counts()"
   ]
  },
  {
   "cell_type": "markdown",
   "id": "4394e0e4",
   "metadata": {},
   "source": [
    "Проверим остальные столбцы на дубликаты"
   ]
  },
  {
   "cell_type": "code",
   "execution_count": 29,
   "id": "85ae1ffc",
   "metadata": {},
   "outputs": [
    {
     "data": {
      "text/plain": [
       "женат / замужем          12344\n",
       "гражданский брак          4163\n",
       "Не женат / не замужем     2810\n",
       "в разводе                 1195\n",
       "вдовец / вдова             959\n",
       "Name: family_status, dtype: int64"
      ]
     },
     "execution_count": 29,
     "metadata": {},
     "output_type": "execute_result"
    }
   ],
   "source": [
    "# подсчет уникальных значений\n",
    "df['family_status'].value_counts()"
   ]
  },
  {
   "cell_type": "code",
   "execution_count": 30,
   "id": "84f764d1",
   "metadata": {},
   "outputs": [],
   "source": [
    "# приведение значений столбца к нижнему регистру\n",
    "df['family_status'] = df['family_status'].str.lower()"
   ]
  },
  {
   "cell_type": "code",
   "execution_count": 31,
   "id": "4e6d021e",
   "metadata": {},
   "outputs": [
    {
     "data": {
      "text/plain": [
       "сотрудник          11091\n",
       "компаньон           5080\n",
       "пенсионер           3837\n",
       "госслужащий         1457\n",
       "безработный            2\n",
       "предприниматель        2\n",
       "студент                1\n",
       "в декрете              1\n",
       "Name: income_type, dtype: int64"
      ]
     },
     "execution_count": 31,
     "metadata": {},
     "output_type": "execute_result"
    }
   ],
   "source": [
    "# получение уникальных значений\n",
    "df['income_type'].value_counts()"
   ]
  },
  {
   "cell_type": "code",
   "execution_count": 32,
   "id": "ce44f08c",
   "metadata": {},
   "outputs": [
    {
     "data": {
      "text/plain": [
       "свадьба                                   793\n",
       "на проведение свадьбы                     773\n",
       "сыграть свадьбу                           769\n",
       "операции с недвижимостью                  675\n",
       "покупка коммерческой недвижимости         662\n",
       "покупка жилья для сдачи                   652\n",
       "операции с жильем                         652\n",
       "операции с коммерческой недвижимостью     650\n",
       "покупка жилья                             646\n",
       "жилье                                     646\n",
       "покупка жилья для семьи                   638\n",
       "строительство собственной недвижимости    635\n",
       "недвижимость                              633\n",
       "операции со своей недвижимостью           627\n",
       "строительство жилой недвижимости          625\n",
       "покупка недвижимости                      621\n",
       "покупка своего жилья                      620\n",
       "строительство недвижимости                619\n",
       "ремонт жилью                              607\n",
       "покупка жилой недвижимости                606\n",
       "на покупку своего автомобиля              505\n",
       "заняться высшим образованием              496\n",
       "автомобиль                                494\n",
       "сделка с подержанным автомобилем          486\n",
       "свой автомобиль                           479\n",
       "на покупку подержанного автомобиля        478\n",
       "автомобили                                478\n",
       "на покупку автомобиля                     472\n",
       "приобретение автомобиля                   461\n",
       "дополнительное образование                460\n",
       "сделка с автомобилем                      455\n",
       "высшее образование                        452\n",
       "образование                               447\n",
       "получение дополнительного образования     447\n",
       "получение образования                     442\n",
       "профильное образование                    436\n",
       "получение высшего образования             426\n",
       "заняться образованием                     408\n",
       "Name: purpose, dtype: int64"
      ]
     },
     "execution_count": 32,
     "metadata": {},
     "output_type": "execute_result"
    }
   ],
   "source": [
    "# получение уникальных значений\n",
    "df['purpose'].value_counts()"
   ]
  },
  {
   "cell_type": "code",
   "execution_count": 33,
   "id": "008ec84a",
   "metadata": {},
   "outputs": [
    {
     "data": {
      "text/plain": [
       "17"
      ]
     },
     "execution_count": 33,
     "metadata": {},
     "output_type": "execute_result"
    }
   ],
   "source": [
    "df.duplicated().sum()"
   ]
  },
  {
   "cell_type": "markdown",
   "id": "b5c5b39a",
   "metadata": {},
   "source": [
    "После стандартизации написания появились полные дубликаты. Удалим их."
   ]
  },
  {
   "cell_type": "code",
   "execution_count": 34,
   "id": "d0fe0d69",
   "metadata": {},
   "outputs": [],
   "source": [
    "df = df.drop_duplicates().reset_index(drop=True)"
   ]
  },
  {
   "cell_type": "code",
   "execution_count": 35,
   "id": "98f23a81",
   "metadata": {},
   "outputs": [
    {
     "data": {
      "text/plain": [
       "0"
      ]
     },
     "execution_count": 35,
     "metadata": {},
     "output_type": "execute_result"
    }
   ],
   "source": [
    "df.duplicated().sum()"
   ]
  },
  {
   "cell_type": "markdown",
   "id": "8801df8c",
   "metadata": {},
   "source": [
    "В столбце `purpose` мы видим дубликаты, такие как `свадьба`, `на проведение свадьбы`, `сыграть свадьбу`. Удалять их сейчас не будем, так как потом произведем категоризацию.\n",
    "\n",
    " **Вывод**\n",
    " \n",
    "Таким образом мы избавились от дубликтов в данных. Сначала мы удалили явные дубликаты методом `drop_duplicates()`, значения в ячейках которых полностью совпадали. Такие дубликаты могут возникнуть по техничсекой ошибке, например, при выгрузке данных или при ручном заполнении, когда человек случайно дважды внес одни и те же данные.\n",
    "\n",
    "Далее мы удалили дубликаты по регистру с помощью метода `str.lower()`."
   ]
  },
  {
   "cell_type": "markdown",
   "id": "24b12b04",
   "metadata": {},
   "source": [
    "### Шаг 2.5. Формирование дополнительных датафреймов словарей, декомпозиция исходного датафрейма."
   ]
  },
  {
   "cell_type": "markdown",
   "id": "b7653e43",
   "metadata": {},
   "source": [
    "Создадим два новых датафрейма, в которых: \n",
    "* каждому уникальному значению из `education` соответствует уникальное значение `education_id` — в первом;\n",
    "* каждому уникальному значению из `family_status` соответствует уникальное значение `family_status_id` — во втором.\n",
    "\n",
    "Далее мы сможем обращаться к новым датафреймам по идентификаторам."
   ]
  },
  {
   "cell_type": "code",
   "execution_count": 36,
   "id": "d11ea6b7",
   "metadata": {},
   "outputs": [],
   "source": [
    "# запишем новый датафрейм education\n",
    "data_education = df[['education_id', 'education']]"
   ]
  },
  {
   "cell_type": "code",
   "execution_count": 37,
   "id": "702e39de",
   "metadata": {},
   "outputs": [],
   "source": [
    "# запишем новый датафрейм family_status\n",
    "data_family = df[['family_status_id', 'family_status']]"
   ]
  },
  {
   "cell_type": "code",
   "execution_count": 38,
   "id": "8a3ec30e",
   "metadata": {},
   "outputs": [],
   "source": [
    "# удаление дубликатов в новых датафреймах\n",
    "data_education = data_education.drop_duplicates().reset_index(drop=True)\n",
    "data_family = data_family.drop_duplicates().reset_index(drop=True)"
   ]
  },
  {
   "cell_type": "code",
   "execution_count": 39,
   "id": "b5357527",
   "metadata": {
    "scrolled": true
   },
   "outputs": [
    {
     "data": {
      "text/html": [
       "<div>\n",
       "<style scoped>\n",
       "    .dataframe tbody tr th:only-of-type {\n",
       "        vertical-align: middle;\n",
       "    }\n",
       "\n",
       "    .dataframe tbody tr th {\n",
       "        vertical-align: top;\n",
       "    }\n",
       "\n",
       "    .dataframe thead th {\n",
       "        text-align: right;\n",
       "    }\n",
       "</style>\n",
       "<table border=\"1\" class=\"dataframe\">\n",
       "  <thead>\n",
       "    <tr style=\"text-align: right;\">\n",
       "      <th></th>\n",
       "      <th>children</th>\n",
       "      <th>days_employed</th>\n",
       "      <th>dob_years</th>\n",
       "      <th>education_id</th>\n",
       "      <th>family_status_id</th>\n",
       "      <th>gender</th>\n",
       "      <th>income_type</th>\n",
       "      <th>debt</th>\n",
       "      <th>total_income</th>\n",
       "      <th>purpose</th>\n",
       "    </tr>\n",
       "  </thead>\n",
       "  <tbody>\n",
       "    <tr>\n",
       "      <th>12107</th>\n",
       "      <td>0</td>\n",
       "      <td>3441</td>\n",
       "      <td>34</td>\n",
       "      <td>0</td>\n",
       "      <td>0</td>\n",
       "      <td>F</td>\n",
       "      <td>госслужащий</td>\n",
       "      <td>0</td>\n",
       "      <td>260372</td>\n",
       "      <td>операции со своей недвижимостью</td>\n",
       "    </tr>\n",
       "    <tr>\n",
       "      <th>16458</th>\n",
       "      <td>2</td>\n",
       "      <td>3015</td>\n",
       "      <td>42</td>\n",
       "      <td>0</td>\n",
       "      <td>0</td>\n",
       "      <td>F</td>\n",
       "      <td>госслужащий</td>\n",
       "      <td>0</td>\n",
       "      <td>66459</td>\n",
       "      <td>образование</td>\n",
       "    </tr>\n",
       "    <tr>\n",
       "      <th>3337</th>\n",
       "      <td>0</td>\n",
       "      <td>1630</td>\n",
       "      <td>60</td>\n",
       "      <td>1</td>\n",
       "      <td>4</td>\n",
       "      <td>F</td>\n",
       "      <td>пенсионер</td>\n",
       "      <td>0</td>\n",
       "      <td>97511</td>\n",
       "      <td>сделка с автомобилем</td>\n",
       "    </tr>\n",
       "    <tr>\n",
       "      <th>15526</th>\n",
       "      <td>3</td>\n",
       "      <td>1041</td>\n",
       "      <td>30</td>\n",
       "      <td>1</td>\n",
       "      <td>0</td>\n",
       "      <td>F</td>\n",
       "      <td>сотрудник</td>\n",
       "      <td>0</td>\n",
       "      <td>111726</td>\n",
       "      <td>покупка своего жилья</td>\n",
       "    </tr>\n",
       "    <tr>\n",
       "      <th>10278</th>\n",
       "      <td>0</td>\n",
       "      <td>1630</td>\n",
       "      <td>62</td>\n",
       "      <td>0</td>\n",
       "      <td>2</td>\n",
       "      <td>F</td>\n",
       "      <td>пенсионер</td>\n",
       "      <td>0</td>\n",
       "      <td>249382</td>\n",
       "      <td>операции с недвижимостью</td>\n",
       "    </tr>\n",
       "    <tr>\n",
       "      <th>7677</th>\n",
       "      <td>0</td>\n",
       "      <td>173</td>\n",
       "      <td>45</td>\n",
       "      <td>1</td>\n",
       "      <td>4</td>\n",
       "      <td>M</td>\n",
       "      <td>сотрудник</td>\n",
       "      <td>1</td>\n",
       "      <td>286002</td>\n",
       "      <td>профильное образование</td>\n",
       "    </tr>\n",
       "    <tr>\n",
       "      <th>13226</th>\n",
       "      <td>1</td>\n",
       "      <td>4691</td>\n",
       "      <td>40</td>\n",
       "      <td>0</td>\n",
       "      <td>1</td>\n",
       "      <td>F</td>\n",
       "      <td>сотрудник</td>\n",
       "      <td>0</td>\n",
       "      <td>117124</td>\n",
       "      <td>на проведение свадьбы</td>\n",
       "    </tr>\n",
       "    <tr>\n",
       "      <th>1509</th>\n",
       "      <td>1</td>\n",
       "      <td>9184</td>\n",
       "      <td>43</td>\n",
       "      <td>1</td>\n",
       "      <td>0</td>\n",
       "      <td>F</td>\n",
       "      <td>госслужащий</td>\n",
       "      <td>0</td>\n",
       "      <td>101771</td>\n",
       "      <td>образование</td>\n",
       "    </tr>\n",
       "    <tr>\n",
       "      <th>19768</th>\n",
       "      <td>0</td>\n",
       "      <td>1329</td>\n",
       "      <td>51</td>\n",
       "      <td>1</td>\n",
       "      <td>0</td>\n",
       "      <td>F</td>\n",
       "      <td>компаньон</td>\n",
       "      <td>0</td>\n",
       "      <td>160873</td>\n",
       "      <td>высшее образование</td>\n",
       "    </tr>\n",
       "    <tr>\n",
       "      <th>11801</th>\n",
       "      <td>0</td>\n",
       "      <td>375</td>\n",
       "      <td>32</td>\n",
       "      <td>0</td>\n",
       "      <td>3</td>\n",
       "      <td>F</td>\n",
       "      <td>сотрудник</td>\n",
       "      <td>0</td>\n",
       "      <td>192991</td>\n",
       "      <td>покупка коммерческой недвижимости</td>\n",
       "    </tr>\n",
       "  </tbody>\n",
       "</table>\n",
       "</div>"
      ],
      "text/plain": [
       "       children  days_employed dob_years  education_id  family_status_id  \\\n",
       "12107         0           3441        34             0                 0   \n",
       "16458         2           3015        42             0                 0   \n",
       "3337          0           1630        60             1                 4   \n",
       "15526         3           1041        30             1                 0   \n",
       "10278         0           1630        62             0                 2   \n",
       "7677          0            173        45             1                 4   \n",
       "13226         1           4691        40             0                 1   \n",
       "1509          1           9184        43             1                 0   \n",
       "19768         0           1329        51             1                 0   \n",
       "11801         0            375        32             0                 3   \n",
       "\n",
       "      gender  income_type  debt  total_income  \\\n",
       "12107      F  госслужащий     0        260372   \n",
       "16458      F  госслужащий     0         66459   \n",
       "3337       F    пенсионер     0         97511   \n",
       "15526      F    сотрудник     0        111726   \n",
       "10278      F    пенсионер     0        249382   \n",
       "7677       M    сотрудник     1        286002   \n",
       "13226      F    сотрудник     0        117124   \n",
       "1509       F  госслужащий     0        101771   \n",
       "19768      F    компаньон     0        160873   \n",
       "11801      F    сотрудник     0        192991   \n",
       "\n",
       "                                 purpose  \n",
       "12107    операции со своей недвижимостью  \n",
       "16458                        образование  \n",
       "3337                сделка с автомобилем  \n",
       "15526               покупка своего жилья  \n",
       "10278           операции с недвижимостью  \n",
       "7677              профильное образование  \n",
       "13226              на проведение свадьбы  \n",
       "1509                         образование  \n",
       "19768                 высшее образование  \n",
       "11801  покупка коммерческой недвижимости  "
      ]
     },
     "execution_count": 39,
     "metadata": {},
     "output_type": "execute_result"
    }
   ],
   "source": [
    "# удаление столбцов 'family_status', 'education' из старого датафрейма и запись его в df\n",
    "df = df.drop(columns=['family_status', 'education'], axis=0)\n",
    "df.sample(10)"
   ]
  },
  {
   "cell_type": "markdown",
   "id": "bc9c7f15",
   "metadata": {},
   "source": [
    "### Шаг 2.6. Категоризация дохода."
   ]
  },
  {
   "cell_type": "markdown",
   "id": "12deb202",
   "metadata": {},
   "source": [
    "Для утобства создадим столбец `total_income_category`, в котором распределим кредитополучателей по категории в зависимости от величины дохода:\n",
    "* 0–30000 — `'E'`;\n",
    "* 30001–50000 — `'D'`;\n",
    "* 50001–200000 — `'C'`;\n",
    "* 200001–1000000 — `'B'`;\n",
    "* 1000001 и выше — `'A'`."
   ]
  },
  {
   "cell_type": "code",
   "execution_count": 40,
   "id": "8bb098f9",
   "metadata": {},
   "outputs": [
    {
     "data": {
      "text/html": [
       "<div>\n",
       "<style scoped>\n",
       "    .dataframe tbody tr th:only-of-type {\n",
       "        vertical-align: middle;\n",
       "    }\n",
       "\n",
       "    .dataframe tbody tr th {\n",
       "        vertical-align: top;\n",
       "    }\n",
       "\n",
       "    .dataframe thead th {\n",
       "        text-align: right;\n",
       "    }\n",
       "</style>\n",
       "<table border=\"1\" class=\"dataframe\">\n",
       "  <thead>\n",
       "    <tr style=\"text-align: right;\">\n",
       "      <th></th>\n",
       "      <th>children</th>\n",
       "      <th>days_employed</th>\n",
       "      <th>dob_years</th>\n",
       "      <th>education_id</th>\n",
       "      <th>family_status_id</th>\n",
       "      <th>gender</th>\n",
       "      <th>income_type</th>\n",
       "      <th>debt</th>\n",
       "      <th>total_income</th>\n",
       "      <th>purpose</th>\n",
       "      <th>total_income_category</th>\n",
       "    </tr>\n",
       "  </thead>\n",
       "  <tbody>\n",
       "    <tr>\n",
       "      <th>0</th>\n",
       "      <td>1</td>\n",
       "      <td>8437</td>\n",
       "      <td>42</td>\n",
       "      <td>0</td>\n",
       "      <td>0</td>\n",
       "      <td>F</td>\n",
       "      <td>сотрудник</td>\n",
       "      <td>0</td>\n",
       "      <td>253875</td>\n",
       "      <td>покупка жилья</td>\n",
       "      <td>B</td>\n",
       "    </tr>\n",
       "    <tr>\n",
       "      <th>1</th>\n",
       "      <td>1</td>\n",
       "      <td>4024</td>\n",
       "      <td>36</td>\n",
       "      <td>1</td>\n",
       "      <td>0</td>\n",
       "      <td>F</td>\n",
       "      <td>сотрудник</td>\n",
       "      <td>0</td>\n",
       "      <td>112080</td>\n",
       "      <td>приобретение автомобиля</td>\n",
       "      <td>C</td>\n",
       "    </tr>\n",
       "    <tr>\n",
       "      <th>2</th>\n",
       "      <td>0</td>\n",
       "      <td>5623</td>\n",
       "      <td>33</td>\n",
       "      <td>1</td>\n",
       "      <td>0</td>\n",
       "      <td>M</td>\n",
       "      <td>сотрудник</td>\n",
       "      <td>0</td>\n",
       "      <td>145885</td>\n",
       "      <td>покупка жилья</td>\n",
       "      <td>C</td>\n",
       "    </tr>\n",
       "    <tr>\n",
       "      <th>3</th>\n",
       "      <td>3</td>\n",
       "      <td>4124</td>\n",
       "      <td>32</td>\n",
       "      <td>1</td>\n",
       "      <td>0</td>\n",
       "      <td>M</td>\n",
       "      <td>сотрудник</td>\n",
       "      <td>0</td>\n",
       "      <td>267628</td>\n",
       "      <td>дополнительное образование</td>\n",
       "      <td>B</td>\n",
       "    </tr>\n",
       "    <tr>\n",
       "      <th>4</th>\n",
       "      <td>0</td>\n",
       "      <td>1630</td>\n",
       "      <td>53</td>\n",
       "      <td>1</td>\n",
       "      <td>1</td>\n",
       "      <td>F</td>\n",
       "      <td>пенсионер</td>\n",
       "      <td>0</td>\n",
       "      <td>158616</td>\n",
       "      <td>сыграть свадьбу</td>\n",
       "      <td>C</td>\n",
       "    </tr>\n",
       "    <tr>\n",
       "      <th>5</th>\n",
       "      <td>0</td>\n",
       "      <td>926</td>\n",
       "      <td>27</td>\n",
       "      <td>0</td>\n",
       "      <td>1</td>\n",
       "      <td>M</td>\n",
       "      <td>компаньон</td>\n",
       "      <td>0</td>\n",
       "      <td>255763</td>\n",
       "      <td>покупка жилья</td>\n",
       "      <td>B</td>\n",
       "    </tr>\n",
       "    <tr>\n",
       "      <th>6</th>\n",
       "      <td>0</td>\n",
       "      <td>2879</td>\n",
       "      <td>43</td>\n",
       "      <td>0</td>\n",
       "      <td>0</td>\n",
       "      <td>F</td>\n",
       "      <td>компаньон</td>\n",
       "      <td>0</td>\n",
       "      <td>240525</td>\n",
       "      <td>операции с жильем</td>\n",
       "      <td>B</td>\n",
       "    </tr>\n",
       "    <tr>\n",
       "      <th>7</th>\n",
       "      <td>0</td>\n",
       "      <td>152</td>\n",
       "      <td>50</td>\n",
       "      <td>1</td>\n",
       "      <td>0</td>\n",
       "      <td>M</td>\n",
       "      <td>сотрудник</td>\n",
       "      <td>0</td>\n",
       "      <td>135823</td>\n",
       "      <td>образование</td>\n",
       "      <td>C</td>\n",
       "    </tr>\n",
       "    <tr>\n",
       "      <th>8</th>\n",
       "      <td>2</td>\n",
       "      <td>6929</td>\n",
       "      <td>35</td>\n",
       "      <td>0</td>\n",
       "      <td>1</td>\n",
       "      <td>F</td>\n",
       "      <td>сотрудник</td>\n",
       "      <td>0</td>\n",
       "      <td>95856</td>\n",
       "      <td>на проведение свадьбы</td>\n",
       "      <td>C</td>\n",
       "    </tr>\n",
       "    <tr>\n",
       "      <th>9</th>\n",
       "      <td>0</td>\n",
       "      <td>2188</td>\n",
       "      <td>41</td>\n",
       "      <td>1</td>\n",
       "      <td>0</td>\n",
       "      <td>M</td>\n",
       "      <td>сотрудник</td>\n",
       "      <td>0</td>\n",
       "      <td>144425</td>\n",
       "      <td>покупка жилья для семьи</td>\n",
       "      <td>C</td>\n",
       "    </tr>\n",
       "  </tbody>\n",
       "</table>\n",
       "</div>"
      ],
      "text/plain": [
       "   children  days_employed dob_years  education_id  family_status_id gender  \\\n",
       "0         1           8437        42             0                 0      F   \n",
       "1         1           4024        36             1                 0      F   \n",
       "2         0           5623        33             1                 0      M   \n",
       "3         3           4124        32             1                 0      M   \n",
       "4         0           1630        53             1                 1      F   \n",
       "5         0            926        27             0                 1      M   \n",
       "6         0           2879        43             0                 0      F   \n",
       "7         0            152        50             1                 0      M   \n",
       "8         2           6929        35             0                 1      F   \n",
       "9         0           2188        41             1                 0      M   \n",
       "\n",
       "  income_type  debt  total_income                     purpose  \\\n",
       "0   сотрудник     0        253875               покупка жилья   \n",
       "1   сотрудник     0        112080     приобретение автомобиля   \n",
       "2   сотрудник     0        145885               покупка жилья   \n",
       "3   сотрудник     0        267628  дополнительное образование   \n",
       "4   пенсионер     0        158616             сыграть свадьбу   \n",
       "5   компаньон     0        255763               покупка жилья   \n",
       "6   компаньон     0        240525           операции с жильем   \n",
       "7   сотрудник     0        135823                 образование   \n",
       "8   сотрудник     0         95856       на проведение свадьбы   \n",
       "9   сотрудник     0        144425     покупка жилья для семьи   \n",
       "\n",
       "  total_income_category  \n",
       "0                     B  \n",
       "1                     C  \n",
       "2                     C  \n",
       "3                     B  \n",
       "4                     C  \n",
       "5                     B  \n",
       "6                     B  \n",
       "7                     C  \n",
       "8                     C  \n",
       "9                     C  "
      ]
     },
     "execution_count": 40,
     "metadata": {},
     "output_type": "execute_result"
    }
   ],
   "source": [
    "# создание функции total_income_category для определения диапазонов категорий\n",
    "# применение фукнции с столбцу 'total_income' и запись результатов в новый столбец 'total_income_category'\n",
    "# получение первых 10 строк таблицы df_new\n",
    "def total_income_category(total_income):\n",
    "    if total_income <= 30000:\n",
    "        return 'E'\n",
    "    if total_income >= 30001 and total_income <= 50000:\n",
    "        return 'D'\n",
    "    if total_income >= 50001 and total_income <= 200000:\n",
    "        return 'C'\n",
    "    if total_income >= 200001 and total_income <= 1000000:\n",
    "        return 'B'\n",
    "    if total_income >= 1000001:\n",
    "        return 'A'\n",
    "df['total_income_category'] = df['total_income'].apply(total_income_category)\n",
    "df.head(10)"
   ]
  },
  {
   "cell_type": "markdown",
   "id": "965cb12f",
   "metadata": {},
   "source": [
    "### Шаг 2.7. Категоризация целей кредита."
   ]
  },
  {
   "cell_type": "markdown",
   "id": "cae16678",
   "metadata": {},
   "source": [
    "Для категоризации целей кредита мы выявили ключевые слова, которые будет искать условная конструкция `if`."
   ]
  },
  {
   "cell_type": "code",
   "execution_count": 41,
   "id": "a62df2c6",
   "metadata": {},
   "outputs": [
    {
     "data": {
      "text/html": [
       "<div>\n",
       "<style scoped>\n",
       "    .dataframe tbody tr th:only-of-type {\n",
       "        vertical-align: middle;\n",
       "    }\n",
       "\n",
       "    .dataframe tbody tr th {\n",
       "        vertical-align: top;\n",
       "    }\n",
       "\n",
       "    .dataframe thead th {\n",
       "        text-align: right;\n",
       "    }\n",
       "</style>\n",
       "<table border=\"1\" class=\"dataframe\">\n",
       "  <thead>\n",
       "    <tr style=\"text-align: right;\">\n",
       "      <th></th>\n",
       "      <th>children</th>\n",
       "      <th>days_employed</th>\n",
       "      <th>dob_years</th>\n",
       "      <th>education_id</th>\n",
       "      <th>family_status_id</th>\n",
       "      <th>gender</th>\n",
       "      <th>income_type</th>\n",
       "      <th>debt</th>\n",
       "      <th>total_income</th>\n",
       "      <th>purpose</th>\n",
       "      <th>total_income_category</th>\n",
       "      <th>purpose_category</th>\n",
       "    </tr>\n",
       "  </thead>\n",
       "  <tbody>\n",
       "    <tr>\n",
       "      <th>0</th>\n",
       "      <td>1</td>\n",
       "      <td>8437</td>\n",
       "      <td>42</td>\n",
       "      <td>0</td>\n",
       "      <td>0</td>\n",
       "      <td>F</td>\n",
       "      <td>сотрудник</td>\n",
       "      <td>0</td>\n",
       "      <td>253875</td>\n",
       "      <td>покупка жилья</td>\n",
       "      <td>B</td>\n",
       "      <td>операции с недвижимостью</td>\n",
       "    </tr>\n",
       "    <tr>\n",
       "      <th>1</th>\n",
       "      <td>1</td>\n",
       "      <td>4024</td>\n",
       "      <td>36</td>\n",
       "      <td>1</td>\n",
       "      <td>0</td>\n",
       "      <td>F</td>\n",
       "      <td>сотрудник</td>\n",
       "      <td>0</td>\n",
       "      <td>112080</td>\n",
       "      <td>приобретение автомобиля</td>\n",
       "      <td>C</td>\n",
       "      <td>операции с автомобилем</td>\n",
       "    </tr>\n",
       "    <tr>\n",
       "      <th>2</th>\n",
       "      <td>0</td>\n",
       "      <td>5623</td>\n",
       "      <td>33</td>\n",
       "      <td>1</td>\n",
       "      <td>0</td>\n",
       "      <td>M</td>\n",
       "      <td>сотрудник</td>\n",
       "      <td>0</td>\n",
       "      <td>145885</td>\n",
       "      <td>покупка жилья</td>\n",
       "      <td>C</td>\n",
       "      <td>операции с недвижимостью</td>\n",
       "    </tr>\n",
       "    <tr>\n",
       "      <th>3</th>\n",
       "      <td>3</td>\n",
       "      <td>4124</td>\n",
       "      <td>32</td>\n",
       "      <td>1</td>\n",
       "      <td>0</td>\n",
       "      <td>M</td>\n",
       "      <td>сотрудник</td>\n",
       "      <td>0</td>\n",
       "      <td>267628</td>\n",
       "      <td>дополнительное образование</td>\n",
       "      <td>B</td>\n",
       "      <td>получение образования</td>\n",
       "    </tr>\n",
       "    <tr>\n",
       "      <th>4</th>\n",
       "      <td>0</td>\n",
       "      <td>1630</td>\n",
       "      <td>53</td>\n",
       "      <td>1</td>\n",
       "      <td>1</td>\n",
       "      <td>F</td>\n",
       "      <td>пенсионер</td>\n",
       "      <td>0</td>\n",
       "      <td>158616</td>\n",
       "      <td>сыграть свадьбу</td>\n",
       "      <td>C</td>\n",
       "      <td>проведение свадьбы</td>\n",
       "    </tr>\n",
       "    <tr>\n",
       "      <th>5</th>\n",
       "      <td>0</td>\n",
       "      <td>926</td>\n",
       "      <td>27</td>\n",
       "      <td>0</td>\n",
       "      <td>1</td>\n",
       "      <td>M</td>\n",
       "      <td>компаньон</td>\n",
       "      <td>0</td>\n",
       "      <td>255763</td>\n",
       "      <td>покупка жилья</td>\n",
       "      <td>B</td>\n",
       "      <td>операции с недвижимостью</td>\n",
       "    </tr>\n",
       "    <tr>\n",
       "      <th>6</th>\n",
       "      <td>0</td>\n",
       "      <td>2879</td>\n",
       "      <td>43</td>\n",
       "      <td>0</td>\n",
       "      <td>0</td>\n",
       "      <td>F</td>\n",
       "      <td>компаньон</td>\n",
       "      <td>0</td>\n",
       "      <td>240525</td>\n",
       "      <td>операции с жильем</td>\n",
       "      <td>B</td>\n",
       "      <td>операции с недвижимостью</td>\n",
       "    </tr>\n",
       "    <tr>\n",
       "      <th>7</th>\n",
       "      <td>0</td>\n",
       "      <td>152</td>\n",
       "      <td>50</td>\n",
       "      <td>1</td>\n",
       "      <td>0</td>\n",
       "      <td>M</td>\n",
       "      <td>сотрудник</td>\n",
       "      <td>0</td>\n",
       "      <td>135823</td>\n",
       "      <td>образование</td>\n",
       "      <td>C</td>\n",
       "      <td>получение образования</td>\n",
       "    </tr>\n",
       "    <tr>\n",
       "      <th>8</th>\n",
       "      <td>2</td>\n",
       "      <td>6929</td>\n",
       "      <td>35</td>\n",
       "      <td>0</td>\n",
       "      <td>1</td>\n",
       "      <td>F</td>\n",
       "      <td>сотрудник</td>\n",
       "      <td>0</td>\n",
       "      <td>95856</td>\n",
       "      <td>на проведение свадьбы</td>\n",
       "      <td>C</td>\n",
       "      <td>проведение свадьбы</td>\n",
       "    </tr>\n",
       "    <tr>\n",
       "      <th>9</th>\n",
       "      <td>0</td>\n",
       "      <td>2188</td>\n",
       "      <td>41</td>\n",
       "      <td>1</td>\n",
       "      <td>0</td>\n",
       "      <td>M</td>\n",
       "      <td>сотрудник</td>\n",
       "      <td>0</td>\n",
       "      <td>144425</td>\n",
       "      <td>покупка жилья для семьи</td>\n",
       "      <td>C</td>\n",
       "      <td>операции с недвижимостью</td>\n",
       "    </tr>\n",
       "  </tbody>\n",
       "</table>\n",
       "</div>"
      ],
      "text/plain": [
       "   children  days_employed dob_years  education_id  family_status_id gender  \\\n",
       "0         1           8437        42             0                 0      F   \n",
       "1         1           4024        36             1                 0      F   \n",
       "2         0           5623        33             1                 0      M   \n",
       "3         3           4124        32             1                 0      M   \n",
       "4         0           1630        53             1                 1      F   \n",
       "5         0            926        27             0                 1      M   \n",
       "6         0           2879        43             0                 0      F   \n",
       "7         0            152        50             1                 0      M   \n",
       "8         2           6929        35             0                 1      F   \n",
       "9         0           2188        41             1                 0      M   \n",
       "\n",
       "  income_type  debt  total_income                     purpose  \\\n",
       "0   сотрудник     0        253875               покупка жилья   \n",
       "1   сотрудник     0        112080     приобретение автомобиля   \n",
       "2   сотрудник     0        145885               покупка жилья   \n",
       "3   сотрудник     0        267628  дополнительное образование   \n",
       "4   пенсионер     0        158616             сыграть свадьбу   \n",
       "5   компаньон     0        255763               покупка жилья   \n",
       "6   компаньон     0        240525           операции с жильем   \n",
       "7   сотрудник     0        135823                 образование   \n",
       "8   сотрудник     0         95856       на проведение свадьбы   \n",
       "9   сотрудник     0        144425     покупка жилья для семьи   \n",
       "\n",
       "  total_income_category          purpose_category  \n",
       "0                     B  операции с недвижимостью  \n",
       "1                     C    операции с автомобилем  \n",
       "2                     C  операции с недвижимостью  \n",
       "3                     B     получение образования  \n",
       "4                     C        проведение свадьбы  \n",
       "5                     B  операции с недвижимостью  \n",
       "6                     B  операции с недвижимостью  \n",
       "7                     C     получение образования  \n",
       "8                     C        проведение свадьбы  \n",
       "9                     C  операции с недвижимостью  "
      ]
     },
     "execution_count": 41,
     "metadata": {},
     "output_type": "execute_result"
    }
   ],
   "source": [
    "# создание функции purpose_category для определения категорий\n",
    "# применение фукнции с столбцу 'purpose' и запись результатов в новый столбец 'purpose_category'\n",
    "# получение первых 10 строк таблицы df_new\n",
    "def purpose_category(purpose):\n",
    "    if 'свадьб' in purpose:\n",
    "        return 'проведение свадьбы'\n",
    "    if 'образован' in purpose:\n",
    "        return 'получение образования'\n",
    "    if 'авто' in purpose:\n",
    "        return 'операции с автомобилем'\n",
    "    if 'жил' or 'недвиж' in purpose:\n",
    "        return 'операции с недвижимостью'\n",
    "df['purpose_category'] = df['purpose'].apply(purpose_category)  \n",
    "df.head(10)"
   ]
  },
  {
   "cell_type": "markdown",
   "id": "04d09feb",
   "metadata": {},
   "source": [
    "### Ответы на вопросы."
   ]
  },
  {
   "cell_type": "markdown",
   "id": "737c1b7f",
   "metadata": {},
   "source": [
    "##### Вопрос 1:"
   ]
  },
  {
   "cell_type": "markdown",
   "id": "348db0b2",
   "metadata": {},
   "source": [
    "Есть ли зависимость между количеством детей и возвратом кредита в срок?"
   ]
  },
  {
   "cell_type": "code",
   "execution_count": 42,
   "id": "0820fb1b",
   "metadata": {},
   "outputs": [],
   "source": [
    "def correlation(col):\n",
    "    pivot = df.pivot_table(index=col, columns='debt', aggfunc='size')\n",
    "    pivot['%'] = round(pivot[1] / (pivot[0] + pivot[1]) * 100, 2)\n",
    "    return pivot"
   ]
  },
  {
   "cell_type": "code",
   "execution_count": 43,
   "id": "4a892372",
   "metadata": {},
   "outputs": [
    {
     "data": {
      "text/html": [
       "<div>\n",
       "<style scoped>\n",
       "    .dataframe tbody tr th:only-of-type {\n",
       "        vertical-align: middle;\n",
       "    }\n",
       "\n",
       "    .dataframe tbody tr th {\n",
       "        vertical-align: top;\n",
       "    }\n",
       "\n",
       "    .dataframe thead th {\n",
       "        text-align: right;\n",
       "    }\n",
       "</style>\n",
       "<table border=\"1\" class=\"dataframe\">\n",
       "  <thead>\n",
       "    <tr style=\"text-align: right;\">\n",
       "      <th>debt</th>\n",
       "      <th>0</th>\n",
       "      <th>1</th>\n",
       "      <th>%</th>\n",
       "    </tr>\n",
       "    <tr>\n",
       "      <th>children</th>\n",
       "      <th></th>\n",
       "      <th></th>\n",
       "      <th></th>\n",
       "    </tr>\n",
       "  </thead>\n",
       "  <tbody>\n",
       "    <tr>\n",
       "      <th>0</th>\n",
       "      <td>13028.0</td>\n",
       "      <td>1063.0</td>\n",
       "      <td>7.54</td>\n",
       "    </tr>\n",
       "    <tr>\n",
       "      <th>1</th>\n",
       "      <td>4410.0</td>\n",
       "      <td>445.0</td>\n",
       "      <td>9.17</td>\n",
       "    </tr>\n",
       "    <tr>\n",
       "      <th>2</th>\n",
       "      <td>1926.0</td>\n",
       "      <td>202.0</td>\n",
       "      <td>9.49</td>\n",
       "    </tr>\n",
       "    <tr>\n",
       "      <th>3</th>\n",
       "      <td>303.0</td>\n",
       "      <td>27.0</td>\n",
       "      <td>8.18</td>\n",
       "    </tr>\n",
       "    <tr>\n",
       "      <th>4</th>\n",
       "      <td>37.0</td>\n",
       "      <td>4.0</td>\n",
       "      <td>9.76</td>\n",
       "    </tr>\n",
       "    <tr>\n",
       "      <th>5</th>\n",
       "      <td>9.0</td>\n",
       "      <td>NaN</td>\n",
       "      <td>NaN</td>\n",
       "    </tr>\n",
       "  </tbody>\n",
       "</table>\n",
       "</div>"
      ],
      "text/plain": [
       "debt            0       1     %\n",
       "children                       \n",
       "0         13028.0  1063.0  7.54\n",
       "1          4410.0   445.0  9.17\n",
       "2          1926.0   202.0  9.49\n",
       "3           303.0    27.0  8.18\n",
       "4            37.0     4.0  9.76\n",
       "5             9.0     NaN   NaN"
      ]
     },
     "execution_count": 43,
     "metadata": {},
     "output_type": "execute_result"
    }
   ],
   "source": [
    "correlation('children')"
   ]
  },
  {
   "cell_type": "markdown",
   "id": "43d921c1",
   "metadata": {},
   "source": [
    "##### Вывод 1:"
   ]
  },
  {
   "cell_type": "markdown",
   "id": "f627098e",
   "metadata": {},
   "source": [
    "Изучив сводную таблицу можно сделать вывод, что в целом количество детей не сильно влияет на возврат кредита в срок. Семьи с одним ребенком имеют не намного больше задолженностей по старым кредитам, чем семьи без детей. В тоже время семьи с тремя детьми практически не отличаются по показаетлю от семей без детей. Семьи с 5 детьми не имеют задолженностей по кредитам. Так же можно заметить, что семьи без детей чаще берут кредиты."
   ]
  },
  {
   "cell_type": "markdown",
   "id": "7f88cb35",
   "metadata": {},
   "source": [
    "##### Вопрос 2:"
   ]
  },
  {
   "cell_type": "markdown",
   "id": "9cc089fe",
   "metadata": {},
   "source": [
    "Есть ли зависимость между семейным положением и возвратом кредита в срок?"
   ]
  },
  {
   "cell_type": "code",
   "execution_count": 44,
   "id": "9f3c5366",
   "metadata": {},
   "outputs": [
    {
     "data": {
      "text/html": [
       "<div>\n",
       "<style scoped>\n",
       "    .dataframe tbody tr th:only-of-type {\n",
       "        vertical-align: middle;\n",
       "    }\n",
       "\n",
       "    .dataframe tbody tr th {\n",
       "        vertical-align: top;\n",
       "    }\n",
       "\n",
       "    .dataframe thead th {\n",
       "        text-align: right;\n",
       "    }\n",
       "</style>\n",
       "<table border=\"1\" class=\"dataframe\">\n",
       "  <thead>\n",
       "    <tr style=\"text-align: right;\">\n",
       "      <th>debt</th>\n",
       "      <th>0</th>\n",
       "      <th>1</th>\n",
       "      <th>%</th>\n",
       "    </tr>\n",
       "    <tr>\n",
       "      <th>family_status_id</th>\n",
       "      <th></th>\n",
       "      <th></th>\n",
       "      <th></th>\n",
       "    </tr>\n",
       "  </thead>\n",
       "  <tbody>\n",
       "    <tr>\n",
       "      <th>0</th>\n",
       "      <td>11408</td>\n",
       "      <td>931</td>\n",
       "      <td>7.55</td>\n",
       "    </tr>\n",
       "    <tr>\n",
       "      <th>1</th>\n",
       "      <td>3763</td>\n",
       "      <td>388</td>\n",
       "      <td>9.35</td>\n",
       "    </tr>\n",
       "    <tr>\n",
       "      <th>2</th>\n",
       "      <td>896</td>\n",
       "      <td>63</td>\n",
       "      <td>6.57</td>\n",
       "    </tr>\n",
       "    <tr>\n",
       "      <th>3</th>\n",
       "      <td>1110</td>\n",
       "      <td>85</td>\n",
       "      <td>7.11</td>\n",
       "    </tr>\n",
       "    <tr>\n",
       "      <th>4</th>\n",
       "      <td>2536</td>\n",
       "      <td>274</td>\n",
       "      <td>9.75</td>\n",
       "    </tr>\n",
       "  </tbody>\n",
       "</table>\n",
       "</div>"
      ],
      "text/plain": [
       "debt                  0    1     %\n",
       "family_status_id                  \n",
       "0                 11408  931  7.55\n",
       "1                  3763  388  9.35\n",
       "2                   896   63  6.57\n",
       "3                  1110   85  7.11\n",
       "4                  2536  274  9.75"
      ]
     },
     "execution_count": 44,
     "metadata": {},
     "output_type": "execute_result"
    }
   ],
   "source": [
    "correlation('family_status_id')"
   ]
  },
  {
   "cell_type": "markdown",
   "id": "0cfba89b",
   "metadata": {},
   "source": [
    "##### Вывод 2:"
   ]
  },
  {
   "cell_type": "markdown",
   "id": "8f9d5a69",
   "metadata": {},
   "source": [
    "Изучив сводную таблицу можно сделать вывод, что люди не состоящие в браке или сожители, просрочивают кредиты чаще других категорий, но незначительно. Так же можно увидеть, что люди состоящие в браке берут кредиты намного чаще остальных."
   ]
  },
  {
   "cell_type": "markdown",
   "id": "5183f839",
   "metadata": {},
   "source": [
    "##### Вопрос 3:"
   ]
  },
  {
   "cell_type": "markdown",
   "id": "38b69a95",
   "metadata": {},
   "source": [
    "Есть ли зависимость между уровнем дохода и возвратом кредита в срок?"
   ]
  },
  {
   "cell_type": "code",
   "execution_count": 45,
   "id": "a306f5bb",
   "metadata": {},
   "outputs": [
    {
     "data": {
      "text/html": [
       "<div>\n",
       "<style scoped>\n",
       "    .dataframe tbody tr th:only-of-type {\n",
       "        vertical-align: middle;\n",
       "    }\n",
       "\n",
       "    .dataframe tbody tr th {\n",
       "        vertical-align: top;\n",
       "    }\n",
       "\n",
       "    .dataframe thead th {\n",
       "        text-align: right;\n",
       "    }\n",
       "</style>\n",
       "<table border=\"1\" class=\"dataframe\">\n",
       "  <thead>\n",
       "    <tr style=\"text-align: right;\">\n",
       "      <th>debt</th>\n",
       "      <th>0</th>\n",
       "      <th>1</th>\n",
       "      <th>%</th>\n",
       "    </tr>\n",
       "    <tr>\n",
       "      <th>total_income_category</th>\n",
       "      <th></th>\n",
       "      <th></th>\n",
       "      <th></th>\n",
       "    </tr>\n",
       "  </thead>\n",
       "  <tbody>\n",
       "    <tr>\n",
       "      <th>A</th>\n",
       "      <td>23</td>\n",
       "      <td>2</td>\n",
       "      <td>8.00</td>\n",
       "    </tr>\n",
       "    <tr>\n",
       "      <th>B</th>\n",
       "      <td>4686</td>\n",
       "      <td>356</td>\n",
       "      <td>7.06</td>\n",
       "    </tr>\n",
       "    <tr>\n",
       "      <th>C</th>\n",
       "      <td>14655</td>\n",
       "      <td>1360</td>\n",
       "      <td>8.49</td>\n",
       "    </tr>\n",
       "    <tr>\n",
       "      <th>D</th>\n",
       "      <td>329</td>\n",
       "      <td>21</td>\n",
       "      <td>6.00</td>\n",
       "    </tr>\n",
       "    <tr>\n",
       "      <th>E</th>\n",
       "      <td>20</td>\n",
       "      <td>2</td>\n",
       "      <td>9.09</td>\n",
       "    </tr>\n",
       "  </tbody>\n",
       "</table>\n",
       "</div>"
      ],
      "text/plain": [
       "debt                       0     1     %\n",
       "total_income_category                   \n",
       "A                         23     2  8.00\n",
       "B                       4686   356  7.06\n",
       "C                      14655  1360  8.49\n",
       "D                        329    21  6.00\n",
       "E                         20     2  9.09"
      ]
     },
     "execution_count": 45,
     "metadata": {},
     "output_type": "execute_result"
    }
   ],
   "source": [
    "correlation('total_income_category')"
   ]
  },
  {
   "cell_type": "markdown",
   "id": "cc573357",
   "metadata": {},
   "source": [
    "##### Вывод 3:"
   ]
  },
  {
   "cell_type": "markdown",
   "id": "1dbbe653",
   "metadata": {},
   "source": [
    "Мы видим, что люди с низким доходом в категории E чаще просрочивают выплаты по кредитам. Тем не менее люди из категории D реже имеют задолженности по старым кредитам, в отличии от людей с более высоким доходом. Так же можно сделать вывод, что чаще всего берут кредиты люди из категории C."
   ]
  },
  {
   "cell_type": "markdown",
   "id": "12ca0d03",
   "metadata": {},
   "source": [
    "##### Вопрос 4:"
   ]
  },
  {
   "cell_type": "markdown",
   "id": "bc7eef91",
   "metadata": {},
   "source": [
    "Как разные цели кредита влияют на его возврат в срок?"
   ]
  },
  {
   "cell_type": "code",
   "execution_count": 46,
   "id": "da99765b",
   "metadata": {},
   "outputs": [
    {
     "data": {
      "text/html": [
       "<div>\n",
       "<style scoped>\n",
       "    .dataframe tbody tr th:only-of-type {\n",
       "        vertical-align: middle;\n",
       "    }\n",
       "\n",
       "    .dataframe tbody tr th {\n",
       "        vertical-align: top;\n",
       "    }\n",
       "\n",
       "    .dataframe thead th {\n",
       "        text-align: right;\n",
       "    }\n",
       "</style>\n",
       "<table border=\"1\" class=\"dataframe\">\n",
       "  <thead>\n",
       "    <tr style=\"text-align: right;\">\n",
       "      <th>debt</th>\n",
       "      <th>0</th>\n",
       "      <th>1</th>\n",
       "      <th>%</th>\n",
       "    </tr>\n",
       "    <tr>\n",
       "      <th>purpose_category</th>\n",
       "      <th></th>\n",
       "      <th></th>\n",
       "      <th></th>\n",
       "    </tr>\n",
       "  </thead>\n",
       "  <tbody>\n",
       "    <tr>\n",
       "      <th>операции с автомобилем</th>\n",
       "      <td>3903</td>\n",
       "      <td>403</td>\n",
       "      <td>9.36</td>\n",
       "    </tr>\n",
       "    <tr>\n",
       "      <th>операции с недвижимостью</th>\n",
       "      <td>10029</td>\n",
       "      <td>782</td>\n",
       "      <td>7.23</td>\n",
       "    </tr>\n",
       "    <tr>\n",
       "      <th>получение образования</th>\n",
       "      <td>3643</td>\n",
       "      <td>370</td>\n",
       "      <td>9.22</td>\n",
       "    </tr>\n",
       "    <tr>\n",
       "      <th>проведение свадьбы</th>\n",
       "      <td>2138</td>\n",
       "      <td>186</td>\n",
       "      <td>8.00</td>\n",
       "    </tr>\n",
       "  </tbody>\n",
       "</table>\n",
       "</div>"
      ],
      "text/plain": [
       "debt                          0    1     %\n",
       "purpose_category                          \n",
       "операции с автомобилем     3903  403  9.36\n",
       "операции с недвижимостью  10029  782  7.23\n",
       "получение образования      3643  370  9.22\n",
       "проведение свадьбы         2138  186  8.00"
      ]
     },
     "execution_count": 46,
     "metadata": {},
     "output_type": "execute_result"
    }
   ],
   "source": [
    "correlation('purpose_category')"
   ]
  },
  {
   "cell_type": "markdown",
   "id": "4732c787",
   "metadata": {},
   "source": [
    "##### Вывод 4:"
   ]
  },
  {
   "cell_type": "markdown",
   "id": "0dca1cf5",
   "metadata": {},
   "source": [
    "Изучив сводную таблицу, мы можем сделать вывод, что чаще просрочивают выплату кредитов на операции с автомобилями и на получение образования."
   ]
  },
  {
   "cell_type": "markdown",
   "id": "e410a193",
   "metadata": {},
   "source": [
    "## Общий вывод:"
   ]
  },
  {
   "cell_type": "markdown",
   "id": "a2997c7c",
   "metadata": {},
   "source": [
    "По итогам исследования, мы ответили на поставленные вопросы и сделали несколько выводов. \n",
    "\n",
    "Мы выяснили, что наличие детей не влияет на погашение кредита в срок. Тем не менее по данным свобдной таблицы мы увидели, что семьи с 1, 2 и 4 детьми чаще задерживают выплаты по кредитам. Так же мы выяснили, что семьи без детей берут кредиты в несколько раз чаще семей с детьми. \n",
    "\n",
    "Далее мы изучили зависимость между семейным положением и возвратом кредита в срок. Мы увидели, что люди не состоящие в браке или сожители (гражданский брак) просрочивают выплаты чаще остальных. Люди состоящие в браке берут кредиты намного чаще.\n",
    "\n",
    "Изучив зависимость между уровнем дохода и возвратом кредита в срок, мы выяснили, что люди зарабатывающие меньше 30000 просрочивают кредиты чаще других категорий. Люди с доходом от 30000 до 50000 реже всего имеют долги по кредитам. Так же чаще всего берут кредиты люди с доходом от 50000 до 200000.\n",
    "\n",
    "В конце исследования нам стало извсетно, что чаще задерживают выплаты по кредитам на операции с автомобилями и на получение образования. Чаще всего берутся кредиты на операции с недвижимостью, на эти цели просрочки по кредитам встречаются реже всего."
   ]
  }
 ],
 "metadata": {
  "ExecuteTimeLog": [
   {
    "duration": 180,
    "start_time": "2022-04-02T11:01:18.800Z"
   },
   {
    "duration": 435,
    "start_time": "2022-04-02T11:18:54.828Z"
   },
   {
    "duration": 71,
    "start_time": "2022-04-02T11:19:05.771Z"
   },
   {
    "duration": 73,
    "start_time": "2022-04-02T11:22:43.871Z"
   },
   {
    "duration": 64,
    "start_time": "2022-04-02T11:24:33.027Z"
   },
   {
    "duration": 13,
    "start_time": "2022-04-02T11:25:35.187Z"
   },
   {
    "duration": 12,
    "start_time": "2022-04-02T11:49:42.596Z"
   },
   {
    "duration": 4,
    "start_time": "2022-04-02T12:08:58.042Z"
   },
   {
    "duration": 178,
    "start_time": "2022-04-02T12:13:02.390Z"
   },
   {
    "duration": 230,
    "start_time": "2022-04-02T12:13:07.946Z"
   },
   {
    "duration": 186,
    "start_time": "2022-04-02T12:13:16.010Z"
   },
   {
    "duration": 175,
    "start_time": "2022-04-02T12:13:21.050Z"
   },
   {
    "duration": 173,
    "start_time": "2022-04-02T12:13:27.072Z"
   },
   {
    "duration": 3,
    "start_time": "2022-04-02T12:21:48.617Z"
   },
   {
    "duration": 14,
    "start_time": "2022-04-02T12:27:36.291Z"
   },
   {
    "duration": 5,
    "start_time": "2022-04-02T12:40:21.010Z"
   },
   {
    "duration": 14,
    "start_time": "2022-04-02T12:40:47.050Z"
   },
   {
    "duration": 5,
    "start_time": "2022-04-02T12:41:20.491Z"
   },
   {
    "duration": 7,
    "start_time": "2022-04-02T12:41:27.818Z"
   },
   {
    "duration": 4,
    "start_time": "2022-04-02T12:41:33.450Z"
   },
   {
    "duration": 8,
    "start_time": "2022-04-02T12:41:35.530Z"
   },
   {
    "duration": 14,
    "start_time": "2022-04-02T12:41:45.794Z"
   },
   {
    "duration": 73,
    "start_time": "2022-04-02T12:42:07.522Z"
   },
   {
    "duration": 10,
    "start_time": "2022-04-02T12:42:13.714Z"
   },
   {
    "duration": 68,
    "start_time": "2022-04-02T12:42:22.306Z"
   },
   {
    "duration": 15,
    "start_time": "2022-04-02T12:42:27.199Z"
   },
   {
    "duration": 15,
    "start_time": "2022-04-02T12:42:37.743Z"
   },
   {
    "duration": 4,
    "start_time": "2022-04-02T12:42:40.230Z"
   },
   {
    "duration": 14,
    "start_time": "2022-04-02T12:42:41.546Z"
   },
   {
    "duration": 20,
    "start_time": "2022-04-02T12:43:19.198Z"
   },
   {
    "duration": 15,
    "start_time": "2022-04-02T12:45:21.266Z"
   },
   {
    "duration": 10,
    "start_time": "2022-04-02T12:46:01.874Z"
   },
   {
    "duration": 4,
    "start_time": "2022-04-02T13:05:21.624Z"
   },
   {
    "duration": 8,
    "start_time": "2022-04-02T13:06:31.256Z"
   },
   {
    "duration": 7,
    "start_time": "2022-04-02T13:06:43.532Z"
   },
   {
    "duration": 7,
    "start_time": "2022-04-02T13:06:55.572Z"
   },
   {
    "duration": 38,
    "start_time": "2022-04-02T13:07:07.984Z"
   },
   {
    "duration": 31,
    "start_time": "2022-04-02T13:07:49.016Z"
   },
   {
    "duration": 16,
    "start_time": "2022-04-02T13:09:34.403Z"
   },
   {
    "duration": 4,
    "start_time": "2022-04-02T13:15:37.350Z"
   },
   {
    "duration": 7,
    "start_time": "2022-04-02T13:17:49.770Z"
   },
   {
    "duration": 471,
    "start_time": "2022-04-03T11:40:20.742Z"
   },
   {
    "duration": 15,
    "start_time": "2022-04-03T11:40:25.202Z"
   },
   {
    "duration": 10,
    "start_time": "2022-04-03T11:40:32.137Z"
   },
   {
    "duration": 5,
    "start_time": "2022-04-03T11:40:34.781Z"
   },
   {
    "duration": 19,
    "start_time": "2022-04-03T11:40:43.329Z"
   },
   {
    "duration": 17,
    "start_time": "2022-04-03T11:42:54.837Z"
   },
   {
    "duration": 10,
    "start_time": "2022-04-03T11:43:00.234Z"
   },
   {
    "duration": 291,
    "start_time": "2022-04-03T11:51:50.003Z"
   },
   {
    "duration": 15,
    "start_time": "2022-04-03T11:53:27.919Z"
   },
   {
    "duration": 16,
    "start_time": "2022-04-03T11:54:10.623Z"
   },
   {
    "duration": 16,
    "start_time": "2022-04-03T11:54:42.263Z"
   },
   {
    "duration": 13,
    "start_time": "2022-04-03T11:56:27.039Z"
   },
   {
    "duration": 16,
    "start_time": "2022-04-03T11:57:05.715Z"
   },
   {
    "duration": 17,
    "start_time": "2022-04-03T11:57:19.699Z"
   },
   {
    "duration": 17,
    "start_time": "2022-04-03T12:07:45.853Z"
   },
   {
    "duration": 16,
    "start_time": "2022-04-03T12:07:57.122Z"
   },
   {
    "duration": 15,
    "start_time": "2022-04-03T12:08:07.650Z"
   },
   {
    "duration": 16,
    "start_time": "2022-04-03T12:09:46.646Z"
   },
   {
    "duration": 13,
    "start_time": "2022-04-03T12:10:25.457Z"
   },
   {
    "duration": 182,
    "start_time": "2022-04-03T12:37:02.975Z"
   },
   {
    "duration": 71,
    "start_time": "2022-04-03T12:37:09.915Z"
   },
   {
    "duration": 169,
    "start_time": "2022-04-03T12:39:09.883Z"
   },
   {
    "duration": 167,
    "start_time": "2022-04-03T12:39:17.088Z"
   },
   {
    "duration": 168,
    "start_time": "2022-04-03T12:39:22.372Z"
   },
   {
    "duration": 11,
    "start_time": "2022-04-03T12:39:47.959Z"
   },
   {
    "duration": 10,
    "start_time": "2022-04-03T12:40:50.613Z"
   },
   {
    "duration": 6925,
    "start_time": "2022-04-03T12:41:21.022Z"
   },
   {
    "duration": 170,
    "start_time": "2022-04-03T12:44:01.658Z"
   },
   {
    "duration": 183,
    "start_time": "2022-04-03T12:44:05.877Z"
   },
   {
    "duration": 179,
    "start_time": "2022-04-03T12:44:15.152Z"
   },
   {
    "duration": 6342,
    "start_time": "2022-04-03T12:44:37.901Z"
   },
   {
    "duration": 5510,
    "start_time": "2022-04-03T12:44:59.801Z"
   },
   {
    "duration": 184,
    "start_time": "2022-04-03T12:46:50.262Z"
   },
   {
    "duration": 205,
    "start_time": "2022-04-03T12:47:18.949Z"
   },
   {
    "duration": 8454,
    "start_time": "2022-04-03T12:49:01.045Z"
   },
   {
    "duration": 7311,
    "start_time": "2022-04-03T12:50:56.762Z"
   },
   {
    "duration": 7082,
    "start_time": "2022-04-03T12:51:17.802Z"
   },
   {
    "duration": 2735,
    "start_time": "2022-04-03T12:51:55.685Z"
   },
   {
    "duration": 7196,
    "start_time": "2022-04-03T12:52:58.609Z"
   },
   {
    "duration": 7089,
    "start_time": "2022-04-03T12:55:29.616Z"
   },
   {
    "duration": 228,
    "start_time": "2022-04-03T12:58:54.861Z"
   },
   {
    "duration": 225,
    "start_time": "2022-04-03T13:00:18.329Z"
   },
   {
    "duration": 251,
    "start_time": "2022-04-03T13:00:28.328Z"
   },
   {
    "duration": 200,
    "start_time": "2022-04-03T13:01:25.201Z"
   },
   {
    "duration": 209,
    "start_time": "2022-04-03T13:21:03.713Z"
   },
   {
    "duration": 228,
    "start_time": "2022-04-03T13:21:20.622Z"
   },
   {
    "duration": 15,
    "start_time": "2022-04-03T13:28:21.649Z"
   },
   {
    "duration": 71,
    "start_time": "2022-04-03T13:29:43.353Z"
   },
   {
    "duration": 14,
    "start_time": "2022-04-03T13:30:02.645Z"
   },
   {
    "duration": 12,
    "start_time": "2022-04-03T13:30:07.932Z"
   },
   {
    "duration": 4,
    "start_time": "2022-04-03T13:30:10.625Z"
   },
   {
    "duration": 14,
    "start_time": "2022-04-03T13:30:11.705Z"
   },
   {
    "duration": 16,
    "start_time": "2022-04-03T13:30:28.140Z"
   },
   {
    "duration": 10,
    "start_time": "2022-04-03T13:30:32.753Z"
   },
   {
    "duration": 16,
    "start_time": "2022-04-03T13:30:39.516Z"
   },
   {
    "duration": 12,
    "start_time": "2022-04-03T13:58:45.389Z"
   },
   {
    "duration": 7,
    "start_time": "2022-04-03T14:02:12.101Z"
   },
   {
    "duration": 7,
    "start_time": "2022-04-03T14:03:14.913Z"
   },
   {
    "duration": 13,
    "start_time": "2022-04-03T14:13:08.004Z"
   },
   {
    "duration": 8,
    "start_time": "2022-04-03T14:13:20.088Z"
   },
   {
    "duration": 9,
    "start_time": "2022-04-03T14:15:34.876Z"
   },
   {
    "duration": 10,
    "start_time": "2022-04-03T14:18:15.522Z"
   },
   {
    "duration": 7,
    "start_time": "2022-04-03T14:18:41.888Z"
   },
   {
    "duration": 13,
    "start_time": "2022-04-03T14:20:35.935Z"
   },
   {
    "duration": 9,
    "start_time": "2022-04-03T14:24:39.446Z"
   },
   {
    "duration": 11,
    "start_time": "2022-04-03T14:24:52.555Z"
   },
   {
    "duration": 15,
    "start_time": "2022-04-03T14:24:55.899Z"
   },
   {
    "duration": 13,
    "start_time": "2022-04-03T14:25:05.594Z"
   },
   {
    "duration": 9,
    "start_time": "2022-04-03T14:25:07.627Z"
   },
   {
    "duration": 23,
    "start_time": "2022-04-03T14:29:53.487Z"
   },
   {
    "duration": 13,
    "start_time": "2022-04-03T14:34:32.990Z"
   },
   {
    "duration": 13,
    "start_time": "2022-04-03T14:34:42.223Z"
   },
   {
    "duration": 12,
    "start_time": "2022-04-03T14:34:49.346Z"
   },
   {
    "duration": 8,
    "start_time": "2022-04-03T14:34:57.170Z"
   },
   {
    "duration": 15,
    "start_time": "2022-04-03T14:35:06.361Z"
   },
   {
    "duration": 10,
    "start_time": "2022-04-03T14:37:52.314Z"
   },
   {
    "duration": 13,
    "start_time": "2022-04-03T14:38:57.448Z"
   },
   {
    "duration": 21,
    "start_time": "2022-04-03T14:39:49.726Z"
   },
   {
    "duration": 20,
    "start_time": "2022-04-03T14:40:38.154Z"
   },
   {
    "duration": 7,
    "start_time": "2022-04-03T14:40:59.757Z"
   },
   {
    "duration": 10,
    "start_time": "2022-04-03T14:41:36.469Z"
   },
   {
    "duration": 13,
    "start_time": "2022-04-03T14:42:06.821Z"
   },
   {
    "duration": 8,
    "start_time": "2022-04-03T14:46:01.477Z"
   },
   {
    "duration": 9,
    "start_time": "2022-04-03T14:46:11.532Z"
   },
   {
    "duration": 8,
    "start_time": "2022-04-03T14:46:15.200Z"
   },
   {
    "duration": 13,
    "start_time": "2022-04-03T14:46:17.893Z"
   },
   {
    "duration": 8,
    "start_time": "2022-04-03T14:46:25.645Z"
   },
   {
    "duration": 8,
    "start_time": "2022-04-03T14:46:38.069Z"
   },
   {
    "duration": 6,
    "start_time": "2022-04-03T14:46:46.690Z"
   },
   {
    "duration": 9,
    "start_time": "2022-04-03T14:46:49.831Z"
   },
   {
    "duration": 12,
    "start_time": "2022-04-03T14:46:50.738Z"
   },
   {
    "duration": 9,
    "start_time": "2022-04-03T14:46:51.444Z"
   },
   {
    "duration": 14,
    "start_time": "2022-04-03T14:46:57.061Z"
   },
   {
    "duration": 104,
    "start_time": "2022-04-03T14:47:03.565Z"
   },
   {
    "duration": 17,
    "start_time": "2022-04-03T14:47:06.492Z"
   },
   {
    "duration": 12,
    "start_time": "2022-04-03T14:47:08.528Z"
   },
   {
    "duration": 4,
    "start_time": "2022-04-03T14:47:09.057Z"
   },
   {
    "duration": 14,
    "start_time": "2022-04-03T14:47:10.265Z"
   },
   {
    "duration": 28,
    "start_time": "2022-04-03T14:47:11.828Z"
   },
   {
    "duration": 11,
    "start_time": "2022-04-03T14:47:13.376Z"
   },
   {
    "duration": 15,
    "start_time": "2022-04-03T14:47:15.721Z"
   },
   {
    "duration": 11,
    "start_time": "2022-04-03T14:47:16.825Z"
   },
   {
    "duration": 6,
    "start_time": "2022-04-03T14:47:19.180Z"
   },
   {
    "duration": 8,
    "start_time": "2022-04-03T14:47:22.573Z"
   },
   {
    "duration": 12,
    "start_time": "2022-04-03T14:47:25.957Z"
   },
   {
    "duration": 10,
    "start_time": "2022-04-03T14:47:27.073Z"
   },
   {
    "duration": 7,
    "start_time": "2022-04-03T14:47:30.024Z"
   },
   {
    "duration": 13,
    "start_time": "2022-04-03T14:47:32.432Z"
   },
   {
    "duration": 7,
    "start_time": "2022-04-03T14:47:35.368Z"
   },
   {
    "duration": 7,
    "start_time": "2022-04-03T14:47:38.224Z"
   },
   {
    "duration": 24,
    "start_time": "2022-04-03T14:54:24.439Z"
   },
   {
    "duration": 20,
    "start_time": "2022-04-03T14:54:37.039Z"
   },
   {
    "duration": 19,
    "start_time": "2022-04-03T14:56:13.239Z"
   },
   {
    "duration": 9,
    "start_time": "2022-04-03T14:57:03.147Z"
   },
   {
    "duration": 24,
    "start_time": "2022-04-03T14:57:15.515Z"
   },
   {
    "duration": 39,
    "start_time": "2022-04-03T14:59:09.375Z"
   },
   {
    "duration": 37,
    "start_time": "2022-04-03T14:59:29.546Z"
   },
   {
    "duration": 19,
    "start_time": "2022-04-03T15:00:05.068Z"
   },
   {
    "duration": 29,
    "start_time": "2022-04-03T15:00:16.352Z"
   },
   {
    "duration": 34,
    "start_time": "2022-04-03T15:00:39.030Z"
   },
   {
    "duration": 26,
    "start_time": "2022-04-03T15:00:48.538Z"
   },
   {
    "duration": 18,
    "start_time": "2022-04-03T15:05:30.530Z"
   },
   {
    "duration": 26,
    "start_time": "2022-04-03T15:05:32.330Z"
   },
   {
    "duration": 28,
    "start_time": "2022-04-03T15:05:47.458Z"
   },
   {
    "duration": 33,
    "start_time": "2022-04-03T15:09:08.230Z"
   },
   {
    "duration": 9,
    "start_time": "2022-04-03T15:13:58.149Z"
   },
   {
    "duration": 74,
    "start_time": "2022-04-03T15:14:11.061Z"
   },
   {
    "duration": 67,
    "start_time": "2022-04-03T15:14:28.521Z"
   },
   {
    "duration": 20,
    "start_time": "2022-04-03T15:14:31.485Z"
   },
   {
    "duration": 12,
    "start_time": "2022-04-03T15:14:33.261Z"
   },
   {
    "duration": 3,
    "start_time": "2022-04-03T15:14:33.733Z"
   },
   {
    "duration": 14,
    "start_time": "2022-04-03T15:14:34.205Z"
   },
   {
    "duration": 16,
    "start_time": "2022-04-03T15:14:36.060Z"
   },
   {
    "duration": 11,
    "start_time": "2022-04-03T15:14:37.461Z"
   },
   {
    "duration": 16,
    "start_time": "2022-04-03T15:14:39.545Z"
   },
   {
    "duration": 11,
    "start_time": "2022-04-03T15:14:40.169Z"
   },
   {
    "duration": 7,
    "start_time": "2022-04-03T15:14:42.726Z"
   },
   {
    "duration": 18,
    "start_time": "2022-04-03T15:14:47.609Z"
   },
   {
    "duration": 31,
    "start_time": "2022-04-03T15:14:51.141Z"
   },
   {
    "duration": 70,
    "start_time": "2022-04-03T15:15:16.981Z"
   },
   {
    "duration": 14,
    "start_time": "2022-04-03T15:15:19.029Z"
   },
   {
    "duration": 11,
    "start_time": "2022-04-03T15:15:43.173Z"
   },
   {
    "duration": 4,
    "start_time": "2022-04-03T15:15:45.545Z"
   },
   {
    "duration": 14,
    "start_time": "2022-04-03T15:15:46.565Z"
   },
   {
    "duration": 14,
    "start_time": "2022-04-03T15:15:51.493Z"
   },
   {
    "duration": 11,
    "start_time": "2022-04-03T15:15:52.389Z"
   },
   {
    "duration": 15,
    "start_time": "2022-04-03T15:15:55.081Z"
   },
   {
    "duration": 10,
    "start_time": "2022-04-03T15:15:55.953Z"
   },
   {
    "duration": 7,
    "start_time": "2022-04-03T15:15:58.629Z"
   },
   {
    "duration": 20,
    "start_time": "2022-04-03T15:16:06.102Z"
   },
   {
    "duration": 31,
    "start_time": "2022-04-03T15:16:07.529Z"
   },
   {
    "duration": 7,
    "start_time": "2022-04-03T15:16:16.905Z"
   },
   {
    "duration": 12,
    "start_time": "2022-04-03T15:16:24.069Z"
   },
   {
    "duration": 8,
    "start_time": "2022-04-03T15:16:24.958Z"
   },
   {
    "duration": 8,
    "start_time": "2022-04-03T15:16:30.529Z"
   },
   {
    "duration": 14,
    "start_time": "2022-04-03T15:16:31.349Z"
   },
   {
    "duration": 8,
    "start_time": "2022-04-03T15:16:32.173Z"
   },
   {
    "duration": 11,
    "start_time": "2022-04-03T15:16:33.502Z"
   },
   {
    "duration": 37,
    "start_time": "2022-04-03T15:16:58.101Z"
   },
   {
    "duration": 22,
    "start_time": "2022-04-03T15:17:19.909Z"
   },
   {
    "duration": 21,
    "start_time": "2022-04-03T15:17:23.313Z"
   },
   {
    "duration": 23,
    "start_time": "2022-04-03T15:17:26.057Z"
   },
   {
    "duration": 20,
    "start_time": "2022-04-03T15:17:30.961Z"
   },
   {
    "duration": 7,
    "start_time": "2022-04-03T15:17:34.181Z"
   },
   {
    "duration": 13,
    "start_time": "2022-04-03T15:17:37.933Z"
   },
   {
    "duration": 9,
    "start_time": "2022-04-03T15:17:38.893Z"
   },
   {
    "duration": 9,
    "start_time": "2022-04-03T15:17:42.648Z"
   },
   {
    "duration": 14,
    "start_time": "2022-04-03T15:17:43.485Z"
   },
   {
    "duration": 7,
    "start_time": "2022-04-03T15:17:44.269Z"
   },
   {
    "duration": 11,
    "start_time": "2022-04-03T15:17:45.217Z"
   },
   {
    "duration": 12,
    "start_time": "2022-04-03T15:17:46.801Z"
   },
   {
    "duration": 11,
    "start_time": "2022-04-03T15:19:01.657Z"
   },
   {
    "duration": 25,
    "start_time": "2022-04-03T15:58:18.949Z"
   },
   {
    "duration": 20,
    "start_time": "2022-04-03T15:58:20.525Z"
   },
   {
    "duration": 8,
    "start_time": "2022-04-03T15:58:21.305Z"
   },
   {
    "duration": 13,
    "start_time": "2022-04-03T15:58:22.265Z"
   },
   {
    "duration": 9,
    "start_time": "2022-04-03T15:58:24.221Z"
   },
   {
    "duration": 9,
    "start_time": "2022-04-03T15:58:26.213Z"
   },
   {
    "duration": 15,
    "start_time": "2022-04-03T15:58:30.037Z"
   },
   {
    "duration": 7,
    "start_time": "2022-04-03T15:58:30.989Z"
   },
   {
    "duration": 7,
    "start_time": "2022-04-03T15:58:32.100Z"
   },
   {
    "duration": 7,
    "start_time": "2022-04-03T15:58:33.213Z"
   },
   {
    "duration": 2648,
    "start_time": "2022-04-03T16:15:27.660Z"
   },
   {
    "duration": 4,
    "start_time": "2022-04-03T16:16:05.696Z"
   },
   {
    "duration": 5,
    "start_time": "2022-04-03T16:17:19.955Z"
   },
   {
    "duration": 15,
    "start_time": "2022-04-03T16:23:28.834Z"
   },
   {
    "duration": 11,
    "start_time": "2022-04-03T16:23:54.478Z"
   },
   {
    "duration": 12,
    "start_time": "2022-04-03T16:25:32.397Z"
   },
   {
    "duration": 7,
    "start_time": "2022-04-03T16:29:54.405Z"
   },
   {
    "duration": 17,
    "start_time": "2022-04-03T16:30:13.049Z"
   },
   {
    "duration": 16,
    "start_time": "2022-04-03T16:30:44.557Z"
   },
   {
    "duration": 16,
    "start_time": "2022-04-03T16:32:08.919Z"
   },
   {
    "duration": 10,
    "start_time": "2022-04-03T16:36:12.357Z"
   },
   {
    "duration": 10,
    "start_time": "2022-04-03T16:40:03.956Z"
   },
   {
    "duration": 72,
    "start_time": "2022-04-03T16:40:20.587Z"
   },
   {
    "duration": 15,
    "start_time": "2022-04-03T16:40:22.064Z"
   },
   {
    "duration": 11,
    "start_time": "2022-04-03T16:40:23.991Z"
   },
   {
    "duration": 4,
    "start_time": "2022-04-03T16:40:24.599Z"
   },
   {
    "duration": 15,
    "start_time": "2022-04-03T16:40:25.203Z"
   },
   {
    "duration": 15,
    "start_time": "2022-04-03T16:40:26.271Z"
   },
   {
    "duration": 10,
    "start_time": "2022-04-03T16:40:26.852Z"
   },
   {
    "duration": 16,
    "start_time": "2022-04-03T16:40:28.552Z"
   },
   {
    "duration": 11,
    "start_time": "2022-04-03T16:40:29.067Z"
   },
   {
    "duration": 6,
    "start_time": "2022-04-03T16:40:32.538Z"
   },
   {
    "duration": 18,
    "start_time": "2022-04-03T16:40:37.404Z"
   },
   {
    "duration": 18,
    "start_time": "2022-04-03T16:40:51.532Z"
   },
   {
    "duration": 18,
    "start_time": "2022-04-03T16:40:53.171Z"
   },
   {
    "duration": 7,
    "start_time": "2022-04-03T16:40:54.272Z"
   },
   {
    "duration": 11,
    "start_time": "2022-04-03T16:40:58.624Z"
   },
   {
    "duration": 9,
    "start_time": "2022-04-03T16:40:59.337Z"
   },
   {
    "duration": 6,
    "start_time": "2022-04-03T16:41:02.692Z"
   },
   {
    "duration": 13,
    "start_time": "2022-04-03T16:41:03.567Z"
   },
   {
    "duration": 7,
    "start_time": "2022-04-03T16:41:04.575Z"
   },
   {
    "duration": 8,
    "start_time": "2022-04-03T16:41:05.647Z"
   },
   {
    "duration": 8,
    "start_time": "2022-04-03T16:41:06.499Z"
   },
   {
    "duration": 5,
    "start_time": "2022-04-03T16:41:09.715Z"
   },
   {
    "duration": 5,
    "start_time": "2022-04-03T16:41:12.007Z"
   },
   {
    "duration": 19,
    "start_time": "2022-04-03T16:41:13.798Z"
   },
   {
    "duration": 6,
    "start_time": "2022-04-03T16:42:49.867Z"
   },
   {
    "duration": 11,
    "start_time": "2022-04-03T16:43:01.403Z"
   },
   {
    "duration": 12,
    "start_time": "2022-04-03T16:43:06.367Z"
   },
   {
    "duration": 69,
    "start_time": "2022-04-03T16:43:25.479Z"
   },
   {
    "duration": 14,
    "start_time": "2022-04-03T16:43:27.159Z"
   },
   {
    "duration": 10,
    "start_time": "2022-04-03T16:43:29.323Z"
   },
   {
    "duration": 4,
    "start_time": "2022-04-03T16:43:29.463Z"
   },
   {
    "duration": 15,
    "start_time": "2022-04-03T16:43:30.591Z"
   },
   {
    "duration": 14,
    "start_time": "2022-04-03T16:43:32.703Z"
   },
   {
    "duration": 9,
    "start_time": "2022-04-03T16:43:33.503Z"
   },
   {
    "duration": 21,
    "start_time": "2022-04-03T16:43:36.307Z"
   },
   {
    "duration": 10,
    "start_time": "2022-04-03T16:43:37.827Z"
   },
   {
    "duration": 14,
    "start_time": "2022-04-03T16:43:55.315Z"
   },
   {
    "duration": 15,
    "start_time": "2022-04-03T16:43:55.838Z"
   },
   {
    "duration": 6,
    "start_time": "2022-04-03T16:43:58.611Z"
   },
   {
    "duration": 18,
    "start_time": "2022-04-03T16:44:01.511Z"
   },
   {
    "duration": 19,
    "start_time": "2022-04-03T16:44:02.635Z"
   },
   {
    "duration": 17,
    "start_time": "2022-04-03T16:44:03.507Z"
   },
   {
    "duration": 7,
    "start_time": "2022-04-03T16:44:04.867Z"
   },
   {
    "duration": 12,
    "start_time": "2022-04-03T16:44:06.087Z"
   },
   {
    "duration": 8,
    "start_time": "2022-04-03T16:44:07.070Z"
   },
   {
    "duration": 7,
    "start_time": "2022-04-03T16:44:08.771Z"
   },
   {
    "duration": 13,
    "start_time": "2022-04-03T16:44:09.356Z"
   },
   {
    "duration": 7,
    "start_time": "2022-04-03T16:44:10.011Z"
   },
   {
    "duration": 7,
    "start_time": "2022-04-03T16:44:10.675Z"
   },
   {
    "duration": 7,
    "start_time": "2022-04-03T16:44:11.423Z"
   },
   {
    "duration": 5,
    "start_time": "2022-04-03T16:44:13.811Z"
   },
   {
    "duration": 6,
    "start_time": "2022-04-03T16:44:14.427Z"
   },
   {
    "duration": 18,
    "start_time": "2022-04-03T16:44:15.163Z"
   },
   {
    "duration": 6,
    "start_time": "2022-04-03T16:53:12.318Z"
   },
   {
    "duration": 6,
    "start_time": "2022-04-03T16:54:57.722Z"
   },
   {
    "duration": 152,
    "start_time": "2022-04-03T16:59:31.369Z"
   },
   {
    "duration": 171,
    "start_time": "2022-04-03T16:59:39.389Z"
   },
   {
    "duration": 130,
    "start_time": "2022-04-03T16:59:46.633Z"
   },
   {
    "duration": 156,
    "start_time": "2022-04-03T17:02:02.677Z"
   },
   {
    "duration": 2188,
    "start_time": "2022-04-03T17:02:07.010Z"
   },
   {
    "duration": 2367,
    "start_time": "2022-04-03T17:07:16.221Z"
   },
   {
    "duration": 2338,
    "start_time": "2022-04-03T17:09:12.456Z"
   },
   {
    "duration": 2275,
    "start_time": "2022-04-03T17:09:25.801Z"
   },
   {
    "duration": 2156,
    "start_time": "2022-04-03T17:09:36.729Z"
   },
   {
    "duration": 2418,
    "start_time": "2022-04-03T17:10:24.900Z"
   },
   {
    "duration": 2340,
    "start_time": "2022-04-03T17:10:49.944Z"
   },
   {
    "duration": 4,
    "start_time": "2022-04-03T17:12:28.264Z"
   },
   {
    "duration": 4204,
    "start_time": "2022-04-03T17:12:32.236Z"
   },
   {
    "duration": 2155,
    "start_time": "2022-04-03T17:12:53.836Z"
   },
   {
    "duration": 2291,
    "start_time": "2022-04-03T17:13:34.755Z"
   },
   {
    "duration": 2081,
    "start_time": "2022-04-03T17:13:50.829Z"
   },
   {
    "duration": 2107,
    "start_time": "2022-04-03T17:13:57.776Z"
   },
   {
    "duration": 2198,
    "start_time": "2022-04-03T17:14:13.904Z"
   },
   {
    "duration": 4,
    "start_time": "2022-04-03T17:14:28.184Z"
   },
   {
    "duration": 2125,
    "start_time": "2022-04-03T17:15:08.915Z"
   },
   {
    "duration": 14,
    "start_time": "2022-04-03T17:15:40.220Z"
   },
   {
    "duration": 10,
    "start_time": "2022-04-03T17:15:57.907Z"
   },
   {
    "duration": 15,
    "start_time": "2022-04-03T17:16:27.592Z"
   },
   {
    "duration": 67,
    "start_time": "2022-04-03T17:21:25.467Z"
   },
   {
    "duration": 16,
    "start_time": "2022-04-03T17:21:26.939Z"
   },
   {
    "duration": 10,
    "start_time": "2022-04-03T17:21:31.679Z"
   },
   {
    "duration": 3,
    "start_time": "2022-04-03T17:21:34.671Z"
   },
   {
    "duration": 14,
    "start_time": "2022-04-03T17:21:36.651Z"
   },
   {
    "duration": 16,
    "start_time": "2022-04-03T17:21:45.095Z"
   },
   {
    "duration": 10,
    "start_time": "2022-04-03T17:21:49.447Z"
   },
   {
    "duration": 3,
    "start_time": "2022-04-03T17:21:53.591Z"
   },
   {
    "duration": 17,
    "start_time": "2022-04-03T17:21:56.178Z"
   },
   {
    "duration": 26,
    "start_time": "2022-04-03T17:30:26.310Z"
   },
   {
    "duration": 8,
    "start_time": "2022-04-03T17:32:00.474Z"
   },
   {
    "duration": 18,
    "start_time": "2022-04-03T17:32:35.190Z"
   },
   {
    "duration": 18,
    "start_time": "2022-04-03T17:32:50.094Z"
   },
   {
    "duration": 7,
    "start_time": "2022-04-03T17:32:52.862Z"
   },
   {
    "duration": 9,
    "start_time": "2022-04-03T17:32:53.986Z"
   },
   {
    "duration": 11,
    "start_time": "2022-04-03T17:33:04.534Z"
   },
   {
    "duration": 9,
    "start_time": "2022-04-03T17:33:13.647Z"
   },
   {
    "duration": 7,
    "start_time": "2022-04-03T17:33:28.101Z"
   },
   {
    "duration": 18,
    "start_time": "2022-04-03T17:33:31.820Z"
   },
   {
    "duration": 17,
    "start_time": "2022-04-03T17:33:32.649Z"
   },
   {
    "duration": 17,
    "start_time": "2022-04-03T17:33:33.286Z"
   },
   {
    "duration": 7,
    "start_time": "2022-04-03T17:33:34.501Z"
   },
   {
    "duration": 11,
    "start_time": "2022-04-03T17:33:37.786Z"
   },
   {
    "duration": 9,
    "start_time": "2022-04-03T17:33:38.469Z"
   },
   {
    "duration": 7,
    "start_time": "2022-04-03T17:33:42.045Z"
   },
   {
    "duration": 13,
    "start_time": "2022-04-03T17:33:42.914Z"
   },
   {
    "duration": 7,
    "start_time": "2022-04-03T17:33:43.636Z"
   },
   {
    "duration": 7,
    "start_time": "2022-04-03T17:33:44.337Z"
   },
   {
    "duration": 8,
    "start_time": "2022-04-03T17:33:45.149Z"
   },
   {
    "duration": 5,
    "start_time": "2022-04-03T17:33:47.654Z"
   },
   {
    "duration": 5,
    "start_time": "2022-04-03T17:33:48.275Z"
   },
   {
    "duration": 16,
    "start_time": "2022-04-03T17:33:49.026Z"
   },
   {
    "duration": 9,
    "start_time": "2022-04-03T17:34:40.110Z"
   },
   {
    "duration": 76,
    "start_time": "2022-04-03T17:34:46.666Z"
   },
   {
    "duration": 6,
    "start_time": "2022-04-03T17:36:07.786Z"
   },
   {
    "duration": 18,
    "start_time": "2022-04-03T17:36:20.135Z"
   },
   {
    "duration": 10,
    "start_time": "2022-04-03T17:36:36.433Z"
   },
   {
    "duration": 117,
    "start_time": "2022-04-03T17:37:28.470Z"
   },
   {
    "duration": 17,
    "start_time": "2022-04-03T17:37:29.962Z"
   },
   {
    "duration": 12,
    "start_time": "2022-04-03T17:37:34.042Z"
   },
   {
    "duration": 4,
    "start_time": "2022-04-03T17:37:35.026Z"
   },
   {
    "duration": 20,
    "start_time": "2022-04-03T17:37:35.911Z"
   },
   {
    "duration": 21,
    "start_time": "2022-04-03T17:37:37.579Z"
   },
   {
    "duration": 18,
    "start_time": "2022-04-03T17:37:38.603Z"
   },
   {
    "duration": 19,
    "start_time": "2022-04-03T17:37:42.499Z"
   },
   {
    "duration": 17,
    "start_time": "2022-04-03T17:37:45.407Z"
   },
   {
    "duration": 6,
    "start_time": "2022-04-03T17:37:46.242Z"
   },
   {
    "duration": 10,
    "start_time": "2022-04-03T17:37:47.442Z"
   },
   {
    "duration": 5,
    "start_time": "2022-04-03T17:37:52.707Z"
   },
   {
    "duration": 19,
    "start_time": "2022-04-03T17:37:54.770Z"
   },
   {
    "duration": 21,
    "start_time": "2022-04-03T17:37:55.650Z"
   },
   {
    "duration": 17,
    "start_time": "2022-04-03T17:37:56.746Z"
   },
   {
    "duration": 10,
    "start_time": "2022-04-03T17:37:57.463Z"
   },
   {
    "duration": 19,
    "start_time": "2022-04-03T17:37:58.126Z"
   },
   {
    "duration": 12,
    "start_time": "2022-04-03T17:37:58.855Z"
   },
   {
    "duration": 11,
    "start_time": "2022-04-03T17:38:00.118Z"
   },
   {
    "duration": 23,
    "start_time": "2022-04-03T17:38:00.706Z"
   },
   {
    "duration": 8,
    "start_time": "2022-04-03T17:38:01.485Z"
   },
   {
    "duration": 10,
    "start_time": "2022-04-03T17:38:02.194Z"
   },
   {
    "duration": 9,
    "start_time": "2022-04-03T17:38:02.930Z"
   },
   {
    "duration": 6,
    "start_time": "2022-04-03T17:38:05.126Z"
   },
   {
    "duration": 5,
    "start_time": "2022-04-03T17:38:05.766Z"
   },
   {
    "duration": 26,
    "start_time": "2022-04-03T17:38:06.607Z"
   },
   {
    "duration": 180,
    "start_time": "2022-04-03T17:45:27.897Z"
   },
   {
    "duration": 3,
    "start_time": "2022-04-03T17:45:33.777Z"
   },
   {
    "duration": 5,
    "start_time": "2022-04-03T17:46:28.528Z"
   },
   {
    "duration": 10,
    "start_time": "2022-04-03T17:48:21.756Z"
   },
   {
    "duration": 19,
    "start_time": "2022-04-03T17:48:32.620Z"
   },
   {
    "duration": 20,
    "start_time": "2022-04-03T17:49:10.988Z"
   },
   {
    "duration": 25,
    "start_time": "2022-04-03T17:50:01.597Z"
   },
   {
    "duration": 24,
    "start_time": "2022-04-03T17:50:10.384Z"
   },
   {
    "duration": 3,
    "start_time": "2022-04-03T17:50:15.075Z"
   },
   {
    "duration": 21,
    "start_time": "2022-04-03T17:50:16.064Z"
   },
   {
    "duration": 30,
    "start_time": "2022-04-03T18:00:49.283Z"
   },
   {
    "duration": 14,
    "start_time": "2022-04-03T18:01:45.723Z"
   },
   {
    "duration": 19,
    "start_time": "2022-04-03T18:02:13.644Z"
   },
   {
    "duration": 6,
    "start_time": "2022-04-03T18:04:51.187Z"
   },
   {
    "duration": 10,
    "start_time": "2022-04-03T18:10:08.746Z"
   },
   {
    "duration": 13,
    "start_time": "2022-04-03T18:17:43.716Z"
   },
   {
    "duration": 9,
    "start_time": "2022-04-03T18:17:57.230Z"
   },
   {
    "duration": 34,
    "start_time": "2022-04-03T18:19:06.685Z"
   },
   {
    "duration": 32,
    "start_time": "2022-04-03T18:19:16.241Z"
   },
   {
    "duration": 25,
    "start_time": "2022-04-03T18:19:17.013Z"
   },
   {
    "duration": 8,
    "start_time": "2022-04-03T18:19:18.174Z"
   },
   {
    "duration": 153,
    "start_time": "2022-04-03T18:27:12.132Z"
   },
   {
    "duration": 12,
    "start_time": "2022-04-03T18:27:21.685Z"
   },
   {
    "duration": 11,
    "start_time": "2022-04-03T18:27:32.104Z"
   },
   {
    "duration": 95,
    "start_time": "2022-04-03T18:28:24.892Z"
   },
   {
    "duration": 6,
    "start_time": "2022-04-03T18:28:30.653Z"
   },
   {
    "duration": 100,
    "start_time": "2022-04-03T18:28:31.624Z"
   },
   {
    "duration": 96,
    "start_time": "2022-04-03T18:28:50.708Z"
   },
   {
    "duration": 9,
    "start_time": "2022-04-03T18:30:30.616Z"
   },
   {
    "duration": 5,
    "start_time": "2022-04-03T18:30:40.783Z"
   },
   {
    "duration": 9,
    "start_time": "2022-04-03T18:30:45.876Z"
   },
   {
    "duration": 5,
    "start_time": "2022-04-03T18:37:33.739Z"
   },
   {
    "duration": 5,
    "start_time": "2022-04-03T18:40:27.091Z"
   },
   {
    "duration": 15,
    "start_time": "2022-04-03T18:40:32.867Z"
   },
   {
    "duration": 14,
    "start_time": "2022-04-03T18:40:41.571Z"
   },
   {
    "duration": 20,
    "start_time": "2022-04-03T18:40:54.134Z"
   },
   {
    "duration": 10,
    "start_time": "2022-04-03T18:41:57.571Z"
   },
   {
    "duration": 158,
    "start_time": "2022-04-03T18:42:28.495Z"
   },
   {
    "duration": 15,
    "start_time": "2022-04-03T18:42:31.607Z"
   },
   {
    "duration": 17,
    "start_time": "2022-04-03T18:43:19.511Z"
   },
   {
    "duration": 26,
    "start_time": "2022-04-03T18:43:23.846Z"
   },
   {
    "duration": 7,
    "start_time": "2022-04-03T18:45:32.463Z"
   },
   {
    "duration": 21,
    "start_time": "2022-04-03T18:45:44.446Z"
   },
   {
    "duration": 15,
    "start_time": "2022-04-03T18:51:02.602Z"
   },
   {
    "duration": 19,
    "start_time": "2022-04-03T18:51:13.040Z"
   },
   {
    "duration": 13,
    "start_time": "2022-04-03T18:51:30.074Z"
   },
   {
    "duration": 19,
    "start_time": "2022-04-03T19:04:46.180Z"
   },
   {
    "duration": 69,
    "start_time": "2022-04-03T19:06:46.953Z"
   },
   {
    "duration": 13,
    "start_time": "2022-04-03T19:06:48.849Z"
   },
   {
    "duration": 11,
    "start_time": "2022-04-03T19:06:54.215Z"
   },
   {
    "duration": 4,
    "start_time": "2022-04-03T19:06:55.209Z"
   },
   {
    "duration": 14,
    "start_time": "2022-04-03T19:06:56.580Z"
   },
   {
    "duration": 15,
    "start_time": "2022-04-03T19:06:58.973Z"
   },
   {
    "duration": 10,
    "start_time": "2022-04-03T19:06:59.820Z"
   },
   {
    "duration": 18,
    "start_time": "2022-04-03T19:07:02.676Z"
   },
   {
    "duration": 10,
    "start_time": "2022-04-03T19:07:13.268Z"
   },
   {
    "duration": 6,
    "start_time": "2022-04-03T19:07:15.073Z"
   },
   {
    "duration": 11,
    "start_time": "2022-04-03T19:07:18.956Z"
   },
   {
    "duration": 10,
    "start_time": "2022-04-03T19:07:35.020Z"
   },
   {
    "duration": 8,
    "start_time": "2022-04-03T19:07:41.760Z"
   },
   {
    "duration": 4,
    "start_time": "2022-04-03T19:07:43.952Z"
   },
   {
    "duration": 17,
    "start_time": "2022-04-03T19:07:46.025Z"
   },
   {
    "duration": 18,
    "start_time": "2022-04-03T19:07:47.037Z"
   },
   {
    "duration": 17,
    "start_time": "2022-04-03T19:07:47.776Z"
   },
   {
    "duration": 7,
    "start_time": "2022-04-03T19:07:48.495Z"
   },
   {
    "duration": 11,
    "start_time": "2022-04-03T19:07:49.224Z"
   },
   {
    "duration": 8,
    "start_time": "2022-04-03T19:07:50.020Z"
   },
   {
    "duration": 6,
    "start_time": "2022-04-03T19:07:51.364Z"
   },
   {
    "duration": 11,
    "start_time": "2022-04-03T19:07:52.056Z"
   },
   {
    "duration": 6,
    "start_time": "2022-04-03T19:07:52.764Z"
   },
   {
    "duration": 7,
    "start_time": "2022-04-03T19:07:53.424Z"
   },
   {
    "duration": 7,
    "start_time": "2022-04-03T19:07:54.140Z"
   },
   {
    "duration": 9,
    "start_time": "2022-04-03T19:08:01.368Z"
   },
   {
    "duration": 12,
    "start_time": "2022-04-03T19:08:04.108Z"
   },
   {
    "duration": 14,
    "start_time": "2022-04-03T19:08:04.892Z"
   },
   {
    "duration": 18,
    "start_time": "2022-04-03T19:08:05.961Z"
   },
   {
    "duration": 13,
    "start_time": "2022-04-03T19:08:08.680Z"
   },
   {
    "duration": 19,
    "start_time": "2022-04-03T19:08:12.872Z"
   },
   {
    "duration": 8,
    "start_time": "2022-04-03T19:09:10.320Z"
   },
   {
    "duration": 7,
    "start_time": "2022-04-03T19:09:30.596Z"
   },
   {
    "duration": 18,
    "start_time": "2022-04-03T19:14:29.220Z"
   },
   {
    "duration": 17,
    "start_time": "2022-04-03T19:15:09.144Z"
   },
   {
    "duration": 18,
    "start_time": "2022-04-03T19:15:20.888Z"
   },
   {
    "duration": 21,
    "start_time": "2022-04-03T19:15:31.492Z"
   },
   {
    "duration": 18,
    "start_time": "2022-04-03T19:15:39.780Z"
   },
   {
    "duration": 17,
    "start_time": "2022-04-03T19:15:45.068Z"
   },
   {
    "duration": 5,
    "start_time": "2022-04-03T19:16:08.068Z"
   },
   {
    "duration": 9,
    "start_time": "2022-04-03T19:16:12.676Z"
   },
   {
    "duration": 18,
    "start_time": "2022-04-03T19:16:52.659Z"
   },
   {
    "duration": 7,
    "start_time": "2022-04-03T19:33:51.070Z"
   },
   {
    "duration": 14,
    "start_time": "2022-04-03T19:34:33.474Z"
   },
   {
    "duration": 17,
    "start_time": "2022-04-03T19:34:46.207Z"
   },
   {
    "duration": 18,
    "start_time": "2022-04-03T19:35:29.402Z"
   },
   {
    "duration": 9,
    "start_time": "2022-04-03T19:41:48.137Z"
   },
   {
    "duration": 68,
    "start_time": "2022-04-03T19:41:57.233Z"
   },
   {
    "duration": 14,
    "start_time": "2022-04-03T19:41:58.277Z"
   },
   {
    "duration": 10,
    "start_time": "2022-04-03T19:42:00.649Z"
   },
   {
    "duration": 3,
    "start_time": "2022-04-03T19:42:01.381Z"
   },
   {
    "duration": 13,
    "start_time": "2022-04-03T19:42:02.189Z"
   },
   {
    "duration": 16,
    "start_time": "2022-04-03T19:42:04.877Z"
   },
   {
    "duration": 10,
    "start_time": "2022-04-03T19:42:11.321Z"
   },
   {
    "duration": 18,
    "start_time": "2022-04-03T19:42:16.477Z"
   },
   {
    "duration": 10,
    "start_time": "2022-04-03T19:42:17.309Z"
   },
   {
    "duration": 5,
    "start_time": "2022-04-03T19:42:18.805Z"
   },
   {
    "duration": 9,
    "start_time": "2022-04-03T19:42:20.649Z"
   },
   {
    "duration": 4,
    "start_time": "2022-04-03T19:42:52.793Z"
   },
   {
    "duration": 17,
    "start_time": "2022-04-03T19:42:54.992Z"
   },
   {
    "duration": 19,
    "start_time": "2022-04-03T19:42:55.716Z"
   },
   {
    "duration": 16,
    "start_time": "2022-04-03T19:42:56.301Z"
   },
   {
    "duration": 6,
    "start_time": "2022-04-03T19:42:56.985Z"
   },
   {
    "duration": 10,
    "start_time": "2022-04-03T19:42:57.941Z"
   },
   {
    "duration": 8,
    "start_time": "2022-04-03T19:42:58.720Z"
   },
   {
    "duration": 7,
    "start_time": "2022-04-03T19:43:00.178Z"
   },
   {
    "duration": 12,
    "start_time": "2022-04-03T19:43:00.817Z"
   },
   {
    "duration": 7,
    "start_time": "2022-04-03T19:43:01.509Z"
   },
   {
    "duration": 6,
    "start_time": "2022-04-03T19:43:02.305Z"
   },
   {
    "duration": 6,
    "start_time": "2022-04-03T19:43:03.761Z"
   },
   {
    "duration": 7,
    "start_time": "2022-04-03T19:43:04.944Z"
   },
   {
    "duration": 11,
    "start_time": "2022-04-03T19:43:08.185Z"
   },
   {
    "duration": 11,
    "start_time": "2022-04-03T19:43:10.604Z"
   },
   {
    "duration": 15,
    "start_time": "2022-04-03T19:43:12.136Z"
   },
   {
    "duration": 11,
    "start_time": "2022-04-03T19:43:19.185Z"
   },
   {
    "duration": 19,
    "start_time": "2022-04-03T19:43:39.440Z"
   },
   {
    "duration": 18,
    "start_time": "2022-04-03T19:44:18.405Z"
   },
   {
    "duration": 13,
    "start_time": "2022-04-03T19:44:28.213Z"
   },
   {
    "duration": 17,
    "start_time": "2022-04-03T19:44:43.569Z"
   },
   {
    "duration": 18,
    "start_time": "2022-04-03T19:44:59.920Z"
   },
   {
    "duration": 9,
    "start_time": "2022-04-03T19:46:46.593Z"
   },
   {
    "duration": 10,
    "start_time": "2022-04-03T19:46:49.836Z"
   },
   {
    "duration": 17,
    "start_time": "2022-04-03T19:46:58.608Z"
   },
   {
    "duration": 15,
    "start_time": "2022-04-03T20:05:45.137Z"
   },
   {
    "duration": 14,
    "start_time": "2022-04-03T20:06:20.718Z"
   },
   {
    "duration": 21,
    "start_time": "2022-04-03T20:06:26.854Z"
   },
   {
    "duration": 10,
    "start_time": "2022-04-03T20:17:48.776Z"
   },
   {
    "duration": 13,
    "start_time": "2022-04-03T20:21:17.144Z"
   },
   {
    "duration": 21,
    "start_time": "2022-04-03T20:21:29.508Z"
   },
   {
    "duration": 13,
    "start_time": "2022-04-03T20:22:30.932Z"
   },
   {
    "duration": 17,
    "start_time": "2022-04-03T20:22:42.080Z"
   },
   {
    "duration": 13,
    "start_time": "2022-04-03T20:22:52.515Z"
   },
   {
    "duration": 12,
    "start_time": "2022-04-03T20:23:12.380Z"
   },
   {
    "duration": 14,
    "start_time": "2022-04-03T20:23:48.431Z"
   },
   {
    "duration": 13,
    "start_time": "2022-04-03T20:24:27.044Z"
   },
   {
    "duration": 366,
    "start_time": "2022-04-04T16:36:43.220Z"
   },
   {
    "duration": 16,
    "start_time": "2022-04-04T16:36:52.229Z"
   },
   {
    "duration": 11,
    "start_time": "2022-04-04T16:37:03.783Z"
   },
   {
    "duration": 4,
    "start_time": "2022-04-04T16:37:07.892Z"
   },
   {
    "duration": 15,
    "start_time": "2022-04-04T16:37:23.165Z"
   },
   {
    "duration": 16,
    "start_time": "2022-04-04T16:37:28.552Z"
   },
   {
    "duration": 11,
    "start_time": "2022-04-04T16:37:33.212Z"
   },
   {
    "duration": 19,
    "start_time": "2022-04-04T16:37:36.920Z"
   },
   {
    "duration": 11,
    "start_time": "2022-04-04T16:37:57.991Z"
   },
   {
    "duration": 5,
    "start_time": "2022-04-04T16:38:02.817Z"
   },
   {
    "duration": 10,
    "start_time": "2022-04-04T16:38:07.980Z"
   },
   {
    "duration": 5,
    "start_time": "2022-04-04T16:38:13.919Z"
   },
   {
    "duration": 19,
    "start_time": "2022-04-04T16:38:17.164Z"
   },
   {
    "duration": 20,
    "start_time": "2022-04-04T16:38:18.784Z"
   },
   {
    "duration": 17,
    "start_time": "2022-04-04T16:38:20.956Z"
   },
   {
    "duration": 7,
    "start_time": "2022-04-04T16:38:23.608Z"
   },
   {
    "duration": 11,
    "start_time": "2022-04-04T16:38:25.884Z"
   },
   {
    "duration": 9,
    "start_time": "2022-04-04T16:38:28.907Z"
   },
   {
    "duration": 7,
    "start_time": "2022-04-04T16:38:31.463Z"
   },
   {
    "duration": 12,
    "start_time": "2022-04-04T16:38:34.363Z"
   },
   {
    "duration": 7,
    "start_time": "2022-04-04T16:38:35.095Z"
   },
   {
    "duration": 7,
    "start_time": "2022-04-04T16:38:36.024Z"
   },
   {
    "duration": 6,
    "start_time": "2022-04-04T16:38:37.081Z"
   },
   {
    "duration": 8,
    "start_time": "2022-04-04T16:38:41.060Z"
   },
   {
    "duration": 10,
    "start_time": "2022-04-04T16:38:46.164Z"
   },
   {
    "duration": 11,
    "start_time": "2022-04-04T16:38:52.656Z"
   },
   {
    "duration": 16,
    "start_time": "2022-04-04T16:38:56.695Z"
   },
   {
    "duration": 17,
    "start_time": "2022-04-04T16:39:38.204Z"
   },
   {
    "duration": 12,
    "start_time": "2022-04-04T16:39:59.296Z"
   },
   {
    "duration": 21,
    "start_time": "2022-04-04T16:40:24.791Z"
   },
   {
    "duration": 18,
    "start_time": "2022-04-04T16:40:31.974Z"
   },
   {
    "duration": 20,
    "start_time": "2022-04-04T16:40:41.885Z"
   },
   {
    "duration": 21,
    "start_time": "2022-04-04T16:41:13.559Z"
   },
   {
    "duration": 14,
    "start_time": "2022-04-04T16:41:21.711Z"
   },
   {
    "duration": 13,
    "start_time": "2022-04-04T16:41:52.475Z"
   },
   {
    "duration": 4,
    "start_time": "2022-04-04T16:42:28.347Z"
   },
   {
    "duration": 11,
    "start_time": "2022-04-04T16:42:34.019Z"
   },
   {
    "duration": 12,
    "start_time": "2022-04-04T16:43:12.439Z"
   },
   {
    "duration": 99,
    "start_time": "2022-04-04T16:46:04.634Z"
   },
   {
    "duration": 17,
    "start_time": "2022-04-04T16:46:11.646Z"
   },
   {
    "duration": 11,
    "start_time": "2022-04-04T16:46:17.714Z"
   },
   {
    "duration": 5,
    "start_time": "2022-04-04T16:46:20.881Z"
   },
   {
    "duration": 15,
    "start_time": "2022-04-04T16:46:22.118Z"
   },
   {
    "duration": 14,
    "start_time": "2022-04-04T16:46:26.370Z"
   },
   {
    "duration": 10,
    "start_time": "2022-04-04T16:46:32.610Z"
   },
   {
    "duration": 19,
    "start_time": "2022-04-04T16:46:37.594Z"
   },
   {
    "duration": 17,
    "start_time": "2022-04-04T16:49:08.070Z"
   },
   {
    "duration": 17,
    "start_time": "2022-04-04T16:54:46.641Z"
   },
   {
    "duration": 16,
    "start_time": "2022-04-04T16:55:04.254Z"
   },
   {
    "duration": 9,
    "start_time": "2022-04-04T16:55:17.382Z"
   },
   {
    "duration": 9,
    "start_time": "2022-04-04T16:55:33.037Z"
   },
   {
    "duration": 19,
    "start_time": "2022-04-04T16:55:39.834Z"
   },
   {
    "duration": 24,
    "start_time": "2022-04-04T16:56:06.189Z"
   },
   {
    "duration": 21,
    "start_time": "2022-04-04T16:56:12.981Z"
   },
   {
    "duration": 16,
    "start_time": "2022-04-04T16:56:34.353Z"
   },
   {
    "duration": 17,
    "start_time": "2022-04-04T16:56:37.178Z"
   },
   {
    "duration": 21,
    "start_time": "2022-04-04T16:56:51.985Z"
   },
   {
    "duration": 11,
    "start_time": "2022-04-04T16:57:02.229Z"
   },
   {
    "duration": 23,
    "start_time": "2022-04-04T16:57:05.661Z"
   },
   {
    "duration": 11,
    "start_time": "2022-04-04T16:57:09.153Z"
   },
   {
    "duration": 12,
    "start_time": "2022-04-04T16:57:32.869Z"
   },
   {
    "duration": 19,
    "start_time": "2022-04-04T16:57:43.061Z"
   },
   {
    "duration": 677,
    "start_time": "2022-04-04T16:58:10.427Z"
   },
   {
    "duration": 13,
    "start_time": "2022-04-04T16:58:32.493Z"
   },
   {
    "duration": 8,
    "start_time": "2022-04-04T16:59:17.913Z"
   },
   {
    "duration": 8,
    "start_time": "2022-04-04T16:59:28.765Z"
   },
   {
    "duration": 1306,
    "start_time": "2022-04-04T17:01:16.281Z"
   },
   {
    "duration": 12,
    "start_time": "2022-04-04T17:01:18.529Z"
   },
   {
    "duration": 4,
    "start_time": "2022-04-04T17:04:58.989Z"
   },
   {
    "duration": 13,
    "start_time": "2022-04-04T17:05:41.071Z"
   },
   {
    "duration": 12,
    "start_time": "2022-04-04T17:06:31.153Z"
   },
   {
    "duration": 16,
    "start_time": "2022-04-04T17:07:16.692Z"
   },
   {
    "duration": 748,
    "start_time": "2022-04-04T17:07:41.117Z"
   },
   {
    "duration": 5,
    "start_time": "2022-04-04T17:08:08.409Z"
   },
   {
    "duration": 18,
    "start_time": "2022-04-04T17:08:11.492Z"
   },
   {
    "duration": 7,
    "start_time": "2022-04-04T17:08:22.761Z"
   },
   {
    "duration": 27,
    "start_time": "2022-04-04T17:08:24.324Z"
   },
   {
    "duration": 5,
    "start_time": "2022-04-04T17:09:26.449Z"
   },
   {
    "duration": 41,
    "start_time": "2022-04-04T17:09:28.036Z"
   },
   {
    "duration": 94,
    "start_time": "2022-04-04T17:09:44.048Z"
   },
   {
    "duration": 23,
    "start_time": "2022-04-04T17:09:47.532Z"
   },
   {
    "duration": 10,
    "start_time": "2022-04-04T17:10:25.345Z"
   },
   {
    "duration": 4,
    "start_time": "2022-04-04T17:10:27.076Z"
   },
   {
    "duration": 14,
    "start_time": "2022-04-04T17:10:28.400Z"
   },
   {
    "duration": 20,
    "start_time": "2022-04-04T17:10:40.656Z"
   },
   {
    "duration": 15,
    "start_time": "2022-04-04T17:10:48.964Z"
   },
   {
    "duration": 20,
    "start_time": "2022-04-04T17:10:58.162Z"
   },
   {
    "duration": 5,
    "start_time": "2022-04-04T17:11:19.181Z"
   },
   {
    "duration": 19,
    "start_time": "2022-04-04T17:13:02.579Z"
   },
   {
    "duration": 172,
    "start_time": "2022-04-04T17:16:06.248Z"
   },
   {
    "duration": 12,
    "start_time": "2022-04-04T17:16:19.148Z"
   },
   {
    "duration": 19,
    "start_time": "2022-04-04T17:17:16.756Z"
   },
   {
    "duration": 168,
    "start_time": "2022-04-04T17:18:15.879Z"
   },
   {
    "duration": 27,
    "start_time": "2022-04-04T17:18:21.035Z"
   },
   {
    "duration": 26,
    "start_time": "2022-04-04T17:18:27.775Z"
   },
   {
    "duration": 25,
    "start_time": "2022-04-04T17:18:40.275Z"
   },
   {
    "duration": 9,
    "start_time": "2022-04-04T17:25:30.991Z"
   },
   {
    "duration": 14,
    "start_time": "2022-04-04T17:25:36.373Z"
   },
   {
    "duration": 8,
    "start_time": "2022-04-04T17:25:53.250Z"
   },
   {
    "duration": 11,
    "start_time": "2022-04-04T17:25:59.194Z"
   },
   {
    "duration": 10,
    "start_time": "2022-04-04T17:26:05.613Z"
   },
   {
    "duration": 29,
    "start_time": "2022-04-04T17:26:10.075Z"
   },
   {
    "duration": 14,
    "start_time": "2022-04-04T17:26:45.426Z"
   },
   {
    "duration": 15,
    "start_time": "2022-04-04T17:26:53.694Z"
   },
   {
    "duration": 11,
    "start_time": "2022-04-04T17:26:58.382Z"
   },
   {
    "duration": 12,
    "start_time": "2022-04-04T17:27:05.213Z"
   },
   {
    "duration": 5,
    "start_time": "2022-04-04T17:27:16.498Z"
   },
   {
    "duration": 11,
    "start_time": "2022-04-04T17:27:29.566Z"
   },
   {
    "duration": 4,
    "start_time": "2022-04-04T17:27:31.130Z"
   },
   {
    "duration": 12,
    "start_time": "2022-04-04T17:27:37.598Z"
   },
   {
    "duration": 11,
    "start_time": "2022-04-04T17:27:43.938Z"
   },
   {
    "duration": 66,
    "start_time": "2022-04-04T17:28:52.714Z"
   },
   {
    "duration": 21,
    "start_time": "2022-04-04T17:28:54.099Z"
   },
   {
    "duration": 14,
    "start_time": "2022-04-04T17:28:56.748Z"
   },
   {
    "duration": 3,
    "start_time": "2022-04-04T17:28:57.627Z"
   },
   {
    "duration": 13,
    "start_time": "2022-04-04T17:28:58.822Z"
   },
   {
    "duration": 16,
    "start_time": "2022-04-04T17:29:02.922Z"
   },
   {
    "duration": 10,
    "start_time": "2022-04-04T17:29:07.354Z"
   },
   {
    "duration": 5,
    "start_time": "2022-04-04T17:29:13.118Z"
   },
   {
    "duration": 9,
    "start_time": "2022-04-04T17:29:16.958Z"
   },
   {
    "duration": 23,
    "start_time": "2022-04-04T17:29:24.795Z"
   },
   {
    "duration": 12,
    "start_time": "2022-04-04T17:29:44.174Z"
   },
   {
    "duration": 65,
    "start_time": "2022-04-04T17:30:00.233Z"
   },
   {
    "duration": 14,
    "start_time": "2022-04-04T17:30:01.514Z"
   },
   {
    "duration": 10,
    "start_time": "2022-04-04T17:30:03.766Z"
   },
   {
    "duration": 3,
    "start_time": "2022-04-04T17:30:04.483Z"
   },
   {
    "duration": 14,
    "start_time": "2022-04-04T17:30:05.149Z"
   },
   {
    "duration": 15,
    "start_time": "2022-04-04T17:30:06.609Z"
   },
   {
    "duration": 9,
    "start_time": "2022-04-04T17:30:07.574Z"
   },
   {
    "duration": 5,
    "start_time": "2022-04-04T17:30:16.901Z"
   },
   {
    "duration": 22,
    "start_time": "2022-04-04T17:30:22.541Z"
   },
   {
    "duration": 11,
    "start_time": "2022-04-04T17:30:52.117Z"
   },
   {
    "duration": 11,
    "start_time": "2022-04-04T17:31:02.365Z"
   },
   {
    "duration": 4,
    "start_time": "2022-04-04T17:31:27.526Z"
   },
   {
    "duration": 12,
    "start_time": "2022-04-04T17:31:53.873Z"
   },
   {
    "duration": 92,
    "start_time": "2022-04-04T17:32:18.368Z"
   },
   {
    "duration": 15,
    "start_time": "2022-04-04T17:32:28.416Z"
   },
   {
    "duration": 11,
    "start_time": "2022-04-04T17:32:42.893Z"
   },
   {
    "duration": 3,
    "start_time": "2022-04-04T17:32:45.656Z"
   },
   {
    "duration": 15,
    "start_time": "2022-04-04T17:32:46.947Z"
   },
   {
    "duration": 15,
    "start_time": "2022-04-04T17:32:53.159Z"
   },
   {
    "duration": 11,
    "start_time": "2022-04-04T17:32:57.840Z"
   },
   {
    "duration": 5,
    "start_time": "2022-04-04T17:33:02.148Z"
   },
   {
    "duration": 18,
    "start_time": "2022-04-04T17:33:07.704Z"
   },
   {
    "duration": 6,
    "start_time": "2022-04-04T17:33:21.196Z"
   },
   {
    "duration": 10,
    "start_time": "2022-04-04T17:36:48.947Z"
   },
   {
    "duration": 9,
    "start_time": "2022-04-04T17:36:55.728Z"
   },
   {
    "duration": 166,
    "start_time": "2022-04-04T17:38:15.935Z"
   },
   {
    "duration": 9,
    "start_time": "2022-04-04T17:38:28.402Z"
   },
   {
    "duration": 19,
    "start_time": "2022-04-04T17:40:05.414Z"
   },
   {
    "duration": 12,
    "start_time": "2022-04-04T17:40:44.238Z"
   },
   {
    "duration": 6,
    "start_time": "2022-04-04T17:40:48.054Z"
   },
   {
    "duration": 9,
    "start_time": "2022-04-04T17:40:58.261Z"
   },
   {
    "duration": 11,
    "start_time": "2022-04-04T17:41:12.539Z"
   },
   {
    "duration": 158,
    "start_time": "2022-04-04T17:41:55.294Z"
   },
   {
    "duration": 11,
    "start_time": "2022-04-04T17:41:59.910Z"
   },
   {
    "duration": 174,
    "start_time": "2022-04-04T17:42:26.370Z"
   },
   {
    "duration": 12,
    "start_time": "2022-04-04T17:42:34.062Z"
   },
   {
    "duration": 171,
    "start_time": "2022-04-04T17:42:47.034Z"
   },
   {
    "duration": 8,
    "start_time": "2022-04-04T17:42:52.222Z"
   },
   {
    "duration": 10,
    "start_time": "2022-04-04T17:43:01.418Z"
   },
   {
    "duration": 10,
    "start_time": "2022-04-04T17:47:46.430Z"
   },
   {
    "duration": 8,
    "start_time": "2022-04-04T17:47:58.345Z"
   },
   {
    "duration": 1372,
    "start_time": "2022-04-04T17:51:37.253Z"
   },
   {
    "duration": 18,
    "start_time": "2022-04-04T17:51:53.788Z"
   },
   {
    "duration": 10,
    "start_time": "2022-04-04T17:53:30.860Z"
   },
   {
    "duration": 1373,
    "start_time": "2022-04-04T17:53:42.952Z"
   },
   {
    "duration": 7,
    "start_time": "2022-04-04T17:53:58.097Z"
   },
   {
    "duration": 8,
    "start_time": "2022-04-04T17:54:23.625Z"
   },
   {
    "duration": 12,
    "start_time": "2022-04-04T17:54:41.093Z"
   },
   {
    "duration": 13,
    "start_time": "2022-04-04T17:55:09.208Z"
   },
   {
    "duration": 28,
    "start_time": "2022-04-04T17:55:31.381Z"
   },
   {
    "duration": 9,
    "start_time": "2022-04-04T17:56:11.872Z"
   },
   {
    "duration": 7,
    "start_time": "2022-04-04T18:01:24.299Z"
   },
   {
    "duration": 9,
    "start_time": "2022-04-04T18:02:21.970Z"
   },
   {
    "duration": 9,
    "start_time": "2022-04-04T18:02:26.723Z"
   },
   {
    "duration": 8,
    "start_time": "2022-04-04T18:02:34.574Z"
   },
   {
    "duration": 8,
    "start_time": "2022-04-04T18:02:40.939Z"
   },
   {
    "duration": 7,
    "start_time": "2022-04-04T18:02:49.554Z"
   },
   {
    "duration": 8,
    "start_time": "2022-04-04T18:03:00.714Z"
   },
   {
    "duration": 8,
    "start_time": "2022-04-04T18:03:17.522Z"
   },
   {
    "duration": 7,
    "start_time": "2022-04-04T18:03:30.555Z"
   },
   {
    "duration": 70,
    "start_time": "2022-04-04T18:04:05.317Z"
   },
   {
    "duration": 17,
    "start_time": "2022-04-04T18:04:08.218Z"
   },
   {
    "duration": 10,
    "start_time": "2022-04-04T18:04:15.018Z"
   },
   {
    "duration": 4,
    "start_time": "2022-04-04T18:04:17.441Z"
   },
   {
    "duration": 15,
    "start_time": "2022-04-04T18:04:18.310Z"
   },
   {
    "duration": 17,
    "start_time": "2022-04-04T18:04:22.358Z"
   },
   {
    "duration": 9,
    "start_time": "2022-04-04T18:04:25.437Z"
   },
   {
    "duration": 17,
    "start_time": "2022-04-04T18:04:34.678Z"
   },
   {
    "duration": 10,
    "start_time": "2022-04-04T18:04:42.701Z"
   },
   {
    "duration": 7,
    "start_time": "2022-04-04T18:04:45.593Z"
   },
   {
    "duration": 8,
    "start_time": "2022-04-04T18:04:51.830Z"
   },
   {
    "duration": 5,
    "start_time": "2022-04-04T18:05:00.109Z"
   },
   {
    "duration": 20,
    "start_time": "2022-04-04T18:05:04.366Z"
   },
   {
    "duration": 21,
    "start_time": "2022-04-04T18:05:05.682Z"
   },
   {
    "duration": 18,
    "start_time": "2022-04-04T18:05:06.325Z"
   },
   {
    "duration": 8,
    "start_time": "2022-04-04T18:05:08.662Z"
   },
   {
    "duration": 18,
    "start_time": "2022-04-04T18:05:09.478Z"
   },
   {
    "duration": 12,
    "start_time": "2022-04-04T18:05:10.037Z"
   },
   {
    "duration": 11,
    "start_time": "2022-04-04T18:05:12.434Z"
   },
   {
    "duration": 20,
    "start_time": "2022-04-04T18:05:14.350Z"
   },
   {
    "duration": 9,
    "start_time": "2022-04-04T18:05:15.673Z"
   },
   {
    "duration": 8,
    "start_time": "2022-04-04T18:05:20.466Z"
   },
   {
    "duration": 11,
    "start_time": "2022-04-04T18:07:37.501Z"
   },
   {
    "duration": 14,
    "start_time": "2022-04-04T18:07:59.287Z"
   },
   {
    "duration": 12,
    "start_time": "2022-04-04T18:08:17.425Z"
   },
   {
    "duration": 10,
    "start_time": "2022-04-04T18:08:25.297Z"
   },
   {
    "duration": 13,
    "start_time": "2022-04-04T18:09:31.654Z"
   },
   {
    "duration": 13,
    "start_time": "2022-04-04T18:09:38.857Z"
   },
   {
    "duration": 12,
    "start_time": "2022-04-04T18:09:41.473Z"
   },
   {
    "duration": 11,
    "start_time": "2022-04-04T18:09:56.825Z"
   },
   {
    "duration": 7,
    "start_time": "2022-04-04T18:09:58.417Z"
   },
   {
    "duration": 15,
    "start_time": "2022-04-04T18:10:03.854Z"
   },
   {
    "duration": 15,
    "start_time": "2022-04-04T18:10:06.589Z"
   },
   {
    "duration": 23,
    "start_time": "2022-04-04T18:10:09.449Z"
   },
   {
    "duration": 11,
    "start_time": "2022-04-04T18:10:34.469Z"
   },
   {
    "duration": 18,
    "start_time": "2022-04-04T18:10:45.109Z"
   },
   {
    "duration": 21,
    "start_time": "2022-04-04T18:11:07.685Z"
   },
   {
    "duration": 20,
    "start_time": "2022-04-04T18:11:14.288Z"
   },
   {
    "duration": 18,
    "start_time": "2022-04-04T18:11:24.676Z"
   },
   {
    "duration": 17,
    "start_time": "2022-04-04T18:18:48.783Z"
   },
   {
    "duration": 3531,
    "start_time": "2022-04-04T18:18:57.119Z"
   },
   {
    "duration": 2782,
    "start_time": "2022-04-04T18:19:18.507Z"
   },
   {
    "duration": 2927,
    "start_time": "2022-04-04T18:19:30.519Z"
   },
   {
    "duration": 80,
    "start_time": "2022-04-04T18:19:46.267Z"
   },
   {
    "duration": 14,
    "start_time": "2022-04-04T18:19:50.107Z"
   },
   {
    "duration": 11,
    "start_time": "2022-04-04T18:19:53.318Z"
   },
   {
    "duration": 4,
    "start_time": "2022-04-04T18:19:53.946Z"
   },
   {
    "duration": 15,
    "start_time": "2022-04-04T18:19:54.546Z"
   },
   {
    "duration": 15,
    "start_time": "2022-04-04T18:19:55.662Z"
   },
   {
    "duration": 10,
    "start_time": "2022-04-04T18:19:56.813Z"
   },
   {
    "duration": 18,
    "start_time": "2022-04-04T18:19:57.978Z"
   },
   {
    "duration": 10,
    "start_time": "2022-04-04T18:19:59.022Z"
   },
   {
    "duration": 6,
    "start_time": "2022-04-04T18:20:02.970Z"
   },
   {
    "duration": 9,
    "start_time": "2022-04-04T18:20:06.266Z"
   },
   {
    "duration": 4,
    "start_time": "2022-04-04T18:20:08.715Z"
   },
   {
    "duration": 25,
    "start_time": "2022-04-04T18:20:10.623Z"
   },
   {
    "duration": 30,
    "start_time": "2022-04-04T18:20:11.187Z"
   },
   {
    "duration": 20,
    "start_time": "2022-04-04T18:20:11.723Z"
   },
   {
    "duration": 7,
    "start_time": "2022-04-04T18:20:12.293Z"
   },
   {
    "duration": 13,
    "start_time": "2022-04-04T18:20:14.707Z"
   },
   {
    "duration": 8,
    "start_time": "2022-04-04T18:20:15.287Z"
   },
   {
    "duration": 7,
    "start_time": "2022-04-04T18:20:17.539Z"
   },
   {
    "duration": 15,
    "start_time": "2022-04-04T18:20:18.163Z"
   },
   {
    "duration": 8,
    "start_time": "2022-04-04T18:20:18.814Z"
   },
   {
    "duration": 8,
    "start_time": "2022-04-04T18:20:19.702Z"
   },
   {
    "duration": 9,
    "start_time": "2022-04-04T18:20:20.554Z"
   },
   {
    "duration": 11,
    "start_time": "2022-04-04T18:20:25.018Z"
   },
   {
    "duration": 12,
    "start_time": "2022-04-04T18:20:27.531Z"
   },
   {
    "duration": 18,
    "start_time": "2022-04-04T18:20:31.846Z"
   },
   {
    "duration": 18,
    "start_time": "2022-04-04T18:20:41.563Z"
   },
   {
    "duration": 20,
    "start_time": "2022-04-04T18:20:57.902Z"
   },
   {
    "duration": 20,
    "start_time": "2022-04-04T18:21:20.219Z"
   },
   {
    "duration": 23,
    "start_time": "2022-04-04T18:21:30.742Z"
   },
   {
    "duration": 18,
    "start_time": "2022-04-04T18:24:39.754Z"
   },
   {
    "duration": 26,
    "start_time": "2022-04-04T18:24:42.898Z"
   },
   {
    "duration": 17,
    "start_time": "2022-04-04T18:24:45.509Z"
   },
   {
    "duration": 20,
    "start_time": "2022-04-04T18:24:54.729Z"
   },
   {
    "duration": 15,
    "start_time": "2022-04-04T18:28:18.018Z"
   },
   {
    "duration": 17,
    "start_time": "2022-04-04T18:28:36.345Z"
   },
   {
    "duration": 22,
    "start_time": "2022-04-04T18:29:29.905Z"
   },
   {
    "duration": 19,
    "start_time": "2022-04-04T19:13:22.339Z"
   },
   {
    "duration": 18,
    "start_time": "2022-04-04T19:49:02.834Z"
   },
   {
    "duration": 480,
    "start_time": "2022-04-14T19:24:48.320Z"
   },
   {
    "duration": 14,
    "start_time": "2022-04-14T19:24:48.802Z"
   },
   {
    "duration": 9,
    "start_time": "2022-04-14T19:24:48.817Z"
   },
   {
    "duration": 20,
    "start_time": "2022-04-14T19:24:48.828Z"
   },
   {
    "duration": 13,
    "start_time": "2022-04-14T19:24:48.849Z"
   },
   {
    "duration": 15,
    "start_time": "2022-04-14T19:24:48.864Z"
   },
   {
    "duration": 9,
    "start_time": "2022-04-14T19:24:48.880Z"
   },
   {
    "duration": 18,
    "start_time": "2022-04-14T19:24:48.890Z"
   },
   {
    "duration": 39,
    "start_time": "2022-04-14T19:24:48.909Z"
   },
   {
    "duration": 5,
    "start_time": "2022-04-14T19:24:48.951Z"
   },
   {
    "duration": 8,
    "start_time": "2022-04-14T19:24:48.957Z"
   },
   {
    "duration": 4,
    "start_time": "2022-04-14T19:24:48.966Z"
   },
   {
    "duration": 17,
    "start_time": "2022-04-14T19:24:48.971Z"
   },
   {
    "duration": 18,
    "start_time": "2022-04-14T19:24:48.989Z"
   },
   {
    "duration": 48,
    "start_time": "2022-04-14T19:24:49.009Z"
   },
   {
    "duration": 6,
    "start_time": "2022-04-14T19:24:49.059Z"
   },
   {
    "duration": 21,
    "start_time": "2022-04-14T19:24:49.067Z"
   },
   {
    "duration": 12,
    "start_time": "2022-04-14T19:24:49.090Z"
   },
   {
    "duration": 7,
    "start_time": "2022-04-14T19:24:49.104Z"
   },
   {
    "duration": 14,
    "start_time": "2022-04-14T19:24:49.113Z"
   },
   {
    "duration": 19,
    "start_time": "2022-04-14T19:24:49.129Z"
   },
   {
    "duration": 8,
    "start_time": "2022-04-14T19:24:49.149Z"
   },
   {
    "duration": 8,
    "start_time": "2022-04-14T19:24:49.159Z"
   },
   {
    "duration": 4,
    "start_time": "2022-04-14T19:25:00.723Z"
   },
   {
    "duration": 10,
    "start_time": "2022-04-14T19:25:10.335Z"
   },
   {
    "duration": 756,
    "start_time": "2022-04-14T20:01:26.842Z"
   },
   {
    "duration": 25,
    "start_time": "2022-04-14T20:01:30.778Z"
   },
   {
    "duration": 17,
    "start_time": "2022-04-14T20:01:38.970Z"
   },
   {
    "duration": 546,
    "start_time": "2022-04-14T20:02:06.565Z"
   },
   {
    "duration": 113,
    "start_time": "2022-04-14T20:07:31.221Z"
   },
   {
    "duration": 25,
    "start_time": "2022-04-14T20:07:46.605Z"
   },
   {
    "duration": 86,
    "start_time": "2022-04-14T20:38:35.343Z"
   },
   {
    "duration": 85,
    "start_time": "2022-04-14T20:39:09.767Z"
   },
   {
    "duration": 91,
    "start_time": "2022-04-14T20:40:18.859Z"
   },
   {
    "duration": 26,
    "start_time": "2022-04-14T20:40:39.351Z"
   },
   {
    "duration": 29,
    "start_time": "2022-04-14T23:00:34.020Z"
   },
   {
    "duration": 10,
    "start_time": "2022-04-14T23:01:49.140Z"
   },
   {
    "duration": 18,
    "start_time": "2022-04-14T23:01:53.432Z"
   },
   {
    "duration": 10,
    "start_time": "2022-04-14T23:01:59.363Z"
   },
   {
    "duration": 5,
    "start_time": "2022-04-14T23:02:05.200Z"
   },
   {
    "duration": 8,
    "start_time": "2022-04-14T23:02:08.044Z"
   },
   {
    "duration": 7,
    "start_time": "2022-04-14T23:03:10.307Z"
   },
   {
    "duration": 17,
    "start_time": "2022-04-14T23:08:49.443Z"
   },
   {
    "duration": 5,
    "start_time": "2022-04-14T23:14:05.278Z"
   },
   {
    "duration": 7,
    "start_time": "2022-04-14T23:14:21.966Z"
   },
   {
    "duration": 9,
    "start_time": "2022-04-14T23:18:31.394Z"
   },
   {
    "duration": 7,
    "start_time": "2022-04-14T23:20:24.942Z"
   },
   {
    "duration": 8,
    "start_time": "2022-04-14T23:22:40.605Z"
   },
   {
    "duration": 11,
    "start_time": "2022-04-14T23:24:04.450Z"
   },
   {
    "duration": 4,
    "start_time": "2022-04-14T23:24:17.121Z"
   },
   {
    "duration": 7,
    "start_time": "2022-04-14T23:25:25.433Z"
   },
   {
    "duration": 6,
    "start_time": "2022-04-14T23:25:38.190Z"
   },
   {
    "duration": 4,
    "start_time": "2022-04-14T23:25:46.282Z"
   },
   {
    "duration": 7,
    "start_time": "2022-04-14T23:27:15.313Z"
   },
   {
    "duration": 6,
    "start_time": "2022-04-14T23:27:48.937Z"
   },
   {
    "duration": 6,
    "start_time": "2022-04-14T23:28:58.345Z"
   },
   {
    "duration": 5,
    "start_time": "2022-04-14T23:29:25.581Z"
   },
   {
    "duration": 3,
    "start_time": "2022-04-14T23:38:38.146Z"
   },
   {
    "duration": 8,
    "start_time": "2022-04-14T23:39:02.452Z"
   },
   {
    "duration": 10,
    "start_time": "2022-04-14T23:39:37.572Z"
   },
   {
    "duration": 3,
    "start_time": "2022-04-14T23:39:43.899Z"
   },
   {
    "duration": 14,
    "start_time": "2022-04-14T23:41:02.308Z"
   },
   {
    "duration": 8,
    "start_time": "2022-04-14T23:44:19.904Z"
   },
   {
    "duration": 7,
    "start_time": "2022-04-14T23:44:26.299Z"
   },
   {
    "duration": 4,
    "start_time": "2022-04-14T23:45:00.411Z"
   },
   {
    "duration": 9,
    "start_time": "2022-04-14T23:45:02.979Z"
   },
   {
    "duration": 5,
    "start_time": "2022-04-14T23:45:08.739Z"
   },
   {
    "duration": 8,
    "start_time": "2022-04-14T23:45:10.675Z"
   },
   {
    "duration": 7,
    "start_time": "2022-04-14T23:45:27.708Z"
   },
   {
    "duration": 10,
    "start_time": "2022-04-14T23:45:29.591Z"
   },
   {
    "duration": 369,
    "start_time": "2022-04-14T23:47:04.816Z"
   },
   {
    "duration": 11,
    "start_time": "2022-04-14T23:47:45.407Z"
   },
   {
    "duration": 392,
    "start_time": "2022-04-14T23:47:49.867Z"
   },
   {
    "duration": 8,
    "start_time": "2022-04-14T23:48:09.583Z"
   },
   {
    "duration": 8,
    "start_time": "2022-04-14T23:48:19.487Z"
   },
   {
    "duration": 7,
    "start_time": "2022-04-14T23:48:31.623Z"
   },
   {
    "duration": 6,
    "start_time": "2022-04-14T23:48:41.039Z"
   },
   {
    "duration": 9,
    "start_time": "2022-04-14T23:48:43.827Z"
   },
   {
    "duration": 8,
    "start_time": "2022-04-14T23:49:34.051Z"
   },
   {
    "duration": 8,
    "start_time": "2022-04-14T23:49:35.987Z"
   },
   {
    "duration": 5,
    "start_time": "2022-04-14T23:51:48.795Z"
   },
   {
    "duration": 6,
    "start_time": "2022-04-14T23:54:42.858Z"
   },
   {
    "duration": 5,
    "start_time": "2022-04-14T23:57:04.710Z"
   },
   {
    "duration": 95,
    "start_time": "2022-04-15T00:00:07.557Z"
   },
   {
    "duration": 99,
    "start_time": "2022-04-15T00:00:14.306Z"
   },
   {
    "duration": 4,
    "start_time": "2022-04-15T00:01:02.206Z"
   },
   {
    "duration": 18,
    "start_time": "2022-04-15T00:01:06.145Z"
   },
   {
    "duration": 168,
    "start_time": "2022-04-15T00:01:52.013Z"
   },
   {
    "duration": 18,
    "start_time": "2022-04-15T00:02:01.725Z"
   },
   {
    "duration": 23,
    "start_time": "2022-04-15T00:02:03.329Z"
   },
   {
    "duration": 18,
    "start_time": "2022-04-15T00:02:03.993Z"
   },
   {
    "duration": 7,
    "start_time": "2022-04-15T00:02:04.974Z"
   },
   {
    "duration": 11,
    "start_time": "2022-04-15T00:02:07.641Z"
   },
   {
    "duration": 7,
    "start_time": "2022-04-15T00:02:08.246Z"
   },
   {
    "duration": 7,
    "start_time": "2022-04-15T00:02:09.655Z"
   },
   {
    "duration": 13,
    "start_time": "2022-04-15T00:02:11.681Z"
   },
   {
    "duration": 7,
    "start_time": "2022-04-15T00:02:14.849Z"
   },
   {
    "duration": 20,
    "start_time": "2022-04-15T00:02:47.361Z"
   },
   {
    "duration": 16,
    "start_time": "2022-04-15T00:02:55.313Z"
   },
   {
    "duration": 18,
    "start_time": "2022-04-15T00:03:21.729Z"
   },
   {
    "duration": 34,
    "start_time": "2022-04-15T00:05:32.925Z"
   },
   {
    "duration": 20,
    "start_time": "2022-04-15T00:05:51.476Z"
   },
   {
    "duration": 4,
    "start_time": "2022-04-15T00:06:43.336Z"
   },
   {
    "duration": 4,
    "start_time": "2022-04-15T00:07:43.617Z"
   },
   {
    "duration": 12,
    "start_time": "2022-04-15T00:11:21.776Z"
   },
   {
    "duration": 18,
    "start_time": "2022-04-15T00:12:20.885Z"
   },
   {
    "duration": 15,
    "start_time": "2022-04-15T00:12:51.480Z"
   },
   {
    "duration": 13,
    "start_time": "2022-04-15T00:13:03.600Z"
   },
   {
    "duration": 65,
    "start_time": "2022-04-15T00:14:40.496Z"
   },
   {
    "duration": 15,
    "start_time": "2022-04-15T00:14:43.451Z"
   },
   {
    "duration": 12,
    "start_time": "2022-04-15T00:15:11.204Z"
   },
   {
    "duration": 18,
    "start_time": "2022-04-15T00:15:11.843Z"
   },
   {
    "duration": 14,
    "start_time": "2022-04-15T00:15:15.121Z"
   },
   {
    "duration": 24,
    "start_time": "2022-04-15T00:15:18.188Z"
   },
   {
    "duration": 11,
    "start_time": "2022-04-15T00:15:20.088Z"
   },
   {
    "duration": 17,
    "start_time": "2022-04-15T00:15:22.124Z"
   },
   {
    "duration": 10,
    "start_time": "2022-04-15T00:15:23.416Z"
   },
   {
    "duration": 6,
    "start_time": "2022-04-15T00:15:24.655Z"
   },
   {
    "duration": 7,
    "start_time": "2022-04-15T00:15:26.360Z"
   },
   {
    "duration": 9,
    "start_time": "2022-04-15T00:15:29.257Z"
   },
   {
    "duration": 6,
    "start_time": "2022-04-15T00:15:29.996Z"
   },
   {
    "duration": 12,
    "start_time": "2022-04-15T00:15:30.968Z"
   },
   {
    "duration": 8,
    "start_time": "2022-04-15T00:15:32.731Z"
   },
   {
    "duration": 9,
    "start_time": "2022-04-15T00:15:33.475Z"
   },
   {
    "duration": 6,
    "start_time": "2022-04-15T00:15:34.064Z"
   },
   {
    "duration": 6,
    "start_time": "2022-04-15T00:15:34.868Z"
   },
   {
    "duration": 6,
    "start_time": "2022-04-15T00:15:35.939Z"
   },
   {
    "duration": 7,
    "start_time": "2022-04-15T00:15:37.208Z"
   },
   {
    "duration": 4,
    "start_time": "2022-04-15T00:15:38.779Z"
   },
   {
    "duration": 8,
    "start_time": "2022-04-15T00:15:39.615Z"
   },
   {
    "duration": 4,
    "start_time": "2022-04-15T00:15:49.040Z"
   },
   {
    "duration": 17,
    "start_time": "2022-04-15T00:15:50.959Z"
   },
   {
    "duration": 18,
    "start_time": "2022-04-15T00:15:51.544Z"
   },
   {
    "duration": 18,
    "start_time": "2022-04-15T00:15:52.324Z"
   },
   {
    "duration": 6,
    "start_time": "2022-04-15T00:15:52.920Z"
   },
   {
    "duration": 12,
    "start_time": "2022-04-15T00:15:53.519Z"
   },
   {
    "duration": 8,
    "start_time": "2022-04-15T00:15:54.272Z"
   },
   {
    "duration": 7,
    "start_time": "2022-04-15T00:15:55.564Z"
   },
   {
    "duration": 12,
    "start_time": "2022-04-15T00:15:56.176Z"
   },
   {
    "duration": 8,
    "start_time": "2022-04-15T00:15:58.111Z"
   },
   {
    "duration": 8,
    "start_time": "2022-04-15T00:15:58.814Z"
   },
   {
    "duration": 21,
    "start_time": "2022-04-15T00:16:00.216Z"
   },
   {
    "duration": 20,
    "start_time": "2022-04-15T00:16:03.796Z"
   },
   {
    "duration": 19,
    "start_time": "2022-04-15T00:16:21.046Z"
   },
   {
    "duration": 4,
    "start_time": "2022-04-15T00:16:26.052Z"
   },
   {
    "duration": 4,
    "start_time": "2022-04-15T00:16:27.687Z"
   },
   {
    "duration": 11,
    "start_time": "2022-04-15T00:16:29.156Z"
   },
   {
    "duration": 16,
    "start_time": "2022-04-15T00:16:32.947Z"
   },
   {
    "duration": 5,
    "start_time": "2022-04-15T00:17:21.972Z"
   },
   {
    "duration": 9,
    "start_time": "2022-04-15T00:17:23.756Z"
   },
   {
    "duration": 20,
    "start_time": "2022-04-15T00:18:27.296Z"
   },
   {
    "duration": 19,
    "start_time": "2022-04-15T00:18:33.875Z"
   },
   {
    "duration": 63,
    "start_time": "2022-04-15T00:18:49.331Z"
   },
   {
    "duration": 14,
    "start_time": "2022-04-15T00:18:52.279Z"
   },
   {
    "duration": 11,
    "start_time": "2022-04-15T00:19:02.863Z"
   },
   {
    "duration": 17,
    "start_time": "2022-04-15T00:19:03.462Z"
   },
   {
    "duration": 16,
    "start_time": "2022-04-15T00:19:06.575Z"
   },
   {
    "duration": 23,
    "start_time": "2022-04-15T00:19:12.227Z"
   },
   {
    "duration": 10,
    "start_time": "2022-04-15T00:19:15.256Z"
   },
   {
    "duration": 18,
    "start_time": "2022-04-15T00:19:17.706Z"
   },
   {
    "duration": 10,
    "start_time": "2022-04-15T00:19:22.727Z"
   },
   {
    "duration": 6,
    "start_time": "2022-04-15T00:19:30.671Z"
   },
   {
    "duration": 8,
    "start_time": "2022-04-15T00:19:32.019Z"
   },
   {
    "duration": 9,
    "start_time": "2022-04-15T00:19:35.611Z"
   },
   {
    "duration": 13,
    "start_time": "2022-04-15T00:19:45.671Z"
   },
   {
    "duration": 6,
    "start_time": "2022-04-15T00:19:50.807Z"
   },
   {
    "duration": 9,
    "start_time": "2022-04-15T00:19:52.819Z"
   },
   {
    "duration": 16,
    "start_time": "2022-04-15T00:20:13.079Z"
   },
   {
    "duration": 15,
    "start_time": "2022-04-15T00:20:49.763Z"
   },
   {
    "duration": 8,
    "start_time": "2022-04-15T00:21:16.943Z"
   },
   {
    "duration": 9,
    "start_time": "2022-04-15T00:21:26.799Z"
   },
   {
    "duration": 6,
    "start_time": "2022-04-15T00:21:53.810Z"
   },
   {
    "duration": 6,
    "start_time": "2022-04-15T00:21:54.587Z"
   },
   {
    "duration": 5,
    "start_time": "2022-04-15T00:21:55.407Z"
   },
   {
    "duration": 7,
    "start_time": "2022-04-15T00:22:00.200Z"
   },
   {
    "duration": 4,
    "start_time": "2022-04-15T00:22:04.227Z"
   },
   {
    "duration": 6,
    "start_time": "2022-04-15T00:22:04.807Z"
   },
   {
    "duration": 6,
    "start_time": "2022-04-15T00:25:11.242Z"
   },
   {
    "duration": 8,
    "start_time": "2022-04-15T00:25:12.963Z"
   },
   {
    "duration": 6,
    "start_time": "2022-04-15T00:25:18.955Z"
   },
   {
    "duration": 5,
    "start_time": "2022-04-15T00:25:25.050Z"
   },
   {
    "duration": 17,
    "start_time": "2022-04-15T00:25:27.967Z"
   },
   {
    "duration": 23,
    "start_time": "2022-04-15T00:25:28.507Z"
   },
   {
    "duration": 17,
    "start_time": "2022-04-15T00:25:28.983Z"
   },
   {
    "duration": 8,
    "start_time": "2022-04-15T00:25:29.530Z"
   },
   {
    "duration": 10,
    "start_time": "2022-04-15T00:25:30.038Z"
   },
   {
    "duration": 8,
    "start_time": "2022-04-15T00:25:30.659Z"
   },
   {
    "duration": 8,
    "start_time": "2022-04-15T00:25:31.646Z"
   },
   {
    "duration": 14,
    "start_time": "2022-04-15T00:25:32.143Z"
   },
   {
    "duration": 7,
    "start_time": "2022-04-15T00:25:33.658Z"
   },
   {
    "duration": 8,
    "start_time": "2022-04-15T00:25:34.162Z"
   },
   {
    "duration": 20,
    "start_time": "2022-04-15T00:25:35.471Z"
   },
   {
    "duration": 21,
    "start_time": "2022-04-15T00:25:36.658Z"
   },
   {
    "duration": 18,
    "start_time": "2022-04-15T00:25:37.258Z"
   },
   {
    "duration": 5,
    "start_time": "2022-04-15T00:25:39.754Z"
   },
   {
    "duration": 5,
    "start_time": "2022-04-15T00:25:41.110Z"
   },
   {
    "duration": 11,
    "start_time": "2022-04-15T00:25:44.327Z"
   },
   {
    "duration": 14,
    "start_time": "2022-04-15T00:25:45.495Z"
   },
   {
    "duration": 20,
    "start_time": "2022-04-15T00:25:53.587Z"
   },
   {
    "duration": 19,
    "start_time": "2022-04-15T00:25:58.098Z"
   },
   {
    "duration": 4,
    "start_time": "2022-04-15T00:41:59.905Z"
   },
   {
    "duration": 3,
    "start_time": "2022-04-15T00:42:23.669Z"
   },
   {
    "duration": 16,
    "start_time": "2022-04-15T00:43:20.431Z"
   },
   {
    "duration": 18,
    "start_time": "2022-04-15T00:44:45.612Z"
   },
   {
    "duration": 11,
    "start_time": "2022-04-15T00:45:35.778Z"
   },
   {
    "duration": 16,
    "start_time": "2022-04-15T00:46:21.120Z"
   },
   {
    "duration": 60,
    "start_time": "2022-04-15T00:47:41.300Z"
   },
   {
    "duration": 15,
    "start_time": "2022-04-15T00:47:43.640Z"
   },
   {
    "duration": 10,
    "start_time": "2022-04-15T00:47:46.840Z"
   },
   {
    "duration": 18,
    "start_time": "2022-04-15T00:47:48.501Z"
   },
   {
    "duration": 14,
    "start_time": "2022-04-15T00:47:52.656Z"
   },
   {
    "duration": 24,
    "start_time": "2022-04-15T00:47:57.000Z"
   },
   {
    "duration": 10,
    "start_time": "2022-04-15T00:48:00.769Z"
   },
   {
    "duration": 18,
    "start_time": "2022-04-15T00:48:04.321Z"
   },
   {
    "duration": 10,
    "start_time": "2022-04-15T00:48:07.468Z"
   },
   {
    "duration": 7,
    "start_time": "2022-04-15T00:48:10.527Z"
   },
   {
    "duration": 8,
    "start_time": "2022-04-15T00:48:12.831Z"
   },
   {
    "duration": 8,
    "start_time": "2022-04-15T00:48:16.277Z"
   },
   {
    "duration": 6,
    "start_time": "2022-04-15T00:48:18.224Z"
   },
   {
    "duration": 14,
    "start_time": "2022-04-15T00:48:21.423Z"
   },
   {
    "duration": 7,
    "start_time": "2022-04-15T00:48:25.228Z"
   },
   {
    "duration": 9,
    "start_time": "2022-04-15T00:48:27.128Z"
   },
   {
    "duration": 6,
    "start_time": "2022-04-15T00:48:29.544Z"
   },
   {
    "duration": 6,
    "start_time": "2022-04-15T00:49:23.072Z"
   },
   {
    "duration": 6,
    "start_time": "2022-04-15T00:49:24.024Z"
   },
   {
    "duration": 5,
    "start_time": "2022-04-15T00:49:24.772Z"
   },
   {
    "duration": 7,
    "start_time": "2022-04-15T00:49:28.023Z"
   },
   {
    "duration": 5,
    "start_time": "2022-04-15T00:49:30.708Z"
   },
   {
    "duration": 6,
    "start_time": "2022-04-15T00:49:31.904Z"
   },
   {
    "duration": 5,
    "start_time": "2022-04-15T00:49:35.039Z"
   },
   {
    "duration": 17,
    "start_time": "2022-04-15T00:49:37.680Z"
   },
   {
    "duration": 22,
    "start_time": "2022-04-15T00:49:38.320Z"
   },
   {
    "duration": 16,
    "start_time": "2022-04-15T00:49:38.896Z"
   },
   {
    "duration": 7,
    "start_time": "2022-04-15T00:49:40.707Z"
   },
   {
    "duration": 10,
    "start_time": "2022-04-15T00:49:41.300Z"
   },
   {
    "duration": 8,
    "start_time": "2022-04-15T00:49:41.884Z"
   },
   {
    "duration": 6,
    "start_time": "2022-04-15T00:49:44.200Z"
   },
   {
    "duration": 12,
    "start_time": "2022-04-15T00:49:44.764Z"
   },
   {
    "duration": 7,
    "start_time": "2022-04-15T00:49:47.399Z"
   },
   {
    "duration": 7,
    "start_time": "2022-04-15T00:49:49.100Z"
   },
   {
    "duration": 21,
    "start_time": "2022-04-15T00:49:53.284Z"
   },
   {
    "duration": 21,
    "start_time": "2022-04-15T00:49:55.447Z"
   },
   {
    "duration": 17,
    "start_time": "2022-04-15T00:49:56.136Z"
   },
   {
    "duration": 4,
    "start_time": "2022-04-15T00:49:59.403Z"
   },
   {
    "duration": 4,
    "start_time": "2022-04-15T00:50:02.360Z"
   },
   {
    "duration": 12,
    "start_time": "2022-04-15T00:50:05.452Z"
   },
   {
    "duration": 14,
    "start_time": "2022-04-15T00:50:08.464Z"
   },
   {
    "duration": 22,
    "start_time": "2022-04-15T00:50:22.024Z"
   },
   {
    "duration": 21,
    "start_time": "2022-04-15T00:50:26.820Z"
   },
   {
    "duration": 3,
    "start_time": "2022-04-15T00:50:31.428Z"
   },
   {
    "duration": 14,
    "start_time": "2022-04-15T00:50:33.036Z"
   },
   {
    "duration": 14,
    "start_time": "2022-04-15T00:50:37.660Z"
   },
   {
    "duration": 15,
    "start_time": "2022-04-15T00:51:04.040Z"
   },
   {
    "duration": 15,
    "start_time": "2022-04-15T00:51:15.264Z"
   },
   {
    "duration": 13,
    "start_time": "2022-04-15T00:51:22.068Z"
   },
   {
    "duration": 14,
    "start_time": "2022-04-15T00:51:27.699Z"
   },
   {
    "duration": 15,
    "start_time": "2022-04-15T00:51:59.672Z"
   },
   {
    "duration": 21,
    "start_time": "2022-04-15T00:55:29.859Z"
   },
   {
    "duration": 14,
    "start_time": "2022-04-15T00:56:08.825Z"
   },
   {
    "duration": 624,
    "start_time": "2022-04-15T05:40:45.082Z"
   },
   {
    "duration": 36,
    "start_time": "2022-04-15T05:40:45.709Z"
   },
   {
    "duration": 22,
    "start_time": "2022-04-15T05:40:45.753Z"
   },
   {
    "duration": 879,
    "start_time": "2022-04-15T05:40:45.778Z"
   },
   {
    "duration": 32,
    "start_time": "2022-04-15T05:40:46.659Z"
   },
   {
    "duration": 76,
    "start_time": "2022-04-15T05:40:46.694Z"
   },
   {
    "duration": 23,
    "start_time": "2022-04-15T05:40:46.773Z"
   },
   {
    "duration": 62,
    "start_time": "2022-04-15T05:40:46.799Z"
   },
   {
    "duration": 16,
    "start_time": "2022-04-15T05:40:46.864Z"
   },
   {
    "duration": 11,
    "start_time": "2022-04-15T05:40:46.887Z"
   },
   {
    "duration": 53,
    "start_time": "2022-04-15T05:40:46.900Z"
   },
   {
    "duration": 15,
    "start_time": "2022-04-15T05:40:46.956Z"
   },
   {
    "duration": 11,
    "start_time": "2022-04-15T05:40:46.974Z"
   },
   {
    "duration": 65,
    "start_time": "2022-04-15T05:40:46.988Z"
   },
   {
    "duration": 13,
    "start_time": "2022-04-15T05:40:47.056Z"
   },
   {
    "duration": 8,
    "start_time": "2022-04-15T05:40:47.071Z"
   },
   {
    "duration": 11,
    "start_time": "2022-04-15T05:40:47.082Z"
   },
   {
    "duration": 9,
    "start_time": "2022-04-15T05:40:47.095Z"
   },
   {
    "duration": 11,
    "start_time": "2022-04-15T05:40:47.152Z"
   },
   {
    "duration": 7,
    "start_time": "2022-04-15T05:40:47.167Z"
   },
   {
    "duration": 14,
    "start_time": "2022-04-15T05:40:47.176Z"
   },
   {
    "duration": 11,
    "start_time": "2022-04-15T05:40:47.193Z"
   },
   {
    "duration": 81,
    "start_time": "2022-04-15T05:40:47.207Z"
   },
   {
    "duration": 36,
    "start_time": "2022-04-15T05:40:47.291Z"
   },
   {
    "duration": 58,
    "start_time": "2022-04-15T05:40:47.329Z"
   },
   {
    "duration": 13,
    "start_time": "2022-04-15T05:40:47.390Z"
   },
   {
    "duration": 47,
    "start_time": "2022-04-15T05:40:47.405Z"
   },
   {
    "duration": 11,
    "start_time": "2022-04-15T05:40:47.457Z"
   },
   {
    "duration": 15,
    "start_time": "2022-04-15T05:40:47.470Z"
   },
   {
    "duration": 28,
    "start_time": "2022-04-15T05:40:47.488Z"
   },
   {
    "duration": 42,
    "start_time": "2022-04-15T05:40:47.519Z"
   },
   {
    "duration": 14,
    "start_time": "2022-04-15T05:40:47.564Z"
   },
   {
    "duration": 38,
    "start_time": "2022-04-15T05:40:47.580Z"
   },
   {
    "duration": 73,
    "start_time": "2022-04-15T05:40:47.620Z"
   },
   {
    "duration": 60,
    "start_time": "2022-04-15T05:40:47.697Z"
   },
   {
    "duration": 7,
    "start_time": "2022-04-15T05:40:47.760Z"
   },
   {
    "duration": 11,
    "start_time": "2022-04-15T05:40:47.770Z"
   },
   {
    "duration": 17,
    "start_time": "2022-04-15T05:40:47.784Z"
   },
   {
    "duration": 68,
    "start_time": "2022-04-15T05:40:47.804Z"
   },
   {
    "duration": 32,
    "start_time": "2022-04-15T05:40:47.875Z"
   },
   {
    "duration": 55,
    "start_time": "2022-04-15T05:40:47.909Z"
   },
   {
    "duration": 1870,
    "start_time": "2022-04-15T05:41:22.657Z"
   },
   {
    "duration": 41,
    "start_time": "2022-04-15T05:41:37.091Z"
   },
   {
    "duration": 47,
    "start_time": "2022-04-15T05:41:44.929Z"
   },
   {
    "duration": 61,
    "start_time": "2022-04-15T05:44:18.927Z"
   },
   {
    "duration": 51,
    "start_time": "2022-04-15T05:44:22.048Z"
   },
   {
    "duration": 29,
    "start_time": "2022-04-15T05:44:44.591Z"
   },
   {
    "duration": 12,
    "start_time": "2022-04-15T05:44:46.271Z"
   },
   {
    "duration": 13,
    "start_time": "2022-04-15T05:44:56.655Z"
   },
   {
    "duration": 8,
    "start_time": "2022-04-15T05:44:58.719Z"
   },
   {
    "duration": 9,
    "start_time": "2022-04-15T05:45:22.240Z"
   },
   {
    "duration": 18,
    "start_time": "2022-04-15T05:45:31.664Z"
   },
   {
    "duration": 19,
    "start_time": "2022-04-15T05:45:46.030Z"
   },
   {
    "duration": 17,
    "start_time": "2022-04-15T05:45:52.991Z"
   },
   {
    "duration": 16,
    "start_time": "2022-04-15T05:46:03.472Z"
   },
   {
    "duration": 63,
    "start_time": "2022-04-15T05:47:01.741Z"
   },
   {
    "duration": 19,
    "start_time": "2022-04-15T05:47:10.126Z"
   },
   {
    "duration": 23,
    "start_time": "2022-04-15T05:48:43.550Z"
   },
   {
    "duration": 54,
    "start_time": "2022-04-15T05:48:46.220Z"
   },
   {
    "duration": 19,
    "start_time": "2022-04-15T05:49:03.357Z"
   },
   {
    "duration": 95,
    "start_time": "2022-04-15T05:52:09.933Z"
   },
   {
    "duration": 17,
    "start_time": "2022-04-15T05:52:33.997Z"
   },
   {
    "duration": 23,
    "start_time": "2022-04-15T05:54:17.643Z"
   },
   {
    "duration": 42,
    "start_time": "2022-04-15T05:54:22.315Z"
   },
   {
    "duration": 139,
    "start_time": "2022-04-15T06:29:21.956Z"
   },
   {
    "duration": 21,
    "start_time": "2022-04-15T06:29:22.098Z"
   },
   {
    "duration": 47,
    "start_time": "2022-04-15T06:29:22.121Z"
   },
   {
    "duration": 32,
    "start_time": "2022-04-15T06:29:22.172Z"
   },
   {
    "duration": 31,
    "start_time": "2022-04-15T06:29:22.206Z"
   },
   {
    "duration": 50,
    "start_time": "2022-04-15T06:29:22.239Z"
   },
   {
    "duration": 14,
    "start_time": "2022-04-15T06:29:22.291Z"
   },
   {
    "duration": 51,
    "start_time": "2022-04-15T06:29:22.307Z"
   },
   {
    "duration": 18,
    "start_time": "2022-04-15T06:29:22.360Z"
   },
   {
    "duration": 20,
    "start_time": "2022-04-15T06:29:22.382Z"
   },
   {
    "duration": 34,
    "start_time": "2022-04-15T06:29:22.405Z"
   },
   {
    "duration": 51,
    "start_time": "2022-04-15T06:29:22.442Z"
   },
   {
    "duration": 15,
    "start_time": "2022-04-15T06:29:22.496Z"
   },
   {
    "duration": 40,
    "start_time": "2022-04-15T06:29:22.513Z"
   },
   {
    "duration": 31,
    "start_time": "2022-04-15T06:29:22.555Z"
   },
   {
    "duration": 18,
    "start_time": "2022-04-15T06:29:22.588Z"
   },
   {
    "duration": 31,
    "start_time": "2022-04-15T06:29:22.609Z"
   },
   {
    "duration": 28,
    "start_time": "2022-04-15T06:29:22.643Z"
   },
   {
    "duration": 26,
    "start_time": "2022-04-15T06:29:22.673Z"
   },
   {
    "duration": 26,
    "start_time": "2022-04-15T06:29:22.702Z"
   },
   {
    "duration": 27,
    "start_time": "2022-04-15T06:29:22.731Z"
   },
   {
    "duration": 30,
    "start_time": "2022-04-15T06:29:22.760Z"
   },
   {
    "duration": 52,
    "start_time": "2022-04-15T06:29:22.792Z"
   },
   {
    "duration": 35,
    "start_time": "2022-04-15T06:29:22.847Z"
   },
   {
    "duration": 32,
    "start_time": "2022-04-15T06:29:22.884Z"
   },
   {
    "duration": 9,
    "start_time": "2022-04-15T06:29:22.918Z"
   },
   {
    "duration": 17,
    "start_time": "2022-04-15T06:29:22.953Z"
   },
   {
    "duration": 27,
    "start_time": "2022-04-15T06:29:22.975Z"
   },
   {
    "duration": 26,
    "start_time": "2022-04-15T06:29:23.004Z"
   },
   {
    "duration": 38,
    "start_time": "2022-04-15T06:29:23.032Z"
   },
   {
    "duration": 49,
    "start_time": "2022-04-15T06:29:23.072Z"
   },
   {
    "duration": 30,
    "start_time": "2022-04-15T06:29:23.124Z"
   },
   {
    "duration": 59,
    "start_time": "2022-04-15T06:29:23.157Z"
   },
   {
    "duration": 35,
    "start_time": "2022-04-15T06:29:23.218Z"
   },
   {
    "duration": 32,
    "start_time": "2022-04-15T06:29:23.256Z"
   },
   {
    "duration": 10,
    "start_time": "2022-04-15T06:29:23.290Z"
   },
   {
    "duration": 37,
    "start_time": "2022-04-15T06:29:23.302Z"
   },
   {
    "duration": 33,
    "start_time": "2022-04-15T06:29:23.341Z"
   },
   {
    "duration": 32,
    "start_time": "2022-04-15T06:29:23.377Z"
   },
   {
    "duration": 59,
    "start_time": "2022-04-15T06:29:23.411Z"
   },
   {
    "duration": 47,
    "start_time": "2022-04-15T06:29:23.473Z"
   },
   {
    "duration": 38,
    "start_time": "2022-04-15T06:29:23.523Z"
   },
   {
    "duration": 56,
    "start_time": "2022-04-15T06:29:23.564Z"
   },
   {
    "duration": 740,
    "start_time": "2022-04-15T06:29:32.845Z"
   },
   {
    "duration": 39,
    "start_time": "2022-04-15T06:29:50.062Z"
   },
   {
    "duration": 139,
    "start_time": "2022-04-15T06:29:54.079Z"
   },
   {
    "duration": 21,
    "start_time": "2022-04-15T06:29:59.021Z"
   },
   {
    "duration": 15,
    "start_time": "2022-04-15T06:30:10.638Z"
   },
   {
    "duration": 17,
    "start_time": "2022-04-15T06:30:41.037Z"
   },
   {
    "duration": 149,
    "start_time": "2022-04-15T06:30:46.229Z"
   },
   {
    "duration": 27,
    "start_time": "2022-04-15T06:30:46.382Z"
   },
   {
    "duration": 46,
    "start_time": "2022-04-15T06:30:46.411Z"
   },
   {
    "duration": 73,
    "start_time": "2022-04-15T06:30:46.461Z"
   },
   {
    "duration": 22,
    "start_time": "2022-04-15T06:30:46.537Z"
   },
   {
    "duration": 95,
    "start_time": "2022-04-15T06:30:46.562Z"
   },
   {
    "duration": 14,
    "start_time": "2022-04-15T06:30:46.660Z"
   },
   {
    "duration": 41,
    "start_time": "2022-04-15T06:30:46.677Z"
   },
   {
    "duration": 36,
    "start_time": "2022-04-15T06:30:46.720Z"
   },
   {
    "duration": 17,
    "start_time": "2022-04-15T06:30:46.762Z"
   },
   {
    "duration": 29,
    "start_time": "2022-04-15T06:30:46.782Z"
   },
   {
    "duration": 58,
    "start_time": "2022-04-15T06:30:46.814Z"
   },
   {
    "duration": 29,
    "start_time": "2022-04-15T06:30:46.875Z"
   },
   {
    "duration": 52,
    "start_time": "2022-04-15T06:30:46.906Z"
   },
   {
    "duration": 55,
    "start_time": "2022-04-15T06:30:46.960Z"
   },
   {
    "duration": 48,
    "start_time": "2022-04-15T06:30:47.017Z"
   },
   {
    "duration": 66,
    "start_time": "2022-04-15T06:30:47.068Z"
   },
   {
    "duration": 54,
    "start_time": "2022-04-15T06:30:47.136Z"
   },
   {
    "duration": 52,
    "start_time": "2022-04-15T06:30:47.193Z"
   },
   {
    "duration": 45,
    "start_time": "2022-04-15T06:30:47.247Z"
   },
   {
    "duration": 82,
    "start_time": "2022-04-15T06:30:47.295Z"
   },
   {
    "duration": 75,
    "start_time": "2022-04-15T06:30:47.379Z"
   },
   {
    "duration": 69,
    "start_time": "2022-04-15T06:30:47.457Z"
   },
   {
    "duration": 49,
    "start_time": "2022-04-15T06:30:47.529Z"
   },
   {
    "duration": 39,
    "start_time": "2022-04-15T06:30:47.581Z"
   },
   {
    "duration": 34,
    "start_time": "2022-04-15T06:30:47.622Z"
   },
   {
    "duration": 43,
    "start_time": "2022-04-15T06:30:47.659Z"
   },
   {
    "duration": 30,
    "start_time": "2022-04-15T06:30:47.709Z"
   },
   {
    "duration": 26,
    "start_time": "2022-04-15T06:30:47.742Z"
   },
   {
    "duration": 42,
    "start_time": "2022-04-15T06:30:47.771Z"
   },
   {
    "duration": 80,
    "start_time": "2022-04-15T06:30:47.816Z"
   },
   {
    "duration": 34,
    "start_time": "2022-04-15T06:30:47.899Z"
   },
   {
    "duration": 56,
    "start_time": "2022-04-15T06:30:47.936Z"
   },
   {
    "duration": 40,
    "start_time": "2022-04-15T06:30:47.994Z"
   },
   {
    "duration": 29,
    "start_time": "2022-04-15T06:30:48.036Z"
   },
   {
    "duration": 15,
    "start_time": "2022-04-15T06:30:48.068Z"
   },
   {
    "duration": 51,
    "start_time": "2022-04-15T06:30:48.085Z"
   },
   {
    "duration": 40,
    "start_time": "2022-04-15T06:30:48.139Z"
   },
   {
    "duration": 52,
    "start_time": "2022-04-15T06:30:48.182Z"
   },
   {
    "duration": 84,
    "start_time": "2022-04-15T06:30:48.237Z"
   },
   {
    "duration": 61,
    "start_time": "2022-04-15T06:30:48.323Z"
   },
   {
    "duration": 103,
    "start_time": "2022-04-15T06:30:48.386Z"
   },
   {
    "duration": 71,
    "start_time": "2022-04-15T06:30:48.492Z"
   },
   {
    "duration": 55,
    "start_time": "2022-04-15T06:30:48.566Z"
   },
   {
    "duration": 44,
    "start_time": "2022-04-15T06:30:57.692Z"
   },
   {
    "duration": 11,
    "start_time": "2022-04-15T06:31:02.734Z"
   },
   {
    "duration": 40,
    "start_time": "2022-04-15T06:31:08.941Z"
   },
   {
    "duration": 10,
    "start_time": "2022-04-15T06:31:10.557Z"
   },
   {
    "duration": 32,
    "start_time": "2022-04-15T06:31:19.468Z"
   },
   {
    "duration": 10,
    "start_time": "2022-04-15T06:31:20.925Z"
   },
   {
    "duration": 31,
    "start_time": "2022-04-15T06:31:31.485Z"
   },
   {
    "duration": 12,
    "start_time": "2022-04-15T06:31:33.468Z"
   },
   {
    "duration": 30,
    "start_time": "2022-04-15T06:31:37.245Z"
   },
   {
    "duration": 11,
    "start_time": "2022-04-15T06:31:39.100Z"
   },
   {
    "duration": 51,
    "start_time": "2022-04-18T22:06:55.509Z"
   },
   {
    "duration": 8,
    "start_time": "2022-04-18T22:08:28.821Z"
   }
  ],
  "kernelspec": {
   "display_name": "Python 3 (ipykernel)",
   "language": "python",
   "name": "python3"
  },
  "language_info": {
   "codemirror_mode": {
    "name": "ipython",
    "version": 3
   },
   "file_extension": ".py",
   "mimetype": "text/x-python",
   "name": "python",
   "nbconvert_exporter": "python",
   "pygments_lexer": "ipython3",
   "version": "3.9.7"
  },
  "toc": {
   "base_numbering": 1,
   "nav_menu": {},
   "number_sections": true,
   "sideBar": true,
   "skip_h1_title": true,
   "title_cell": "Table of Contents",
   "title_sidebar": "Contents",
   "toc_cell": false,
   "toc_position": {},
   "toc_section_display": true,
   "toc_window_display": false
  }
 },
 "nbformat": 4,
 "nbformat_minor": 5
}
